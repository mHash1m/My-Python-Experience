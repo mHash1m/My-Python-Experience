{
 "cells": [
  {
   "cell_type": "code",
   "execution_count": 1,
   "metadata": {},
   "outputs": [],
   "source": [
    "import numpy as np\n",
    "import pandas as pd\n",
    "import os\n",
    "import matplotlib\n",
    "import seaborn as sns"
   ]
  },
  {
   "cell_type": "code",
   "execution_count": 2,
   "metadata": {},
   "outputs": [
    {
     "name": "stdout",
     "output_type": "stream",
     "text": [
      "['item_cats.csv', '.ipynb_checkpoints', 'item_categories.csv', 'sample_submission.csv.gz', 'items.csv', 'Sales Prediction.ipynb', 'sales_train.csv.gz', 'shops.csv', 'submission.csv', 'test.csv.gz']\n"
     ]
    }
   ],
   "source": [
    "print(os.listdir(\"./\"))"
   ]
  },
  {
   "cell_type": "code",
   "execution_count": 3,
   "metadata": {},
   "outputs": [],
   "source": [
    "items = pd.read_csv('items.csv')\n",
    "cats = pd.read_csv('item_categories.csv')\n",
    "shops = pd.read_csv(\"shops.csv\")\n",
    "transactions = pd.read_csv(\"sales_train.csv.gz\")\n",
    "test = pd.read_csv(\"test.csv.gz\")"
   ]
  },
  {
   "cell_type": "code",
   "execution_count": 4,
   "metadata": {},
   "outputs": [
    {
     "data": {
      "text/plain": [
       "date_block_num       34\n",
       "shop_id              60\n",
       "item_cnt_day        198\n",
       "date               1034\n",
       "item_price        19993\n",
       "item_id           21807\n",
       "dtype: int64"
      ]
     },
     "execution_count": 4,
     "metadata": {},
     "output_type": "execute_result"
    }
   ],
   "source": [
    "un = transactions.nunique(dropna = False)\n",
    "un.sort_values()[:10]"
   ]
  },
  {
   "cell_type": "code",
   "execution_count": 5,
   "metadata": {},
   "outputs": [
    {
     "data": {
      "text/plain": [
       "<bound method NDFrame.head of                date  date_block_num  shop_id  item_id  item_price  \\\n",
       "0        02.01.2013               0       59    22154       999.0   \n",
       "1        23.01.2013               0       24    22154       999.0   \n",
       "2        20.01.2013               0       27    22154       999.0   \n",
       "3        02.01.2013               0       25    22154       999.0   \n",
       "4        03.01.2013               0       25    22154       999.0   \n",
       "...             ...             ...      ...      ...         ...   \n",
       "2935844  17.10.2015              33       25     8428       249.0   \n",
       "2935845  01.10.2015              33       25     7903     12198.0   \n",
       "2935846  29.10.2015              33       25     7610      2890.0   \n",
       "2935847  22.10.2015              33       25     7635      2100.0   \n",
       "2935848  01.10.2015              33       25     7640      4040.0   \n",
       "\n",
       "         item_cnt_day  day  month  year  item_category_id  \n",
       "0                 1.0    2      1  2013                37  \n",
       "1                 1.0   23      1  2013                37  \n",
       "2                 1.0   20      1  2013                37  \n",
       "3                 1.0    2      1  2013                37  \n",
       "4                 1.0    3      1  2013                37  \n",
       "...               ...  ...    ...   ...               ...  \n",
       "2935844           1.0   17     10  2015                40  \n",
       "2935845           1.0    1     10  2015                15  \n",
       "2935846           1.0   29     10  2015                64  \n",
       "2935847           1.0   22     10  2015                64  \n",
       "2935848           1.0    1     10  2015                64  \n",
       "\n",
       "[2935849 rows x 10 columns]>"
      ]
     },
     "execution_count": 5,
     "metadata": {},
     "output_type": "execute_result"
    }
   ],
   "source": [
    "transactions['day'] = pd.DatetimeIndex(transactions['date'], dayfirst = True).day\n",
    "transactions['month'] = pd.DatetimeIndex(transactions['date'], dayfirst = True).month\n",
    "transactions['year'] = pd.DatetimeIndex(transactions['date'], dayfirst = True).year\n",
    "transactions = transactions.merge(items.drop(['item_name'], axis = 1), on = 'item_id')\n",
    "transactions.head"
   ]
  },
  {
   "cell_type": "code",
   "execution_count": 6,
   "metadata": {},
   "outputs": [
    {
     "data": {
      "text/plain": [
       "date                0\n",
       "date_block_num      0\n",
       "shop_id             0\n",
       "item_id             0\n",
       "item_price          0\n",
       "item_cnt_day        0\n",
       "day                 0\n",
       "month               0\n",
       "year                0\n",
       "item_category_id    0\n",
       "dtype: int64"
      ]
     },
     "execution_count": 6,
     "metadata": {},
     "output_type": "execute_result"
    }
   ],
   "source": [
    "transactions.isnull().sum(axis=0).head(15)"
   ]
  },
  {
   "cell_type": "code",
   "execution_count": 7,
   "metadata": {},
   "outputs": [
    {
     "data": {
      "text/plain": [
       "<bound method NDFrame.head of                date  date_block_num  shop_id  item_id  item_price  \\\n",
       "0        02.01.2013               0       59    22154       999.0   \n",
       "1        23.01.2013               0       24    22154       999.0   \n",
       "2        20.01.2013               0       27    22154       999.0   \n",
       "3        02.01.2013               0       25    22154       999.0   \n",
       "4        03.01.2013               0       25    22154       999.0   \n",
       "...             ...             ...      ...      ...         ...   \n",
       "2935844  17.10.2015              33       25     8428       249.0   \n",
       "2935845  01.10.2015              33       25     7903     12198.0   \n",
       "2935846  29.10.2015              33       25     7610      2890.0   \n",
       "2935847  22.10.2015              33       25     7635      2100.0   \n",
       "2935848  01.10.2015              33       25     7640      4040.0   \n",
       "\n",
       "         item_cnt_day  day  month  year  item_category_id  item_price_100  \n",
       "0                 1.0    2      1  2013                37            99.0  \n",
       "1                 1.0   23      1  2013                37            99.0  \n",
       "2                 1.0   20      1  2013                37            99.0  \n",
       "3                 1.0    2      1  2013                37            99.0  \n",
       "4                 1.0    3      1  2013                37            99.0  \n",
       "...               ...  ...    ...   ...               ...             ...  \n",
       "2935844           1.0   17     10  2015                40            49.0  \n",
       "2935845           1.0    1     10  2015                15            98.0  \n",
       "2935846           1.0   29     10  2015                64            90.0  \n",
       "2935847           1.0   22     10  2015                64             0.0  \n",
       "2935848           1.0    1     10  2015                64            40.0  \n",
       "\n",
       "[2935849 rows x 11 columns]>"
      ]
     },
     "execution_count": 7,
     "metadata": {},
     "output_type": "execute_result"
    }
   ],
   "source": [
    "transactions['item_price_100'] = transactions['item_price']%100\n",
    "transactions.head"
   ]
  },
  {
   "cell_type": "code",
   "execution_count": 8,
   "metadata": {},
   "outputs": [],
   "source": [
    "# corr = transactions.corr()\n",
    "# g = sns.heatmap(corr,  vmax=.3, center=0,\n",
    "#             square=True, linewidths=.5, cbar_kws={\"shrink\": .5}, annot=True, fmt='.2f', cmap='coolwarm')\n",
    "# sns.despine()\n",
    "# g.figure.set_size_inches(14,10)"
   ]
  },
  {
   "cell_type": "code",
   "execution_count": null,
   "metadata": {},
   "outputs": [],
   "source": []
  },
  {
   "cell_type": "code",
   "execution_count": 9,
   "metadata": {},
   "outputs": [],
   "source": [
    "\n",
    "# ax = sns.pairplot(transactions)"
   ]
  },
  {
   "cell_type": "code",
   "execution_count": 10,
   "metadata": {},
   "outputs": [
    {
     "data": {
      "text/plain": [
       "(53514, 11)"
      ]
     },
     "execution_count": 10,
     "metadata": {},
     "output_type": "execute_result"
    }
   ],
   "source": [
    "transactions[transactions['date_block_num'] == 33].shape"
   ]
  },
  {
   "cell_type": "code",
   "execution_count": 11,
   "metadata": {},
   "outputs": [
    {
     "data": {
      "text/html": [
       "<div>\n",
       "<style scoped>\n",
       "    .dataframe tbody tr th:only-of-type {\n",
       "        vertical-align: middle;\n",
       "    }\n",
       "\n",
       "    .dataframe tbody tr th {\n",
       "        vertical-align: top;\n",
       "    }\n",
       "\n",
       "    .dataframe thead th {\n",
       "        text-align: right;\n",
       "    }\n",
       "</style>\n",
       "<table border=\"1\" class=\"dataframe\">\n",
       "  <thead>\n",
       "    <tr style=\"text-align: right;\">\n",
       "      <th></th>\n",
       "      <th>ID</th>\n",
       "      <th>shop_id</th>\n",
       "      <th>item_id</th>\n",
       "    </tr>\n",
       "  </thead>\n",
       "  <tbody>\n",
       "    <tr>\n",
       "      <th>0</th>\n",
       "      <td>0</td>\n",
       "      <td>5</td>\n",
       "      <td>5037</td>\n",
       "    </tr>\n",
       "    <tr>\n",
       "      <th>1</th>\n",
       "      <td>1</td>\n",
       "      <td>5</td>\n",
       "      <td>5320</td>\n",
       "    </tr>\n",
       "    <tr>\n",
       "      <th>2</th>\n",
       "      <td>2</td>\n",
       "      <td>5</td>\n",
       "      <td>5233</td>\n",
       "    </tr>\n",
       "    <tr>\n",
       "      <th>3</th>\n",
       "      <td>3</td>\n",
       "      <td>5</td>\n",
       "      <td>5232</td>\n",
       "    </tr>\n",
       "    <tr>\n",
       "      <th>4</th>\n",
       "      <td>4</td>\n",
       "      <td>5</td>\n",
       "      <td>5268</td>\n",
       "    </tr>\n",
       "  </tbody>\n",
       "</table>\n",
       "</div>"
      ],
      "text/plain": [
       "   ID  shop_id  item_id\n",
       "0   0        5     5037\n",
       "1   1        5     5320\n",
       "2   2        5     5233\n",
       "3   3        5     5232\n",
       "4   4        5     5268"
      ]
     },
     "execution_count": 11,
     "metadata": {},
     "output_type": "execute_result"
    }
   ],
   "source": [
    "test.head()"
   ]
  },
  {
   "cell_type": "code",
   "execution_count": 12,
   "metadata": {},
   "outputs": [
    {
     "data": {
      "text/plain": [
       "0"
      ]
     },
     "execution_count": 12,
     "metadata": {},
     "output_type": "execute_result"
    }
   ],
   "source": [
    "test.duplicated().sum()"
   ]
  },
  {
   "cell_type": "code",
   "execution_count": 13,
   "metadata": {},
   "outputs": [
    {
     "data": {
      "text/html": [
       "<div>\n",
       "<style scoped>\n",
       "    .dataframe tbody tr th:only-of-type {\n",
       "        vertical-align: middle;\n",
       "    }\n",
       "\n",
       "    .dataframe tbody tr th {\n",
       "        vertical-align: top;\n",
       "    }\n",
       "\n",
       "    .dataframe thead th {\n",
       "        text-align: right;\n",
       "    }\n",
       "</style>\n",
       "<table border=\"1\" class=\"dataframe\">\n",
       "  <thead>\n",
       "    <tr style=\"text-align: right;\">\n",
       "      <th></th>\n",
       "      <th>date_block_num</th>\n",
       "      <th>shop_id</th>\n",
       "      <th>item_id</th>\n",
       "      <th>item_cnt_day</th>\n",
       "    </tr>\n",
       "  </thead>\n",
       "  <tbody>\n",
       "    <tr>\n",
       "      <th>0</th>\n",
       "      <td>0</td>\n",
       "      <td>59</td>\n",
       "      <td>22154</td>\n",
       "      <td>1.0</td>\n",
       "    </tr>\n",
       "    <tr>\n",
       "      <th>1</th>\n",
       "      <td>0</td>\n",
       "      <td>24</td>\n",
       "      <td>22154</td>\n",
       "      <td>1.0</td>\n",
       "    </tr>\n",
       "    <tr>\n",
       "      <th>2</th>\n",
       "      <td>0</td>\n",
       "      <td>27</td>\n",
       "      <td>22154</td>\n",
       "      <td>1.0</td>\n",
       "    </tr>\n",
       "    <tr>\n",
       "      <th>3</th>\n",
       "      <td>0</td>\n",
       "      <td>25</td>\n",
       "      <td>22154</td>\n",
       "      <td>1.0</td>\n",
       "    </tr>\n",
       "    <tr>\n",
       "      <th>4</th>\n",
       "      <td>0</td>\n",
       "      <td>25</td>\n",
       "      <td>22154</td>\n",
       "      <td>1.0</td>\n",
       "    </tr>\n",
       "  </tbody>\n",
       "</table>\n",
       "</div>"
      ],
      "text/plain": [
       "   date_block_num  shop_id  item_id  item_cnt_day\n",
       "0               0       59    22154           1.0\n",
       "1               0       24    22154           1.0\n",
       "2               0       27    22154           1.0\n",
       "3               0       25    22154           1.0\n",
       "4               0       25    22154           1.0"
      ]
     },
     "execution_count": 13,
     "metadata": {},
     "output_type": "execute_result"
    }
   ],
   "source": [
    "monthly_trans = transactions[['date_block_num', 'shop_id', 'item_id', 'item_cnt_day']]\n",
    "\n",
    "monthly_trans.head()"
   ]
  },
  {
   "cell_type": "code",
   "execution_count": null,
   "metadata": {},
   "outputs": [],
   "source": []
  },
  {
   "cell_type": "code",
   "execution_count": 14,
   "metadata": {},
   "outputs": [
    {
     "data": {
      "text/plain": [
       "(214200, 1)"
      ]
     },
     "execution_count": 14,
     "metadata": {},
     "output_type": "execute_result"
    }
   ],
   "source": [
    "#creating last month sales as submission\n",
    "submission = test.copy()\n",
    "monthly_trans = monthly_trans[monthly_trans['date_block_num'] == 33]\n",
    "test_A = pd.merge(test, monthly_trans, left_on=['shop_id', 'item_id'], right_on=['shop_id', 'item_id'], how=\"left\")\n",
    "test_A = test_A.groupby(['ID']).sum()\n",
    "test_A.drop(['shop_id', 'item_id', 'date_block_num'], axis = 1, inplace = True)\n",
    "test_A = test_A.clip(0,20)\n",
    "test_A.columns = ['item_cnt_month']\n",
    "test_A.index.name = 'ID'\n",
    "test_A.to_csv('submission.csv')\n",
    "test_A.shape"
   ]
  },
  {
   "cell_type": "code",
   "execution_count": 15,
   "metadata": {},
   "outputs": [
    {
     "data": {
      "text/plain": [
       "<bound method NDFrame.head of                date  date_block_num  shop_id  item_id  item_price  \\\n",
       "0        02.01.2013               0       59    22154       999.0   \n",
       "1        23.01.2013               0       24    22154       999.0   \n",
       "2        20.01.2013               0       27    22154       999.0   \n",
       "3        02.01.2013               0       25    22154       999.0   \n",
       "4        03.01.2013               0       25    22154       999.0   \n",
       "...             ...             ...      ...      ...         ...   \n",
       "2935844  17.10.2015              33       25     8428       249.0   \n",
       "2935845  01.10.2015              33       25     7903     12198.0   \n",
       "2935846  29.10.2015              33       25     7610      2890.0   \n",
       "2935847  22.10.2015              33       25     7635      2100.0   \n",
       "2935848  01.10.2015              33       25     7640      4040.0   \n",
       "\n",
       "         item_cnt_day  day  month  year  item_category_id  item_price_100  \\\n",
       "0                 1.0    2      1  2013                37            99.0   \n",
       "1                 1.0   23      1  2013                37            99.0   \n",
       "2                 1.0   20      1  2013                37            99.0   \n",
       "3                 1.0    2      1  2013                37            99.0   \n",
       "4                 1.0    3      1  2013                37            99.0   \n",
       "...               ...  ...    ...   ...               ...             ...   \n",
       "2935844           1.0   17     10  2015                40            49.0   \n",
       "2935845           1.0    1     10  2015                15            98.0   \n",
       "2935846           1.0   29     10  2015                64            90.0   \n",
       "2935847           1.0   22     10  2015                64             0.0   \n",
       "2935848           1.0    1     10  2015                64            40.0   \n",
       "\n",
       "         item_cnt_month  \n",
       "0                   1.0  \n",
       "1                   1.0  \n",
       "2                   1.0  \n",
       "3                   5.0  \n",
       "4                   5.0  \n",
       "...                 ...  \n",
       "2935844             1.0  \n",
       "2935845             1.0  \n",
       "2935846             1.0  \n",
       "2935847             1.0  \n",
       "2935848             1.0  \n",
       "\n",
       "[2935849 rows x 12 columns]>"
      ]
     },
     "execution_count": 15,
     "metadata": {},
     "output_type": "execute_result"
    }
   ],
   "source": [
    "monthly_cnt = transactions.groupby(['date_block_num', 'shop_id', 'item_id'], as_index = False)['item_cnt_day'].sum()\n",
    "monthly_cnt.columns = ['date_block_num', 'shop_id', 'item_id', 'item_cnt_month']\n",
    "# monthly_cnt.head\n",
    "transactions = transactions.merge(monthly_cnt, on = ['date_block_num', 'shop_id', 'item_id'], how= 'left')\n",
    "transactions.head"
   ]
  },
  {
   "cell_type": "code",
   "execution_count": 16,
   "metadata": {},
   "outputs": [
    {
     "data": {
      "text/plain": [
       "<bound method NDFrame.head of          date_block_num  shop_id  item_id  item_cnt_month\n",
       "0                     0        0       32             6.0\n",
       "1                     0        0       33             3.0\n",
       "2                     0        0       35             1.0\n",
       "3                     0        0       43             1.0\n",
       "4                     0        0       51             2.0\n",
       "...                 ...      ...      ...             ...\n",
       "1609119              33       59    22087             6.0\n",
       "1609120              33       59    22088             2.0\n",
       "1609121              33       59    22091             1.0\n",
       "1609122              33       59    22100             1.0\n",
       "1609123              33       59    22102             1.0\n",
       "\n",
       "[1609124 rows x 4 columns]>"
      ]
     },
     "execution_count": 16,
     "metadata": {},
     "output_type": "execute_result"
    }
   ],
   "source": [
    "monthly_cnt.head"
   ]
  },
  {
   "cell_type": "code",
   "execution_count": 17,
   "metadata": {},
   "outputs": [
    {
     "data": {
      "text/plain": [
       "date_block_num  shop_id  item_id\n",
       "0               0        32         6.0\n",
       "                         33         3.0\n",
       "                         35         1.0\n",
       "                         43         1.0\n",
       "                         51         2.0\n",
       "                                   ... \n",
       "33              59       22087      6.0\n",
       "                         22088      2.0\n",
       "                         22091      1.0\n",
       "                         22100      1.0\n",
       "                         22102      1.0\n",
       "Name: item_cnt_day, Length: 1609124, dtype: float64"
      ]
     },
     "execution_count": 17,
     "metadata": {},
     "output_type": "execute_result"
    }
   ],
   "source": [
    "transactions.groupby(['date_block_num', 'shop_id', 'item_id'])['item_cnt_day'].sum()"
   ]
  },
  {
   "cell_type": "code",
   "execution_count": 18,
   "metadata": {},
   "outputs": [
    {
     "data": {
      "text/plain": [
       "count    1.609124e+06\n",
       "mean     2.267200e+00\n",
       "std      8.649882e+00\n",
       "min     -2.200000e+01\n",
       "25%      1.000000e+00\n",
       "50%      1.000000e+00\n",
       "75%      2.000000e+00\n",
       "max      2.253000e+03\n",
       "Name: item_cnt_day, dtype: float64"
      ]
     },
     "execution_count": 18,
     "metadata": {},
     "output_type": "execute_result"
    }
   ],
   "source": [
    "#feature check\n",
    "transactions.groupby(['date_block_num', 'shop_id', 'item_id'])['item_cnt_day'].sum().describe()"
   ]
  },
  {
   "cell_type": "code",
   "execution_count": 19,
   "metadata": {},
   "outputs": [
    {
     "data": {
      "text/plain": [
       "count    2.935849e+06\n",
       "mean     7.400887e+00\n",
       "std      3.033513e+01\n",
       "min     -2.200000e+01\n",
       "25%      1.000000e+00\n",
       "50%      2.000000e+00\n",
       "75%      5.000000e+00\n",
       "max      2.253000e+03\n",
       "Name: item_cnt_month, dtype: float64"
      ]
     },
     "execution_count": 19,
     "metadata": {},
     "output_type": "execute_result"
    }
   ],
   "source": [
    "transactions['item_cnt_month'].describe()"
   ]
  },
  {
   "cell_type": "code",
   "execution_count": 20,
   "metadata": {},
   "outputs": [
    {
     "data": {
      "text/plain": [
       "1326725"
      ]
     },
     "execution_count": 20,
     "metadata": {},
     "output_type": "execute_result"
    }
   ],
   "source": [
    "transactions[['date_block_num', 'shop_id', 'item_id', 'item_cnt_month']].duplicated().sum()"
   ]
  },
  {
   "cell_type": "code",
   "execution_count": 21,
   "metadata": {},
   "outputs": [
    {
     "data": {
      "text/plain": [
       "2935849"
      ]
     },
     "execution_count": 21,
     "metadata": {},
     "output_type": "execute_result"
    }
   ],
   "source": [
    "#Adding counts to see if the missing rows are duplicates and the feature is correct\n",
    "1609124 + 1326725"
   ]
  },
  {
   "cell_type": "code",
   "execution_count": 22,
   "metadata": {},
   "outputs": [
    {
     "name": "stderr",
     "output_type": "stream",
     "text": [
      "/home/hash1m/miniconda3/lib/python3.7/site-packages/ipykernel_launcher.py:3: SettingWithCopyWarning: \n",
      "A value is trying to be set on a copy of a slice from a DataFrame.\n",
      "Try using .loc[row_indexer,col_indexer] = value instead\n",
      "\n",
      "See the caveats in the documentation: https://pandas.pydata.org/pandas-docs/stable/user_guide/indexing.html#returning-a-view-versus-a-copy\n",
      "  This is separate from the ipykernel package so we can avoid doing imports until\n"
     ]
    },
    {
     "data": {
      "text/plain": [
       "<bound method NDFrame.head of          date_block_num  shop_id  item_id  item_cnt_month  lag\n",
       "0                     0       59    22154             1.0  NaN\n",
       "1                     0       24    22154             1.0  NaN\n",
       "2                     0       27    22154             1.0  NaN\n",
       "3                     0       25    22154             5.0  NaN\n",
       "4                     0       25    22154             5.0  5.0\n",
       "...                 ...      ...      ...             ...  ...\n",
       "2935844              33       25     8428             1.0  NaN\n",
       "2935845              33       25     7903             1.0  NaN\n",
       "2935846              33       25     7610             1.0  NaN\n",
       "2935847              33       25     7635             1.0  NaN\n",
       "2935848              33       25     7640             1.0  NaN\n",
       "\n",
       "[2935849 rows x 5 columns]>"
      ]
     },
     "execution_count": 22,
     "metadata": {},
     "output_type": "execute_result"
    }
   ],
   "source": [
    "#creating lag feature of sales prev month.\n",
    "trans = transactions[['date_block_num', 'shop_id', 'item_id', 'item_cnt_month']]\n",
    "trans['lag'] = trans.groupby(['shop_id', 'item_id'], as_index = False)['item_cnt_month'].shift()\n",
    "# trans['date_block_num'] = transactions['date_block_num'] - 1\n",
    "# transactions[transactions['date_block_num'] == trans['date_block_num']]\n",
    "# transactions['lag_item_cnt_day'] = transactions[transactions['day'] == trans['day'] & transactions['date_block_num'] == (trans['date_block_num'] - 1)]\n",
    "# transactions['lag_item_cnt_day'] = transactions[transactions['date_block_num'] == transactions['date_block_num'] - 1]['item_cnt_day']\n",
    "# transactions['lag_item_cnt_day'].sum()\n",
    "# trans = trans.set_index('date_block_num')\n",
    "# trans = trans['item_cnt_month'].shift(1)\n",
    "# print(trans['item_cnt_day'].shape, transactions['item_cnt_day'].shape)\n",
    "# trans = trans.reset_index()\n",
    "# trans.columns = ['date_block_num', 'lag_item_cnt_month']\n",
    "trans.head\n",
    "# gg = transactions.merge(trans, on='date_block_num', how = 'left')"
   ]
  },
  {
   "cell_type": "code",
   "execution_count": 23,
   "metadata": {},
   "outputs": [
    {
     "data": {
      "text/plain": [
       "date_block_num         0\n",
       "shop_id                0\n",
       "item_id                0\n",
       "item_cnt_month         0\n",
       "lag               424124\n",
       "dtype: int64"
      ]
     },
     "execution_count": 23,
     "metadata": {},
     "output_type": "execute_result"
    }
   ],
   "source": [
    "trans.isnull().sum()"
   ]
  },
  {
   "cell_type": "code",
   "execution_count": 34,
   "metadata": {},
   "outputs": [
    {
     "data": {
      "text/html": [
       "<div>\n",
       "<style scoped>\n",
       "    .dataframe tbody tr th:only-of-type {\n",
       "        vertical-align: middle;\n",
       "    }\n",
       "\n",
       "    .dataframe tbody tr th {\n",
       "        vertical-align: top;\n",
       "    }\n",
       "\n",
       "    .dataframe thead th {\n",
       "        text-align: right;\n",
       "    }\n",
       "</style>\n",
       "<table border=\"1\" class=\"dataframe\">\n",
       "  <thead>\n",
       "    <tr style=\"text-align: right;\">\n",
       "      <th></th>\n",
       "      <th>date_block_num</th>\n",
       "      <th>shop_id</th>\n",
       "      <th>item_id</th>\n",
       "      <th>item_cnt_month</th>\n",
       "      <th>lag</th>\n",
       "    </tr>\n",
       "  </thead>\n",
       "  <tbody>\n",
       "    <tr>\n",
       "      <th>3</th>\n",
       "      <td>0</td>\n",
       "      <td>25</td>\n",
       "      <td>22154</td>\n",
       "      <td>5.0</td>\n",
       "      <td>NaN</td>\n",
       "    </tr>\n",
       "    <tr>\n",
       "      <th>4</th>\n",
       "      <td>0</td>\n",
       "      <td>25</td>\n",
       "      <td>22154</td>\n",
       "      <td>5.0</td>\n",
       "      <td>5.0</td>\n",
       "    </tr>\n",
       "    <tr>\n",
       "      <th>5</th>\n",
       "      <td>0</td>\n",
       "      <td>25</td>\n",
       "      <td>22154</td>\n",
       "      <td>5.0</td>\n",
       "      <td>5.0</td>\n",
       "    </tr>\n",
       "    <tr>\n",
       "      <th>6</th>\n",
       "      <td>0</td>\n",
       "      <td>25</td>\n",
       "      <td>22154</td>\n",
       "      <td>5.0</td>\n",
       "      <td>5.0</td>\n",
       "    </tr>\n",
       "    <tr>\n",
       "      <th>7</th>\n",
       "      <td>0</td>\n",
       "      <td>25</td>\n",
       "      <td>22154</td>\n",
       "      <td>5.0</td>\n",
       "      <td>5.0</td>\n",
       "    </tr>\n",
       "    <tr>\n",
       "      <th>49</th>\n",
       "      <td>31</td>\n",
       "      <td>25</td>\n",
       "      <td>22154</td>\n",
       "      <td>1.0</td>\n",
       "      <td>5.0</td>\n",
       "    </tr>\n",
       "    <tr>\n",
       "      <th>53</th>\n",
       "      <td>32</td>\n",
       "      <td>25</td>\n",
       "      <td>22154</td>\n",
       "      <td>1.0</td>\n",
       "      <td>1.0</td>\n",
       "    </tr>\n",
       "  </tbody>\n",
       "</table>\n",
       "</div>"
      ],
      "text/plain": [
       "    date_block_num  shop_id  item_id  item_cnt_month  lag\n",
       "3                0       25    22154             5.0  NaN\n",
       "4                0       25    22154             5.0  5.0\n",
       "5                0       25    22154             5.0  5.0\n",
       "6                0       25    22154             5.0  5.0\n",
       "7                0       25    22154             5.0  5.0\n",
       "49              31       25    22154             1.0  5.0\n",
       "53              32       25    22154             1.0  1.0"
      ]
     },
     "execution_count": 34,
     "metadata": {},
     "output_type": "execute_result"
    }
   ],
   "source": [
    "#lets check if our lag features are correct\n",
    "trans[(trans['shop_id'] == 25) & (trans['item_id'] == 22154)]\n",
    "\n",
    "## Note: Get rid of daily data and convert it to monthly data which we will need at the end.\n",
    "## Also lag feature doesnt work"
   ]
  },
  {
   "cell_type": "code",
   "execution_count": null,
   "metadata": {},
   "outputs": [],
   "source": []
  },
  {
   "cell_type": "code",
   "execution_count": null,
   "metadata": {},
   "outputs": [],
   "source": []
  },
  {
   "cell_type": "code",
   "execution_count": null,
   "metadata": {},
   "outputs": [],
   "source": []
  },
  {
   "cell_type": "code",
   "execution_count": null,
   "metadata": {},
   "outputs": [],
   "source": []
  }
 ],
 "metadata": {
  "kernelspec": {
   "display_name": "Python 3",
   "language": "python",
   "name": "python3"
  },
  "language_info": {
   "codemirror_mode": {
    "name": "ipython",
    "version": 3
   },
   "file_extension": ".py",
   "mimetype": "text/x-python",
   "name": "python",
   "nbconvert_exporter": "python",
   "pygments_lexer": "ipython3",
   "version": "3.7.7"
  }
 },
 "nbformat": 4,
 "nbformat_minor": 4
}

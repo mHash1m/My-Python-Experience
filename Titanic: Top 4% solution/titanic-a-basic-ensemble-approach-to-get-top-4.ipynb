{
 "cells": [
  {
   "cell_type": "markdown",
   "metadata": {
    "papermill": {
     "duration": 0.052136,
     "end_time": "2020-10-22T10:30:57.179097",
     "exception": false,
     "start_time": "2020-10-22T10:30:57.126961",
     "status": "completed"
    },
    "tags": []
   },
   "source": [
    "Feel free to make any suggestions that will help make this notebook better. \n",
    "The EDA and Feature Engineering was inspired by [Kenjee's Notebook on Titanic](https://www.kaggle.com/kenjee/titanic-project-example). "
   ]
  },
  {
   "cell_type": "code",
   "execution_count": 1,
   "metadata": {
    "_cell_guid": "b1076dfc-b9ad-4769-8c92-a6c4dae69d19",
    "_uuid": "8f2839f25d086af736a60e9eeb907d3b93b6e0e5",
    "execution": {
     "iopub.execute_input": "2020-10-22T10:30:57.285823Z",
     "iopub.status.busy": "2020-10-22T10:30:57.285314Z",
     "iopub.status.idle": "2020-10-22T10:30:58.267081Z",
     "shell.execute_reply": "2020-10-22T10:30:58.266501Z"
    },
    "papermill": {
     "duration": 1.037613,
     "end_time": "2020-10-22T10:30:58.267170",
     "exception": false,
     "start_time": "2020-10-22T10:30:57.229557",
     "status": "completed"
    },
    "tags": []
   },
   "outputs": [
    {
     "name": "stdout",
     "output_type": "stream",
     "text": [
      "/kaggle/input/titanic/train.csv\n",
      "/kaggle/input/titanic/gender_submission.csv\n",
      "/kaggle/input/titanic/test.csv\n"
     ]
    }
   ],
   "source": [
    "# This Python 3 environment comes with many helpful analytics libraries installed\n",
    "# It is defined by the kaggle/python Docker image: https://github.com/kaggle/docker-python\n",
    "# For example, here's several helpful packages to load\n",
    "\n",
    "import numpy as np # linear algebra\n",
    "import pandas as pd # data processing, CSV file I/O (e.g. pd.read_csv)\n",
    "import seaborn as sns \n",
    "import matplotlib.pyplot as plt\n",
    "# Input data files are available in the read-only \"../input/\" directory\n",
    "# For example, running this (by clicking run or pressing Shift+Enter) will list all files under the input directory\n",
    "\n",
    "import os\n",
    "for dirname, _, filenames in os.walk('/kaggle/input'):\n",
    "    for filename in filenames:\n",
    "        print(os.path.join(dirname, filename))\n",
    "\n",
    "# You can write up to 5GB to the current directory (/kaggle/working/) that gets preserved as output when you create a version using \"Save & Run All\" \n",
    "# You can also write temporary files to /kaggle/temp/, but they won't be saved outside of the current session"
   ]
  },
  {
   "cell_type": "markdown",
   "metadata": {
    "papermill": {
     "duration": 0.034236,
     "end_time": "2020-10-22T10:30:58.336546",
     "exception": false,
     "start_time": "2020-10-22T10:30:58.302310",
     "status": "completed"
    },
    "tags": []
   },
   "source": [
    "Importing our Data from Kaggle."
   ]
  },
  {
   "cell_type": "code",
   "execution_count": 2,
   "metadata": {
    "execution": {
     "iopub.execute_input": "2020-10-22T10:30:58.410484Z",
     "iopub.status.busy": "2020-10-22T10:30:58.409982Z",
     "iopub.status.idle": "2020-10-22T10:30:58.418034Z",
     "shell.execute_reply": "2020-10-22T10:30:58.417583Z"
    },
    "papermill": {
     "duration": 0.047705,
     "end_time": "2020-10-22T10:30:58.418125",
     "exception": false,
     "start_time": "2020-10-22T10:30:58.370420",
     "status": "completed"
    },
    "tags": []
   },
   "outputs": [],
   "source": [
    "gs = pd.read_csv(\"/kaggle/input/titanic/gender_submission.csv\")"
   ]
  },
  {
   "cell_type": "code",
   "execution_count": 3,
   "metadata": {
    "_cell_guid": "79c7e3d0-c299-4dcb-8224-4455121ee9b0",
    "_uuid": "d629ff2d2480ee46fbb7e2d37f6b5fab8052498a",
    "execution": {
     "iopub.execute_input": "2020-10-22T10:30:58.492224Z",
     "iopub.status.busy": "2020-10-22T10:30:58.491752Z",
     "iopub.status.idle": "2020-10-22T10:30:58.521697Z",
     "shell.execute_reply": "2020-10-22T10:30:58.521031Z"
    },
    "papermill": {
     "duration": 0.068103,
     "end_time": "2020-10-22T10:30:58.521808",
     "exception": false,
     "start_time": "2020-10-22T10:30:58.453705",
     "status": "completed"
    },
    "tags": []
   },
   "outputs": [
    {
     "data": {
      "text/html": [
       "<div>\n",
       "<style scoped>\n",
       "    .dataframe tbody tr th:only-of-type {\n",
       "        vertical-align: middle;\n",
       "    }\n",
       "\n",
       "    .dataframe tbody tr th {\n",
       "        vertical-align: top;\n",
       "    }\n",
       "\n",
       "    .dataframe thead th {\n",
       "        text-align: right;\n",
       "    }\n",
       "</style>\n",
       "<table border=\"1\" class=\"dataframe\">\n",
       "  <thead>\n",
       "    <tr style=\"text-align: right;\">\n",
       "      <th></th>\n",
       "      <th>PassengerId</th>\n",
       "      <th>Survived</th>\n",
       "      <th>Pclass</th>\n",
       "      <th>Name</th>\n",
       "      <th>Sex</th>\n",
       "      <th>Age</th>\n",
       "      <th>SibSp</th>\n",
       "      <th>Parch</th>\n",
       "      <th>Ticket</th>\n",
       "      <th>Fare</th>\n",
       "      <th>Cabin</th>\n",
       "      <th>Embarked</th>\n",
       "    </tr>\n",
       "  </thead>\n",
       "  <tbody>\n",
       "    <tr>\n",
       "      <th>0</th>\n",
       "      <td>1</td>\n",
       "      <td>0</td>\n",
       "      <td>3</td>\n",
       "      <td>Braund, Mr. Owen Harris</td>\n",
       "      <td>male</td>\n",
       "      <td>22.0</td>\n",
       "      <td>1</td>\n",
       "      <td>0</td>\n",
       "      <td>A/5 21171</td>\n",
       "      <td>7.2500</td>\n",
       "      <td>NaN</td>\n",
       "      <td>S</td>\n",
       "    </tr>\n",
       "    <tr>\n",
       "      <th>1</th>\n",
       "      <td>2</td>\n",
       "      <td>1</td>\n",
       "      <td>1</td>\n",
       "      <td>Cumings, Mrs. John Bradley (Florence Briggs Th...</td>\n",
       "      <td>female</td>\n",
       "      <td>38.0</td>\n",
       "      <td>1</td>\n",
       "      <td>0</td>\n",
       "      <td>PC 17599</td>\n",
       "      <td>71.2833</td>\n",
       "      <td>C85</td>\n",
       "      <td>C</td>\n",
       "    </tr>\n",
       "    <tr>\n",
       "      <th>2</th>\n",
       "      <td>3</td>\n",
       "      <td>1</td>\n",
       "      <td>3</td>\n",
       "      <td>Heikkinen, Miss. Laina</td>\n",
       "      <td>female</td>\n",
       "      <td>26.0</td>\n",
       "      <td>0</td>\n",
       "      <td>0</td>\n",
       "      <td>STON/O2. 3101282</td>\n",
       "      <td>7.9250</td>\n",
       "      <td>NaN</td>\n",
       "      <td>S</td>\n",
       "    </tr>\n",
       "    <tr>\n",
       "      <th>3</th>\n",
       "      <td>4</td>\n",
       "      <td>1</td>\n",
       "      <td>1</td>\n",
       "      <td>Futrelle, Mrs. Jacques Heath (Lily May Peel)</td>\n",
       "      <td>female</td>\n",
       "      <td>35.0</td>\n",
       "      <td>1</td>\n",
       "      <td>0</td>\n",
       "      <td>113803</td>\n",
       "      <td>53.1000</td>\n",
       "      <td>C123</td>\n",
       "      <td>S</td>\n",
       "    </tr>\n",
       "    <tr>\n",
       "      <th>4</th>\n",
       "      <td>5</td>\n",
       "      <td>0</td>\n",
       "      <td>3</td>\n",
       "      <td>Allen, Mr. William Henry</td>\n",
       "      <td>male</td>\n",
       "      <td>35.0</td>\n",
       "      <td>0</td>\n",
       "      <td>0</td>\n",
       "      <td>373450</td>\n",
       "      <td>8.0500</td>\n",
       "      <td>NaN</td>\n",
       "      <td>S</td>\n",
       "    </tr>\n",
       "  </tbody>\n",
       "</table>\n",
       "</div>"
      ],
      "text/plain": [
       "   PassengerId  Survived  Pclass  \\\n",
       "0            1         0       3   \n",
       "1            2         1       1   \n",
       "2            3         1       3   \n",
       "3            4         1       1   \n",
       "4            5         0       3   \n",
       "\n",
       "                                                Name     Sex   Age  SibSp  \\\n",
       "0                            Braund, Mr. Owen Harris    male  22.0      1   \n",
       "1  Cumings, Mrs. John Bradley (Florence Briggs Th...  female  38.0      1   \n",
       "2                             Heikkinen, Miss. Laina  female  26.0      0   \n",
       "3       Futrelle, Mrs. Jacques Heath (Lily May Peel)  female  35.0      1   \n",
       "4                           Allen, Mr. William Henry    male  35.0      0   \n",
       "\n",
       "   Parch            Ticket     Fare Cabin Embarked  \n",
       "0      0         A/5 21171   7.2500   NaN        S  \n",
       "1      0          PC 17599  71.2833   C85        C  \n",
       "2      0  STON/O2. 3101282   7.9250   NaN        S  \n",
       "3      0            113803  53.1000  C123        S  \n",
       "4      0            373450   8.0500   NaN        S  "
      ]
     },
     "execution_count": 3,
     "metadata": {},
     "output_type": "execute_result"
    }
   ],
   "source": [
    "train = pd.read_csv(\"/kaggle/input/titanic/train.csv\")\n",
    "train.head()"
   ]
  },
  {
   "cell_type": "code",
   "execution_count": 4,
   "metadata": {
    "execution": {
     "iopub.execute_input": "2020-10-22T10:30:58.631141Z",
     "iopub.status.busy": "2020-10-22T10:30:58.630517Z",
     "iopub.status.idle": "2020-10-22T10:30:58.648424Z",
     "shell.execute_reply": "2020-10-22T10:30:58.647927Z"
    },
    "papermill": {
     "duration": 0.074448,
     "end_time": "2020-10-22T10:30:58.648513",
     "exception": false,
     "start_time": "2020-10-22T10:30:58.574065",
     "status": "completed"
    },
    "tags": []
   },
   "outputs": [
    {
     "data": {
      "text/html": [
       "<div>\n",
       "<style scoped>\n",
       "    .dataframe tbody tr th:only-of-type {\n",
       "        vertical-align: middle;\n",
       "    }\n",
       "\n",
       "    .dataframe tbody tr th {\n",
       "        vertical-align: top;\n",
       "    }\n",
       "\n",
       "    .dataframe thead th {\n",
       "        text-align: right;\n",
       "    }\n",
       "</style>\n",
       "<table border=\"1\" class=\"dataframe\">\n",
       "  <thead>\n",
       "    <tr style=\"text-align: right;\">\n",
       "      <th></th>\n",
       "      <th>PassengerId</th>\n",
       "      <th>Pclass</th>\n",
       "      <th>Name</th>\n",
       "      <th>Sex</th>\n",
       "      <th>Age</th>\n",
       "      <th>SibSp</th>\n",
       "      <th>Parch</th>\n",
       "      <th>Ticket</th>\n",
       "      <th>Fare</th>\n",
       "      <th>Cabin</th>\n",
       "      <th>Embarked</th>\n",
       "    </tr>\n",
       "  </thead>\n",
       "  <tbody>\n",
       "    <tr>\n",
       "      <th>0</th>\n",
       "      <td>892</td>\n",
       "      <td>3</td>\n",
       "      <td>Kelly, Mr. James</td>\n",
       "      <td>male</td>\n",
       "      <td>34.5</td>\n",
       "      <td>0</td>\n",
       "      <td>0</td>\n",
       "      <td>330911</td>\n",
       "      <td>7.8292</td>\n",
       "      <td>NaN</td>\n",
       "      <td>Q</td>\n",
       "    </tr>\n",
       "    <tr>\n",
       "      <th>1</th>\n",
       "      <td>893</td>\n",
       "      <td>3</td>\n",
       "      <td>Wilkes, Mrs. James (Ellen Needs)</td>\n",
       "      <td>female</td>\n",
       "      <td>47.0</td>\n",
       "      <td>1</td>\n",
       "      <td>0</td>\n",
       "      <td>363272</td>\n",
       "      <td>7.0000</td>\n",
       "      <td>NaN</td>\n",
       "      <td>S</td>\n",
       "    </tr>\n",
       "    <tr>\n",
       "      <th>2</th>\n",
       "      <td>894</td>\n",
       "      <td>2</td>\n",
       "      <td>Myles, Mr. Thomas Francis</td>\n",
       "      <td>male</td>\n",
       "      <td>62.0</td>\n",
       "      <td>0</td>\n",
       "      <td>0</td>\n",
       "      <td>240276</td>\n",
       "      <td>9.6875</td>\n",
       "      <td>NaN</td>\n",
       "      <td>Q</td>\n",
       "    </tr>\n",
       "    <tr>\n",
       "      <th>3</th>\n",
       "      <td>895</td>\n",
       "      <td>3</td>\n",
       "      <td>Wirz, Mr. Albert</td>\n",
       "      <td>male</td>\n",
       "      <td>27.0</td>\n",
       "      <td>0</td>\n",
       "      <td>0</td>\n",
       "      <td>315154</td>\n",
       "      <td>8.6625</td>\n",
       "      <td>NaN</td>\n",
       "      <td>S</td>\n",
       "    </tr>\n",
       "    <tr>\n",
       "      <th>4</th>\n",
       "      <td>896</td>\n",
       "      <td>3</td>\n",
       "      <td>Hirvonen, Mrs. Alexander (Helga E Lindqvist)</td>\n",
       "      <td>female</td>\n",
       "      <td>22.0</td>\n",
       "      <td>1</td>\n",
       "      <td>1</td>\n",
       "      <td>3101298</td>\n",
       "      <td>12.2875</td>\n",
       "      <td>NaN</td>\n",
       "      <td>S</td>\n",
       "    </tr>\n",
       "  </tbody>\n",
       "</table>\n",
       "</div>"
      ],
      "text/plain": [
       "   PassengerId  Pclass                                          Name     Sex  \\\n",
       "0          892       3                              Kelly, Mr. James    male   \n",
       "1          893       3              Wilkes, Mrs. James (Ellen Needs)  female   \n",
       "2          894       2                     Myles, Mr. Thomas Francis    male   \n",
       "3          895       3                              Wirz, Mr. Albert    male   \n",
       "4          896       3  Hirvonen, Mrs. Alexander (Helga E Lindqvist)  female   \n",
       "\n",
       "    Age  SibSp  Parch   Ticket     Fare Cabin Embarked  \n",
       "0  34.5      0      0   330911   7.8292   NaN        Q  \n",
       "1  47.0      1      0   363272   7.0000   NaN        S  \n",
       "2  62.0      0      0   240276   9.6875   NaN        Q  \n",
       "3  27.0      0      0   315154   8.6625   NaN        S  \n",
       "4  22.0      1      1  3101298  12.2875   NaN        S  "
      ]
     },
     "execution_count": 4,
     "metadata": {},
     "output_type": "execute_result"
    }
   ],
   "source": [
    "test = pd.read_csv(\"/kaggle/input/titanic/test.csv\")\n",
    "test.head()"
   ]
  },
  {
   "cell_type": "markdown",
   "metadata": {
    "papermill": {
     "duration": 0.035172,
     "end_time": "2020-10-22T10:30:58.720144",
     "exception": false,
     "start_time": "2020-10-22T10:30:58.684972",
     "status": "completed"
    },
    "tags": []
   },
   "source": [
    "# Data Exploration\n",
    "\n",
    "**Lets get some insights about our data.**"
   ]
  },
  {
   "cell_type": "code",
   "execution_count": 5,
   "metadata": {
    "execution": {
     "iopub.execute_input": "2020-10-22T10:30:58.800269Z",
     "iopub.status.busy": "2020-10-22T10:30:58.798906Z",
     "iopub.status.idle": "2020-10-22T10:30:58.825218Z",
     "shell.execute_reply": "2020-10-22T10:30:58.824594Z"
    },
    "papermill": {
     "duration": 0.069423,
     "end_time": "2020-10-22T10:30:58.825319",
     "exception": false,
     "start_time": "2020-10-22T10:30:58.755896",
     "status": "completed"
    },
    "tags": []
   },
   "outputs": [
    {
     "data": {
      "text/html": [
       "<div>\n",
       "<style scoped>\n",
       "    .dataframe tbody tr th:only-of-type {\n",
       "        vertical-align: middle;\n",
       "    }\n",
       "\n",
       "    .dataframe tbody tr th {\n",
       "        vertical-align: top;\n",
       "    }\n",
       "\n",
       "    .dataframe thead th {\n",
       "        text-align: right;\n",
       "    }\n",
       "</style>\n",
       "<table border=\"1\" class=\"dataframe\">\n",
       "  <thead>\n",
       "    <tr style=\"text-align: right;\">\n",
       "      <th></th>\n",
       "      <th>PassengerId</th>\n",
       "      <th>Survived</th>\n",
       "      <th>Pclass</th>\n",
       "      <th>Age</th>\n",
       "      <th>SibSp</th>\n",
       "      <th>Parch</th>\n",
       "      <th>Fare</th>\n",
       "    </tr>\n",
       "  </thead>\n",
       "  <tbody>\n",
       "    <tr>\n",
       "      <th>count</th>\n",
       "      <td>891.000000</td>\n",
       "      <td>891.000000</td>\n",
       "      <td>891.000000</td>\n",
       "      <td>714.000000</td>\n",
       "      <td>891.000000</td>\n",
       "      <td>891.000000</td>\n",
       "      <td>891.000000</td>\n",
       "    </tr>\n",
       "    <tr>\n",
       "      <th>mean</th>\n",
       "      <td>446.000000</td>\n",
       "      <td>0.383838</td>\n",
       "      <td>2.308642</td>\n",
       "      <td>29.699118</td>\n",
       "      <td>0.523008</td>\n",
       "      <td>0.381594</td>\n",
       "      <td>32.204208</td>\n",
       "    </tr>\n",
       "    <tr>\n",
       "      <th>std</th>\n",
       "      <td>257.353842</td>\n",
       "      <td>0.486592</td>\n",
       "      <td>0.836071</td>\n",
       "      <td>14.526497</td>\n",
       "      <td>1.102743</td>\n",
       "      <td>0.806057</td>\n",
       "      <td>49.693429</td>\n",
       "    </tr>\n",
       "    <tr>\n",
       "      <th>min</th>\n",
       "      <td>1.000000</td>\n",
       "      <td>0.000000</td>\n",
       "      <td>1.000000</td>\n",
       "      <td>0.420000</td>\n",
       "      <td>0.000000</td>\n",
       "      <td>0.000000</td>\n",
       "      <td>0.000000</td>\n",
       "    </tr>\n",
       "    <tr>\n",
       "      <th>25%</th>\n",
       "      <td>223.500000</td>\n",
       "      <td>0.000000</td>\n",
       "      <td>2.000000</td>\n",
       "      <td>20.125000</td>\n",
       "      <td>0.000000</td>\n",
       "      <td>0.000000</td>\n",
       "      <td>7.910400</td>\n",
       "    </tr>\n",
       "    <tr>\n",
       "      <th>50%</th>\n",
       "      <td>446.000000</td>\n",
       "      <td>0.000000</td>\n",
       "      <td>3.000000</td>\n",
       "      <td>28.000000</td>\n",
       "      <td>0.000000</td>\n",
       "      <td>0.000000</td>\n",
       "      <td>14.454200</td>\n",
       "    </tr>\n",
       "    <tr>\n",
       "      <th>75%</th>\n",
       "      <td>668.500000</td>\n",
       "      <td>1.000000</td>\n",
       "      <td>3.000000</td>\n",
       "      <td>38.000000</td>\n",
       "      <td>1.000000</td>\n",
       "      <td>0.000000</td>\n",
       "      <td>31.000000</td>\n",
       "    </tr>\n",
       "    <tr>\n",
       "      <th>max</th>\n",
       "      <td>891.000000</td>\n",
       "      <td>1.000000</td>\n",
       "      <td>3.000000</td>\n",
       "      <td>80.000000</td>\n",
       "      <td>8.000000</td>\n",
       "      <td>6.000000</td>\n",
       "      <td>512.329200</td>\n",
       "    </tr>\n",
       "  </tbody>\n",
       "</table>\n",
       "</div>"
      ],
      "text/plain": [
       "       PassengerId    Survived      Pclass         Age       SibSp  \\\n",
       "count   891.000000  891.000000  891.000000  714.000000  891.000000   \n",
       "mean    446.000000    0.383838    2.308642   29.699118    0.523008   \n",
       "std     257.353842    0.486592    0.836071   14.526497    1.102743   \n",
       "min       1.000000    0.000000    1.000000    0.420000    0.000000   \n",
       "25%     223.500000    0.000000    2.000000   20.125000    0.000000   \n",
       "50%     446.000000    0.000000    3.000000   28.000000    0.000000   \n",
       "75%     668.500000    1.000000    3.000000   38.000000    1.000000   \n",
       "max     891.000000    1.000000    3.000000   80.000000    8.000000   \n",
       "\n",
       "            Parch        Fare  \n",
       "count  891.000000  891.000000  \n",
       "mean     0.381594   32.204208  \n",
       "std      0.806057   49.693429  \n",
       "min      0.000000    0.000000  \n",
       "25%      0.000000    7.910400  \n",
       "50%      0.000000   14.454200  \n",
       "75%      0.000000   31.000000  \n",
       "max      6.000000  512.329200  "
      ]
     },
     "execution_count": 5,
     "metadata": {},
     "output_type": "execute_result"
    }
   ],
   "source": [
    "train.describe()"
   ]
  },
  {
   "cell_type": "code",
   "execution_count": 6,
   "metadata": {
    "execution": {
     "iopub.execute_input": "2020-10-22T10:30:58.943041Z",
     "iopub.status.busy": "2020-10-22T10:30:58.942338Z",
     "iopub.status.idle": "2020-10-22T10:30:58.946144Z",
     "shell.execute_reply": "2020-10-22T10:30:58.946658Z"
    },
    "papermill": {
     "duration": 0.066197,
     "end_time": "2020-10-22T10:30:58.946783",
     "exception": false,
     "start_time": "2020-10-22T10:30:58.880586",
     "status": "completed"
    },
    "tags": []
   },
   "outputs": [
    {
     "data": {
      "text/plain": [
       "PassengerId      0\n",
       "Survived         0\n",
       "Pclass           0\n",
       "Name             0\n",
       "Sex              0\n",
       "Age            177\n",
       "SibSp            0\n",
       "Parch            0\n",
       "Ticket           0\n",
       "Fare             0\n",
       "Cabin          687\n",
       "Embarked         2\n",
       "dtype: int64"
      ]
     },
     "execution_count": 6,
     "metadata": {},
     "output_type": "execute_result"
    }
   ],
   "source": [
    "train.isnull().sum()"
   ]
  },
  {
   "cell_type": "code",
   "execution_count": 7,
   "metadata": {
    "execution": {
     "iopub.execute_input": "2020-10-22T10:30:59.061998Z",
     "iopub.status.busy": "2020-10-22T10:30:59.061284Z",
     "iopub.status.idle": "2020-10-22T10:30:59.066291Z",
     "shell.execute_reply": "2020-10-22T10:30:59.065669Z"
    },
    "papermill": {
     "duration": 0.065564,
     "end_time": "2020-10-22T10:30:59.066403",
     "exception": false,
     "start_time": "2020-10-22T10:30:59.000839",
     "status": "completed"
    },
    "tags": []
   },
   "outputs": [
    {
     "data": {
      "text/plain": [
       "PassengerId      0\n",
       "Pclass           0\n",
       "Name             0\n",
       "Sex              0\n",
       "Age             86\n",
       "SibSp            0\n",
       "Parch            0\n",
       "Ticket           0\n",
       "Fare             1\n",
       "Cabin          327\n",
       "Embarked         0\n",
       "dtype: int64"
      ]
     },
     "execution_count": 7,
     "metadata": {},
     "output_type": "execute_result"
    }
   ],
   "source": [
    "test.isnull().sum()"
   ]
  },
  {
   "cell_type": "code",
   "execution_count": 8,
   "metadata": {
    "execution": {
     "iopub.execute_input": "2020-10-22T10:30:59.189375Z",
     "iopub.status.busy": "2020-10-22T10:30:59.188862Z",
     "iopub.status.idle": "2020-10-22T10:30:59.222558Z",
     "shell.execute_reply": "2020-10-22T10:30:59.222097Z"
    },
    "papermill": {
     "duration": 0.100406,
     "end_time": "2020-10-22T10:30:59.222666",
     "exception": false,
     "start_time": "2020-10-22T10:30:59.122260",
     "status": "completed"
    },
    "tags": []
   },
   "outputs": [
    {
     "data": {
      "text/html": [
       "<div>\n",
       "<style scoped>\n",
       "    .dataframe tbody tr th:only-of-type {\n",
       "        vertical-align: middle;\n",
       "    }\n",
       "\n",
       "    .dataframe tbody tr th {\n",
       "        vertical-align: top;\n",
       "    }\n",
       "\n",
       "    .dataframe thead th {\n",
       "        text-align: right;\n",
       "    }\n",
       "</style>\n",
       "<table border=\"1\" class=\"dataframe\">\n",
       "  <thead>\n",
       "    <tr style=\"text-align: right;\">\n",
       "      <th></th>\n",
       "      <th>Age</th>\n",
       "      <th>Fare</th>\n",
       "      <th>Parch</th>\n",
       "      <th>SibSp</th>\n",
       "    </tr>\n",
       "    <tr>\n",
       "      <th>Survived</th>\n",
       "      <th></th>\n",
       "      <th></th>\n",
       "      <th></th>\n",
       "      <th></th>\n",
       "    </tr>\n",
       "  </thead>\n",
       "  <tbody>\n",
       "    <tr>\n",
       "      <th>0</th>\n",
       "      <td>30.626179</td>\n",
       "      <td>22.117887</td>\n",
       "      <td>0.329690</td>\n",
       "      <td>0.553734</td>\n",
       "    </tr>\n",
       "    <tr>\n",
       "      <th>1</th>\n",
       "      <td>28.343690</td>\n",
       "      <td>48.395408</td>\n",
       "      <td>0.464912</td>\n",
       "      <td>0.473684</td>\n",
       "    </tr>\n",
       "  </tbody>\n",
       "</table>\n",
       "</div>"
      ],
      "text/plain": [
       "                Age       Fare     Parch     SibSp\n",
       "Survived                                          \n",
       "0         30.626179  22.117887  0.329690  0.553734\n",
       "1         28.343690  48.395408  0.464912  0.473684"
      ]
     },
     "execution_count": 8,
     "metadata": {},
     "output_type": "execute_result"
    }
   ],
   "source": [
    "pd.pivot_table(train, index = 'Survived', values = ['Age','SibSp','Parch','Fare'])"
   ]
  },
  {
   "cell_type": "code",
   "execution_count": 9,
   "metadata": {
    "execution": {
     "iopub.execute_input": "2020-10-22T10:30:59.302868Z",
     "iopub.status.busy": "2020-10-22T10:30:59.302391Z",
     "iopub.status.idle": "2020-10-22T10:30:59.928265Z",
     "shell.execute_reply": "2020-10-22T10:30:59.927665Z"
    },
    "papermill": {
     "duration": 0.668822,
     "end_time": "2020-10-22T10:30:59.928370",
     "exception": false,
     "start_time": "2020-10-22T10:30:59.259548",
     "status": "completed"
    },
    "tags": []
   },
   "outputs": [
    {
     "name": "stderr",
     "output_type": "stream",
     "text": [
      "/opt/conda/lib/python3.7/site-packages/numpy/lib/histograms.py:839: RuntimeWarning: invalid value encountered in greater_equal\n",
      "  keep = (tmp_a >= first_edge)\n",
      "/opt/conda/lib/python3.7/site-packages/numpy/lib/histograms.py:840: RuntimeWarning: invalid value encountered in less_equal\n",
      "  keep &= (tmp_a <= last_edge)\n"
     ]
    },
    {
     "data": {
      "image/png": "[encoded data removed]",
      "text/plain": [
       "<Figure size 432x288 with 1 Axes>"
      ]
     },
     "metadata": {
      "needs_background": "light"
     },
     "output_type": "display_data"
    },
    {
     "data": {
      "image/png": "[encoded data removed]",
      "text/plain": [
       "<Figure size 432x288 with 1 Axes>"
      ]
     },
     "metadata": {
      "needs_background": "light"
     },
     "output_type": "display_data"
    },
    {
     "data": {
      "image/png": "[encoded data removed]",
      "text/plain": [
       "<Figure size 432x288 with 1 Axes>"
      ]
     },
     "metadata": {
      "needs_background": "light"
     },
     "output_type": "display_data"
    },
    {
     "data": {
      "image/png": "[encoded data removed]",
      "text/plain": [
       "<Figure size 432x288 with 1 Axes>"
      ]
     },
     "metadata": {
      "needs_background": "light"
     },
     "output_type": "display_data"
    }
   ],
   "source": [
    "#distributions for all numeric variables \n",
    "for i in train[['Age','SibSp','Parch','Fare']].columns:\n",
    "    plt.hist(train[i])\n",
    "    plt.title(i)\n",
    "    plt.show()"
   ]
  },
  {
   "cell_type": "code",
   "execution_count": 10,
   "metadata": {
    "execution": {
     "iopub.execute_input": "2020-10-22T10:31:00.055767Z",
     "iopub.status.busy": "2020-10-22T10:31:00.054845Z",
     "iopub.status.idle": "2020-10-22T10:31:00.142717Z",
     "shell.execute_reply": "2020-10-22T10:31:00.142069Z"
    },
    "papermill": {
     "duration": 0.155281,
     "end_time": "2020-10-22T10:31:00.142811",
     "exception": false,
     "start_time": "2020-10-22T10:30:59.987530",
     "status": "completed"
    },
    "tags": []
   },
   "outputs": [
    {
     "data": {
      "image/png": "[encoded data removed]",
      "text/plain": [
       "<Figure size 432x288 with 1 Axes>"
      ]
     },
     "metadata": {
      "needs_background": "light"
     },
     "output_type": "display_data"
    }
   ],
   "source": [
    "sns.barplot(train['Survived'].value_counts().index,train['Survived'].value_counts()).set_title('Survived')\n",
    "plt.show()"
   ]
  },
  {
   "cell_type": "code",
   "execution_count": 11,
   "metadata": {
    "execution": {
     "iopub.execute_input": "2020-10-22T10:31:00.239427Z",
     "iopub.status.busy": "2020-10-22T10:31:00.233638Z",
     "iopub.status.idle": "2020-10-22T10:31:00.251644Z",
     "shell.execute_reply": "2020-10-22T10:31:00.251993Z"
    },
    "papermill": {
     "duration": 0.067884,
     "end_time": "2020-10-22T10:31:00.252106",
     "exception": false,
     "start_time": "2020-10-22T10:31:00.184222",
     "status": "completed"
    },
    "tags": []
   },
   "outputs": [
    {
     "data": {
      "text/html": [
       "<div>\n",
       "<style scoped>\n",
       "    .dataframe tbody tr th:only-of-type {\n",
       "        vertical-align: middle;\n",
       "    }\n",
       "\n",
       "    .dataframe tbody tr th {\n",
       "        vertical-align: top;\n",
       "    }\n",
       "\n",
       "    .dataframe thead th {\n",
       "        text-align: right;\n",
       "    }\n",
       "</style>\n",
       "<table border=\"1\" class=\"dataframe\">\n",
       "  <thead>\n",
       "    <tr style=\"text-align: right;\">\n",
       "      <th>Pclass</th>\n",
       "      <th>1</th>\n",
       "      <th>2</th>\n",
       "      <th>3</th>\n",
       "    </tr>\n",
       "    <tr>\n",
       "      <th>Survived</th>\n",
       "      <th></th>\n",
       "      <th></th>\n",
       "      <th></th>\n",
       "    </tr>\n",
       "  </thead>\n",
       "  <tbody>\n",
       "    <tr>\n",
       "      <th>0</th>\n",
       "      <td>80</td>\n",
       "      <td>97</td>\n",
       "      <td>372</td>\n",
       "    </tr>\n",
       "    <tr>\n",
       "      <th>1</th>\n",
       "      <td>136</td>\n",
       "      <td>87</td>\n",
       "      <td>119</td>\n",
       "    </tr>\n",
       "  </tbody>\n",
       "</table>\n",
       "</div>"
      ],
      "text/plain": [
       "Pclass      1   2    3\n",
       "Survived              \n",
       "0          80  97  372\n",
       "1         136  87  119"
      ]
     },
     "execution_count": 11,
     "metadata": {},
     "output_type": "execute_result"
    }
   ],
   "source": [
    "pd.pivot_table(train, index = 'Survived', columns = 'Pclass', values = 'Ticket' ,aggfunc ='count')"
   ]
  },
  {
   "cell_type": "code",
   "execution_count": 12,
   "metadata": {
    "execution": {
     "iopub.execute_input": "2020-10-22T10:31:00.341167Z",
     "iopub.status.busy": "2020-10-22T10:31:00.339703Z",
     "iopub.status.idle": "2020-10-22T10:31:00.560140Z",
     "shell.execute_reply": "2020-10-22T10:31:00.559720Z"
    },
    "papermill": {
     "duration": 0.268181,
     "end_time": "2020-10-22T10:31:00.560231",
     "exception": false,
     "start_time": "2020-10-22T10:31:00.292050",
     "status": "completed"
    },
    "tags": []
   },
   "outputs": [
    {
     "data": {
      "image/png": "[encoded data removed]",
      "text/plain": [
       "<Figure size 432x288 with 1 Axes>"
      ]
     },
     "metadata": {
      "needs_background": "light"
     },
     "output_type": "display_data"
    }
   ],
   "source": [
    "sns.barplot(train['Pclass'].value_counts().index,train['Pclass'].value_counts()).set_title('Pclass')\n",
    "plt.show()"
   ]
  },
  {
   "cell_type": "code",
   "execution_count": 13,
   "metadata": {
    "execution": {
     "iopub.execute_input": "2020-10-22T10:31:00.649105Z",
     "iopub.status.busy": "2020-10-22T10:31:00.648631Z",
     "iopub.status.idle": "2020-10-22T10:31:00.665168Z",
     "shell.execute_reply": "2020-10-22T10:31:00.665532Z"
    },
    "papermill": {
     "duration": 0.064796,
     "end_time": "2020-10-22T10:31:00.665661",
     "exception": false,
     "start_time": "2020-10-22T10:31:00.600865",
     "status": "completed"
    },
    "tags": []
   },
   "outputs": [
    {
     "data": {
      "text/html": [
       "<div>\n",
       "<style scoped>\n",
       "    .dataframe tbody tr th:only-of-type {\n",
       "        vertical-align: middle;\n",
       "    }\n",
       "\n",
       "    .dataframe tbody tr th {\n",
       "        vertical-align: top;\n",
       "    }\n",
       "\n",
       "    .dataframe thead th {\n",
       "        text-align: right;\n",
       "    }\n",
       "</style>\n",
       "<table border=\"1\" class=\"dataframe\">\n",
       "  <thead>\n",
       "    <tr style=\"text-align: right;\">\n",
       "      <th>Sex</th>\n",
       "      <th>female</th>\n",
       "      <th>male</th>\n",
       "    </tr>\n",
       "    <tr>\n",
       "      <th>Survived</th>\n",
       "      <th></th>\n",
       "      <th></th>\n",
       "    </tr>\n",
       "  </thead>\n",
       "  <tbody>\n",
       "    <tr>\n",
       "      <th>0</th>\n",
       "      <td>81</td>\n",
       "      <td>468</td>\n",
       "    </tr>\n",
       "    <tr>\n",
       "      <th>1</th>\n",
       "      <td>233</td>\n",
       "      <td>109</td>\n",
       "    </tr>\n",
       "  </tbody>\n",
       "</table>\n",
       "</div>"
      ],
      "text/plain": [
       "Sex       female  male\n",
       "Survived              \n",
       "0             81   468\n",
       "1            233   109"
      ]
     },
     "execution_count": 13,
     "metadata": {},
     "output_type": "execute_result"
    }
   ],
   "source": [
    "pd.pivot_table(train, index = 'Survived', columns = 'Sex', values = 'Ticket' ,aggfunc ='count')"
   ]
  },
  {
   "cell_type": "code",
   "execution_count": 14,
   "metadata": {
    "execution": {
     "iopub.execute_input": "2020-10-22T10:31:00.762766Z",
     "iopub.status.busy": "2020-10-22T10:31:00.757712Z",
     "iopub.status.idle": "2020-10-22T10:31:00.862270Z",
     "shell.execute_reply": "2020-10-22T10:31:00.861769Z"
    },
    "papermill": {
     "duration": 0.155979,
     "end_time": "2020-10-22T10:31:00.862361",
     "exception": false,
     "start_time": "2020-10-22T10:31:00.706382",
     "status": "completed"
    },
    "tags": []
   },
   "outputs": [
    {
     "data": {
      "image/png": "[encoded data removed]",
      "text/plain": [
       "<Figure size 432x288 with 1 Axes>"
      ]
     },
     "metadata": {
      "needs_background": "light"
     },
     "output_type": "display_data"
    }
   ],
   "source": [
    "sns.barplot(train['Sex'].value_counts().index,train['Sex'].value_counts()).set_title('Sex')\n",
    "plt.show()"
   ]
  },
  {
   "cell_type": "code",
   "execution_count": 15,
   "metadata": {
    "execution": {
     "iopub.execute_input": "2020-10-22T10:31:00.953288Z",
     "iopub.status.busy": "2020-10-22T10:31:00.951572Z",
     "iopub.status.idle": "2020-10-22T10:31:00.966327Z",
     "shell.execute_reply": "2020-10-22T10:31:00.965931Z"
    },
    "papermill": {
     "duration": 0.062399,
     "end_time": "2020-10-22T10:31:00.966414",
     "exception": false,
     "start_time": "2020-10-22T10:31:00.904015",
     "status": "completed"
    },
    "tags": []
   },
   "outputs": [
    {
     "data": {
      "text/html": [
       "<div>\n",
       "<style scoped>\n",
       "    .dataframe tbody tr th:only-of-type {\n",
       "        vertical-align: middle;\n",
       "    }\n",
       "\n",
       "    .dataframe tbody tr th {\n",
       "        vertical-align: top;\n",
       "    }\n",
       "\n",
       "    .dataframe thead th {\n",
       "        text-align: right;\n",
       "    }\n",
       "</style>\n",
       "<table border=\"1\" class=\"dataframe\">\n",
       "  <thead>\n",
       "    <tr style=\"text-align: right;\">\n",
       "      <th>Embarked</th>\n",
       "      <th>C</th>\n",
       "      <th>Q</th>\n",
       "      <th>S</th>\n",
       "    </tr>\n",
       "    <tr>\n",
       "      <th>Survived</th>\n",
       "      <th></th>\n",
       "      <th></th>\n",
       "      <th></th>\n",
       "    </tr>\n",
       "  </thead>\n",
       "  <tbody>\n",
       "    <tr>\n",
       "      <th>0</th>\n",
       "      <td>75</td>\n",
       "      <td>47</td>\n",
       "      <td>427</td>\n",
       "    </tr>\n",
       "    <tr>\n",
       "      <th>1</th>\n",
       "      <td>93</td>\n",
       "      <td>30</td>\n",
       "      <td>217</td>\n",
       "    </tr>\n",
       "  </tbody>\n",
       "</table>\n",
       "</div>"
      ],
      "text/plain": [
       "Embarked   C   Q    S\n",
       "Survived             \n",
       "0         75  47  427\n",
       "1         93  30  217"
      ]
     },
     "execution_count": 15,
     "metadata": {},
     "output_type": "execute_result"
    }
   ],
   "source": [
    "pd.pivot_table(train, index = 'Survived', columns = 'Embarked', values = 'Ticket' ,aggfunc ='count')"
   ]
  },
  {
   "cell_type": "code",
   "execution_count": 16,
   "metadata": {
    "execution": {
     "iopub.execute_input": "2020-10-22T10:31:01.066417Z",
     "iopub.status.busy": "2020-10-22T10:31:01.058302Z",
     "iopub.status.idle": "2020-10-22T10:31:01.146137Z",
     "shell.execute_reply": "2020-10-22T10:31:01.145710Z"
    },
    "papermill": {
     "duration": 0.138296,
     "end_time": "2020-10-22T10:31:01.146224",
     "exception": false,
     "start_time": "2020-10-22T10:31:01.007928",
     "status": "completed"
    },
    "tags": []
   },
   "outputs": [
    {
     "data": {
      "image/png": "[encoded data removed]",
      "text/plain": [
       "<Figure size 432x288 with 1 Axes>"
      ]
     },
     "metadata": {
      "needs_background": "light"
     },
     "output_type": "display_data"
    }
   ],
   "source": [
    "sns.barplot(train['Embarked'].value_counts().index,train['Embarked'].value_counts()).set_title('Embarked')\n",
    "plt.show()"
   ]
  },
  {
   "cell_type": "markdown",
   "metadata": {
    "papermill": {
     "duration": 0.04281,
     "end_time": "2020-10-22T10:31:01.232026",
     "exception": false,
     "start_time": "2020-10-22T10:31:01.189216",
     "status": "completed"
    },
    "tags": []
   },
   "source": [
    "Lets also check out cabin and ticket features even though the columns wont make much sense on their own without any feature engineering."
   ]
  },
  {
   "cell_type": "code",
   "execution_count": 17,
   "metadata": {
    "execution": {
     "iopub.execute_input": "2020-10-22T10:31:01.323805Z",
     "iopub.status.busy": "2020-10-22T10:31:01.323284Z",
     "iopub.status.idle": "2020-10-22T10:31:02.495199Z",
     "shell.execute_reply": "2020-10-22T10:31:02.495593Z"
    },
    "papermill": {
     "duration": 1.220961,
     "end_time": "2020-10-22T10:31:02.495735",
     "exception": false,
     "start_time": "2020-10-22T10:31:01.274774",
     "status": "completed"
    },
    "tags": []
   },
   "outputs": [
    {
     "data": {
      "image/png": "[encoded data removed]",
      "text/plain": [
       "<Figure size 432x288 with 1 Axes>"
      ]
     },
     "metadata": {
      "needs_background": "light"
     },
     "output_type": "display_data"
    }
   ],
   "source": [
    "sns.barplot(train['Cabin'].value_counts().index,train['Cabin'].value_counts()).set_title('Cabin')\n",
    "plt.show()"
   ]
  },
  {
   "cell_type": "code",
   "execution_count": 18,
   "metadata": {
    "execution": {
     "iopub.execute_input": "2020-10-22T10:31:02.590986Z",
     "iopub.status.busy": "2020-10-22T10:31:02.589966Z",
     "iopub.status.idle": "2020-10-22T10:31:08.477197Z",
     "shell.execute_reply": "2020-10-22T10:31:08.476778Z"
    },
    "papermill": {
     "duration": 5.938051,
     "end_time": "2020-10-22T10:31:08.477290",
     "exception": false,
     "start_time": "2020-10-22T10:31:02.539239",
     "status": "completed"
    },
    "tags": []
   },
   "outputs": [
    {
     "data": {
      "image/png": "[encoded data removed]",
      "text/plain": [
       "<Figure size 432x288 with 1 Axes>"
      ]
     },
     "metadata": {
      "needs_background": "light"
     },
     "output_type": "display_data"
    }
   ],
   "source": [
    "sns.barplot(train['Ticket'].value_counts().index,train['Ticket'].value_counts()).set_title('Ticket')\n",
    "plt.show()"
   ]
  },
  {
   "cell_type": "code",
   "execution_count": 19,
   "metadata": {
    "execution": {
     "iopub.execute_input": "2020-10-22T10:31:08.570506Z",
     "iopub.status.busy": "2020-10-22T10:31:08.568000Z",
     "iopub.status.idle": "2020-10-22T10:31:08.923181Z",
     "shell.execute_reply": "2020-10-22T10:31:08.922693Z"
    },
    "papermill": {
     "duration": 0.402631,
     "end_time": "2020-10-22T10:31:08.923298",
     "exception": false,
     "start_time": "2020-10-22T10:31:08.520667",
     "status": "completed"
    },
    "tags": []
   },
   "outputs": [
    {
     "name": "stdout",
     "output_type": "stream",
     "text": [
      "             PassengerId  Survived    Pclass       Age     SibSp     Parch  \\\n",
      "PassengerId     1.000000 -0.005007 -0.035144  0.036847 -0.057527 -0.001652   \n",
      "Survived       -0.005007  1.000000 -0.338481 -0.077221 -0.035322  0.081629   \n",
      "Pclass         -0.035144 -0.338481  1.000000 -0.369226  0.083081  0.018443   \n",
      "Age             0.036847 -0.077221 -0.369226  1.000000 -0.308247 -0.189119   \n",
      "SibSp          -0.057527 -0.035322  0.083081 -0.308247  1.000000  0.414838   \n",
      "Parch          -0.001652  0.081629  0.018443 -0.189119  0.414838  1.000000   \n",
      "Fare            0.012658  0.257307 -0.549500  0.096067  0.159651  0.216225   \n",
      "\n",
      "                 Fare  \n",
      "PassengerId  0.012658  \n",
      "Survived     0.257307  \n",
      "Pclass      -0.549500  \n",
      "Age          0.096067  \n",
      "SibSp        0.159651  \n",
      "Parch        0.216225  \n",
      "Fare         1.000000  \n"
     ]
    },
    {
     "data": {
      "text/plain": [
       "<matplotlib.axes._subplots.AxesSubplot at 0x7f5a525cc610>"
      ]
     },
     "execution_count": 19,
     "metadata": {},
     "output_type": "execute_result"
    },
    {
     "data": {
      "image/png": "[encoded data removed]",
      "text/plain": [
       "<Figure size 432x288 with 2 Axes>"
      ]
     },
     "metadata": {
      "needs_background": "light"
     },
     "output_type": "display_data"
    }
   ],
   "source": [
    "#Check correlation between our features.\n",
    "print(train.corr())\n",
    "sns.heatmap(train.corr())"
   ]
  },
  {
   "cell_type": "markdown",
   "metadata": {
    "papermill": {
     "duration": 0.044362,
     "end_time": "2020-10-22T10:31:09.013308",
     "exception": false,
     "start_time": "2020-10-22T10:31:08.968946",
     "status": "completed"
    },
    "tags": []
   },
   "source": [
    "Our best feature currently seems to be 'Fare' according to the correlation map as it has high correlation with our target ie. 'Survived'"
   ]
  },
  {
   "cell_type": "markdown",
   "metadata": {
    "papermill": {
     "duration": 0.044995,
     "end_time": "2020-10-22T10:31:09.103338",
     "exception": false,
     "start_time": "2020-10-22T10:31:09.058343",
     "status": "completed"
    },
    "tags": []
   },
   "source": [
    "# Feature Engineering "
   ]
  },
  {
   "cell_type": "code",
   "execution_count": 20,
   "metadata": {
    "execution": {
     "iopub.execute_input": "2020-10-22T10:31:09.207806Z",
     "iopub.status.busy": "2020-10-22T10:31:09.202670Z",
     "iopub.status.idle": "2020-10-22T10:31:09.212788Z",
     "shell.execute_reply": "2020-10-22T10:31:09.212385Z"
    },
    "papermill": {
     "duration": 0.06421,
     "end_time": "2020-10-22T10:31:09.212884",
     "exception": false,
     "start_time": "2020-10-22T10:31:09.148674",
     "status": "completed"
    },
    "tags": []
   },
   "outputs": [
    {
     "data": {
      "text/html": [
       "<div>\n",
       "<style scoped>\n",
       "    .dataframe tbody tr th:only-of-type {\n",
       "        vertical-align: middle;\n",
       "    }\n",
       "\n",
       "    .dataframe tbody tr th {\n",
       "        vertical-align: top;\n",
       "    }\n",
       "\n",
       "    .dataframe thead th {\n",
       "        text-align: right;\n",
       "    }\n",
       "</style>\n",
       "<table border=\"1\" class=\"dataframe\">\n",
       "  <thead>\n",
       "    <tr style=\"text-align: right;\">\n",
       "      <th></th>\n",
       "      <th>PassengerId</th>\n",
       "      <th>Survived</th>\n",
       "      <th>Pclass</th>\n",
       "      <th>Name</th>\n",
       "      <th>Sex</th>\n",
       "      <th>Age</th>\n",
       "      <th>SibSp</th>\n",
       "      <th>Parch</th>\n",
       "      <th>Ticket</th>\n",
       "      <th>Fare</th>\n",
       "      <th>Cabin</th>\n",
       "      <th>Embarked</th>\n",
       "      <th>Fam</th>\n",
       "    </tr>\n",
       "  </thead>\n",
       "  <tbody>\n",
       "    <tr>\n",
       "      <th>0</th>\n",
       "      <td>1</td>\n",
       "      <td>0</td>\n",
       "      <td>3</td>\n",
       "      <td>Braund, Mr. Owen Harris</td>\n",
       "      <td>male</td>\n",
       "      <td>22.0</td>\n",
       "      <td>1</td>\n",
       "      <td>0</td>\n",
       "      <td>A/5 21171</td>\n",
       "      <td>7.2500</td>\n",
       "      <td>NaN</td>\n",
       "      <td>S</td>\n",
       "      <td>1</td>\n",
       "    </tr>\n",
       "    <tr>\n",
       "      <th>1</th>\n",
       "      <td>2</td>\n",
       "      <td>1</td>\n",
       "      <td>1</td>\n",
       "      <td>Cumings, Mrs. John Bradley (Florence Briggs Th...</td>\n",
       "      <td>female</td>\n",
       "      <td>38.0</td>\n",
       "      <td>1</td>\n",
       "      <td>0</td>\n",
       "      <td>PC 17599</td>\n",
       "      <td>71.2833</td>\n",
       "      <td>C85</td>\n",
       "      <td>C</td>\n",
       "      <td>1</td>\n",
       "    </tr>\n",
       "    <tr>\n",
       "      <th>2</th>\n",
       "      <td>3</td>\n",
       "      <td>1</td>\n",
       "      <td>3</td>\n",
       "      <td>Heikkinen, Miss. Laina</td>\n",
       "      <td>female</td>\n",
       "      <td>26.0</td>\n",
       "      <td>0</td>\n",
       "      <td>0</td>\n",
       "      <td>STON/O2. 3101282</td>\n",
       "      <td>7.9250</td>\n",
       "      <td>NaN</td>\n",
       "      <td>S</td>\n",
       "      <td>0</td>\n",
       "    </tr>\n",
       "    <tr>\n",
       "      <th>3</th>\n",
       "      <td>4</td>\n",
       "      <td>1</td>\n",
       "      <td>1</td>\n",
       "      <td>Futrelle, Mrs. Jacques Heath (Lily May Peel)</td>\n",
       "      <td>female</td>\n",
       "      <td>35.0</td>\n",
       "      <td>1</td>\n",
       "      <td>0</td>\n",
       "      <td>113803</td>\n",
       "      <td>53.1000</td>\n",
       "      <td>C123</td>\n",
       "      <td>S</td>\n",
       "      <td>1</td>\n",
       "    </tr>\n",
       "    <tr>\n",
       "      <th>4</th>\n",
       "      <td>5</td>\n",
       "      <td>0</td>\n",
       "      <td>3</td>\n",
       "      <td>Allen, Mr. William Henry</td>\n",
       "      <td>male</td>\n",
       "      <td>35.0</td>\n",
       "      <td>0</td>\n",
       "      <td>0</td>\n",
       "      <td>373450</td>\n",
       "      <td>8.0500</td>\n",
       "      <td>NaN</td>\n",
       "      <td>S</td>\n",
       "      <td>0</td>\n",
       "    </tr>\n",
       "  </tbody>\n",
       "</table>\n",
       "</div>"
      ],
      "text/plain": [
       "   PassengerId  Survived  Pclass  \\\n",
       "0            1         0       3   \n",
       "1            2         1       1   \n",
       "2            3         1       3   \n",
       "3            4         1       1   \n",
       "4            5         0       3   \n",
       "\n",
       "                                                Name     Sex   Age  SibSp  \\\n",
       "0                            Braund, Mr. Owen Harris    male  22.0      1   \n",
       "1  Cumings, Mrs. John Bradley (Florence Briggs Th...  female  38.0      1   \n",
       "2                             Heikkinen, Miss. Laina  female  26.0      0   \n",
       "3       Futrelle, Mrs. Jacques Heath (Lily May Peel)  female  35.0      1   \n",
       "4                           Allen, Mr. William Henry    male  35.0      0   \n",
       "\n",
       "   Parch            Ticket     Fare Cabin Embarked  Fam  \n",
       "0      0         A/5 21171   7.2500   NaN        S    1  \n",
       "1      0          PC 17599  71.2833   C85        C    1  \n",
       "2      0  STON/O2. 3101282   7.9250   NaN        S    0  \n",
       "3      0            113803  53.1000  C123        S    1  \n",
       "4      0            373450   8.0500   NaN        S    0  "
      ]
     },
     "execution_count": 20,
     "metadata": {},
     "output_type": "execute_result"
    }
   ],
   "source": [
    "#Creating variable for total family.\n",
    "train['Fam'] = train['SibSp'] + train['Parch']\n",
    "train.head()"
   ]
  },
  {
   "cell_type": "code",
   "execution_count": 21,
   "metadata": {
    "execution": {
     "iopub.execute_input": "2020-10-22T10:31:09.312093Z",
     "iopub.status.busy": "2020-10-22T10:31:09.309192Z",
     "iopub.status.idle": "2020-10-22T10:31:09.333218Z",
     "shell.execute_reply": "2020-10-22T10:31:09.332830Z"
    },
    "papermill": {
     "duration": 0.075393,
     "end_time": "2020-10-22T10:31:09.333306",
     "exception": false,
     "start_time": "2020-10-22T10:31:09.257913",
     "status": "completed"
    },
    "tags": []
   },
   "outputs": [
    {
     "name": "stdout",
     "output_type": "stream",
     "text": [
      "n    687\n",
      "C     59\n",
      "B     47\n",
      "D     33\n",
      "E     32\n",
      "A     15\n",
      "F     13\n",
      "G      4\n",
      "T      1\n",
      "Name: cabin_adv, dtype: int64\n"
     ]
    },
    {
     "data": {
      "text/html": [
       "<div>\n",
       "<style scoped>\n",
       "    .dataframe tbody tr th:only-of-type {\n",
       "        vertical-align: middle;\n",
       "    }\n",
       "\n",
       "    .dataframe tbody tr th {\n",
       "        vertical-align: top;\n",
       "    }\n",
       "\n",
       "    .dataframe thead th {\n",
       "        text-align: right;\n",
       "    }\n",
       "</style>\n",
       "<table border=\"1\" class=\"dataframe\">\n",
       "  <thead>\n",
       "    <tr style=\"text-align: right;\">\n",
       "      <th>cabin_adv</th>\n",
       "      <th>A</th>\n",
       "      <th>B</th>\n",
       "      <th>C</th>\n",
       "      <th>D</th>\n",
       "      <th>E</th>\n",
       "      <th>F</th>\n",
       "      <th>G</th>\n",
       "      <th>T</th>\n",
       "      <th>n</th>\n",
       "    </tr>\n",
       "    <tr>\n",
       "      <th>Survived</th>\n",
       "      <th></th>\n",
       "      <th></th>\n",
       "      <th></th>\n",
       "      <th></th>\n",
       "      <th></th>\n",
       "      <th></th>\n",
       "      <th></th>\n",
       "      <th></th>\n",
       "      <th></th>\n",
       "    </tr>\n",
       "  </thead>\n",
       "  <tbody>\n",
       "    <tr>\n",
       "      <th>0</th>\n",
       "      <td>8.0</td>\n",
       "      <td>12.0</td>\n",
       "      <td>24.0</td>\n",
       "      <td>8.0</td>\n",
       "      <td>8.0</td>\n",
       "      <td>5.0</td>\n",
       "      <td>2.0</td>\n",
       "      <td>1.0</td>\n",
       "      <td>481.0</td>\n",
       "    </tr>\n",
       "    <tr>\n",
       "      <th>1</th>\n",
       "      <td>7.0</td>\n",
       "      <td>35.0</td>\n",
       "      <td>35.0</td>\n",
       "      <td>25.0</td>\n",
       "      <td>24.0</td>\n",
       "      <td>8.0</td>\n",
       "      <td>2.0</td>\n",
       "      <td>NaN</td>\n",
       "      <td>206.0</td>\n",
       "    </tr>\n",
       "  </tbody>\n",
       "</table>\n",
       "</div>"
      ],
      "text/plain": [
       "cabin_adv    A     B     C     D     E    F    G    T      n\n",
       "Survived                                                    \n",
       "0          8.0  12.0  24.0   8.0   8.0  5.0  2.0  1.0  481.0\n",
       "1          7.0  35.0  35.0  25.0  24.0  8.0  2.0  NaN  206.0"
      ]
     },
     "execution_count": 21,
     "metadata": {},
     "output_type": "execute_result"
    }
   ],
   "source": [
    "#Get cabin Letters from the cabin column.\n",
    "\n",
    "train['cabin_adv'] = train.Cabin.apply(lambda x: str(x)[0])\n",
    "\n",
    "#comparing surivial rate by cabin\n",
    "print(train.cabin_adv.value_counts())\n",
    "pd.pivot_table(train,index='Survived',columns='cabin_adv', values = 'Name', aggfunc='count')\n"
   ]
  },
  {
   "cell_type": "code",
   "execution_count": 22,
   "metadata": {
    "execution": {
     "iopub.execute_input": "2020-10-22T10:31:09.431652Z",
     "iopub.status.busy": "2020-10-22T10:31:09.431051Z",
     "iopub.status.idle": "2020-10-22T10:31:09.438563Z",
     "shell.execute_reply": "2020-10-22T10:31:09.438111Z"
    },
    "papermill": {
     "duration": 0.059637,
     "end_time": "2020-10-22T10:31:09.438671",
     "exception": false,
     "start_time": "2020-10-22T10:31:09.379034",
     "status": "completed"
    },
    "tags": []
   },
   "outputs": [
    {
     "data": {
      "text/plain": [
       "n    687\n",
       "C     59\n",
       "B     47\n",
       "D     33\n",
       "E     32\n",
       "A     15\n",
       "F     13\n",
       "G      4\n",
       "Name: cabin_adv, dtype: int64"
      ]
     },
     "execution_count": 22,
     "metadata": {},
     "output_type": "execute_result"
    }
   ],
   "source": [
    "#make things simple drop T since theres only 1 row.\n",
    "\n",
    "train[train['cabin_adv'] == 'T'].index\n",
    "train.drop(index = 339, inplace = True)\n",
    "train.cabin_adv.value_counts()"
   ]
  },
  {
   "cell_type": "code",
   "execution_count": 23,
   "metadata": {
    "execution": {
     "iopub.execute_input": "2020-10-22T10:31:09.547956Z",
     "iopub.status.busy": "2020-10-22T10:31:09.547206Z",
     "iopub.status.idle": "2020-10-22T10:31:09.551827Z",
     "shell.execute_reply": "2020-10-22T10:31:09.551316Z"
    },
    "papermill": {
     "duration": 0.066784,
     "end_time": "2020-10-22T10:31:09.551940",
     "exception": false,
     "start_time": "2020-10-22T10:31:09.485156",
     "status": "completed"
    },
    "tags": []
   },
   "outputs": [
    {
     "data": {
      "text/plain": [
       "0            664\n",
       "pc            60\n",
       "ca            41\n",
       "a5            21\n",
       "stono2        18\n",
       "sotonoq       15\n",
       "scparis       11\n",
       "wc            10\n",
       "a4             7\n",
       "soc            6\n",
       "c              5\n",
       "fcc            5\n",
       "sopp           3\n",
       "pp             3\n",
       "wep            3\n",
       "scah           2\n",
       "swpp           2\n",
       "sotono2        2\n",
       "ppp            2\n",
       "fc             1\n",
       "scow           1\n",
       "sca4           1\n",
       "sp             1\n",
       "sc             1\n",
       "scahbasle      1\n",
       "as             1\n",
       "casoton        1\n",
       "fa             1\n",
       "sop            1\n",
       "Name: ticket_letters, dtype: int64"
      ]
     },
     "execution_count": 23,
     "metadata": {},
     "output_type": "execute_result"
    }
   ],
   "source": [
    "#Getting the numbers and letters out of the tickets column\n",
    "train['numeric_ticket'] = train.Ticket.apply(lambda x: 1 if x.isnumeric() else 0)\n",
    "train['ticket_letters'] = train.Ticket.apply(lambda x: ''.join(x.split(' ')[:-1]).replace('.','').replace('/','').lower() if len(x.split(' ')[:-1]) >0 else 0)\n",
    "\n",
    "#lets us view all rows in dataframe through scrolling. This is for convenience \n",
    "pd.set_option(\"max_rows\", None)\n",
    "train['ticket_letters'].value_counts()"
   ]
  },
  {
   "cell_type": "code",
   "execution_count": 24,
   "metadata": {
    "execution": {
     "iopub.execute_input": "2020-10-22T10:31:09.697967Z",
     "iopub.status.busy": "2020-10-22T10:31:09.695939Z",
     "iopub.status.idle": "2020-10-22T10:31:09.723483Z",
     "shell.execute_reply": "2020-10-22T10:31:09.722815Z"
    },
    "papermill": {
     "duration": 0.102219,
     "end_time": "2020-10-22T10:31:09.723581",
     "exception": false,
     "start_time": "2020-10-22T10:31:09.621362",
     "status": "completed"
    },
    "tags": []
   },
   "outputs": [
    {
     "data": {
      "text/html": [
       "<div>\n",
       "<style scoped>\n",
       "    .dataframe tbody tr th:only-of-type {\n",
       "        vertical-align: middle;\n",
       "    }\n",
       "\n",
       "    .dataframe tbody tr th {\n",
       "        vertical-align: top;\n",
       "    }\n",
       "\n",
       "    .dataframe thead th {\n",
       "        text-align: right;\n",
       "    }\n",
       "</style>\n",
       "<table border=\"1\" class=\"dataframe\">\n",
       "  <thead>\n",
       "    <tr style=\"text-align: right;\">\n",
       "      <th>ticket_letters</th>\n",
       "      <th>0</th>\n",
       "      <th>a4</th>\n",
       "      <th>a5</th>\n",
       "      <th>as</th>\n",
       "      <th>c</th>\n",
       "      <th>ca</th>\n",
       "      <th>casoton</th>\n",
       "      <th>fa</th>\n",
       "      <th>fc</th>\n",
       "      <th>fcc</th>\n",
       "      <th>...</th>\n",
       "      <th>soc</th>\n",
       "      <th>sop</th>\n",
       "      <th>sopp</th>\n",
       "      <th>sotono2</th>\n",
       "      <th>sotonoq</th>\n",
       "      <th>sp</th>\n",
       "      <th>stono2</th>\n",
       "      <th>swpp</th>\n",
       "      <th>wc</th>\n",
       "      <th>wep</th>\n",
       "    </tr>\n",
       "    <tr>\n",
       "      <th>Survived</th>\n",
       "      <th></th>\n",
       "      <th></th>\n",
       "      <th></th>\n",
       "      <th></th>\n",
       "      <th></th>\n",
       "      <th></th>\n",
       "      <th></th>\n",
       "      <th></th>\n",
       "      <th></th>\n",
       "      <th></th>\n",
       "      <th></th>\n",
       "      <th></th>\n",
       "      <th></th>\n",
       "      <th></th>\n",
       "      <th></th>\n",
       "      <th></th>\n",
       "      <th></th>\n",
       "      <th></th>\n",
       "      <th></th>\n",
       "      <th></th>\n",
       "      <th></th>\n",
       "    </tr>\n",
       "  </thead>\n",
       "  <tbody>\n",
       "    <tr>\n",
       "      <th>0</th>\n",
       "      <td>409.0</td>\n",
       "      <td>7.0</td>\n",
       "      <td>19.0</td>\n",
       "      <td>1.0</td>\n",
       "      <td>3.0</td>\n",
       "      <td>27.0</td>\n",
       "      <td>1.0</td>\n",
       "      <td>1.0</td>\n",
       "      <td>1.0</td>\n",
       "      <td>1.0</td>\n",
       "      <td>...</td>\n",
       "      <td>5.0</td>\n",
       "      <td>1.0</td>\n",
       "      <td>3.0</td>\n",
       "      <td>2.0</td>\n",
       "      <td>13.0</td>\n",
       "      <td>1.0</td>\n",
       "      <td>10.0</td>\n",
       "      <td>NaN</td>\n",
       "      <td>9.0</td>\n",
       "      <td>2.0</td>\n",
       "    </tr>\n",
       "    <tr>\n",
       "      <th>1</th>\n",
       "      <td>255.0</td>\n",
       "      <td>NaN</td>\n",
       "      <td>2.0</td>\n",
       "      <td>NaN</td>\n",
       "      <td>2.0</td>\n",
       "      <td>14.0</td>\n",
       "      <td>NaN</td>\n",
       "      <td>NaN</td>\n",
       "      <td>NaN</td>\n",
       "      <td>4.0</td>\n",
       "      <td>...</td>\n",
       "      <td>1.0</td>\n",
       "      <td>NaN</td>\n",
       "      <td>NaN</td>\n",
       "      <td>NaN</td>\n",
       "      <td>2.0</td>\n",
       "      <td>NaN</td>\n",
       "      <td>8.0</td>\n",
       "      <td>2.0</td>\n",
       "      <td>1.0</td>\n",
       "      <td>1.0</td>\n",
       "    </tr>\n",
       "  </tbody>\n",
       "</table>\n",
       "<p>2 rows × 29 columns</p>\n",
       "</div>"
      ],
      "text/plain": [
       "ticket_letters      0   a4    a5   as    c    ca  casoton   fa   fc  fcc  ...  \\\n",
       "Survived                                                                  ...   \n",
       "0               409.0  7.0  19.0  1.0  3.0  27.0      1.0  1.0  1.0  1.0  ...   \n",
       "1               255.0  NaN   2.0  NaN  2.0  14.0      NaN  NaN  NaN  4.0  ...   \n",
       "\n",
       "ticket_letters  soc  sop  sopp  sotono2  sotonoq   sp  stono2  swpp   wc  wep  \n",
       "Survived                                                                       \n",
       "0               5.0  1.0   3.0      2.0     13.0  1.0    10.0   NaN  9.0  2.0  \n",
       "1               1.0  NaN   NaN      NaN      2.0  NaN     8.0   2.0  1.0  1.0  \n",
       "\n",
       "[2 rows x 29 columns]"
      ]
     },
     "execution_count": 24,
     "metadata": {},
     "output_type": "execute_result"
    }
   ],
   "source": [
    "#survival rate across different tyicket types \n",
    "pd.pivot_table(train,index='Survived',columns='ticket_letters', values = 'Ticket', aggfunc='count')"
   ]
  },
  {
   "cell_type": "code",
   "execution_count": 25,
   "metadata": {
    "execution": {
     "iopub.execute_input": "2020-10-22T10:31:09.826375Z",
     "iopub.status.busy": "2020-10-22T10:31:09.825931Z",
     "iopub.status.idle": "2020-10-22T10:31:09.831872Z",
     "shell.execute_reply": "2020-10-22T10:31:09.832213Z"
    },
    "papermill": {
     "duration": 0.060757,
     "end_time": "2020-10-22T10:31:09.832319",
     "exception": false,
     "start_time": "2020-10-22T10:31:09.771562",
     "status": "completed"
    },
    "tags": []
   },
   "outputs": [
    {
     "data": {
      "text/plain": [
       "Mr              516\n",
       "Miss            182\n",
       "Mrs             125\n",
       "Master           40\n",
       "Dr                7\n",
       "Rev               6\n",
       "Mlle              2\n",
       "Col               2\n",
       "Major             2\n",
       "the Countess      1\n",
       "Lady              1\n",
       "Mme               1\n",
       "Jonkheer          1\n",
       "Don               1\n",
       "Ms                1\n",
       "Sir               1\n",
       "Capt              1\n",
       "Name: name_title, dtype: int64"
      ]
     },
     "execution_count": 25,
     "metadata": {},
     "output_type": "execute_result"
    }
   ],
   "source": [
    "#feature engineering on person's title \n",
    "train.Name.head(50)\n",
    "train['name_title'] = train.Name.apply(lambda x: x.split(',')[1].split('.')[0].strip())\n",
    "\n",
    "#mr., ms., master. etc\n",
    "\n",
    "train['name_title'].value_counts()"
   ]
  },
  {
   "cell_type": "code",
   "execution_count": 26,
   "metadata": {
    "execution": {
     "iopub.execute_input": "2020-10-22T10:31:09.934138Z",
     "iopub.status.busy": "2020-10-22T10:31:09.931836Z",
     "iopub.status.idle": "2020-10-22T10:31:09.957100Z",
     "shell.execute_reply": "2020-10-22T10:31:09.957456Z"
    },
    "papermill": {
     "duration": 0.078095,
     "end_time": "2020-10-22T10:31:09.957578",
     "exception": false,
     "start_time": "2020-10-22T10:31:09.879483",
     "status": "completed"
    },
    "tags": []
   },
   "outputs": [
    {
     "data": {
      "text/html": [
       "<div>\n",
       "<style scoped>\n",
       "    .dataframe tbody tr th:only-of-type {\n",
       "        vertical-align: middle;\n",
       "    }\n",
       "\n",
       "    .dataframe tbody tr th {\n",
       "        vertical-align: top;\n",
       "    }\n",
       "\n",
       "    .dataframe thead th {\n",
       "        text-align: right;\n",
       "    }\n",
       "</style>\n",
       "<table border=\"1\" class=\"dataframe\">\n",
       "  <thead>\n",
       "    <tr style=\"text-align: right;\">\n",
       "      <th>name_title</th>\n",
       "      <th>Capt</th>\n",
       "      <th>Col</th>\n",
       "      <th>Don</th>\n",
       "      <th>Dr</th>\n",
       "      <th>Jonkheer</th>\n",
       "      <th>Lady</th>\n",
       "      <th>Major</th>\n",
       "      <th>Master</th>\n",
       "      <th>Miss</th>\n",
       "      <th>Mlle</th>\n",
       "      <th>Mme</th>\n",
       "      <th>Mr</th>\n",
       "      <th>Mrs</th>\n",
       "      <th>Ms</th>\n",
       "      <th>Rev</th>\n",
       "      <th>Sir</th>\n",
       "      <th>the Countess</th>\n",
       "    </tr>\n",
       "    <tr>\n",
       "      <th>Survived</th>\n",
       "      <th></th>\n",
       "      <th></th>\n",
       "      <th></th>\n",
       "      <th></th>\n",
       "      <th></th>\n",
       "      <th></th>\n",
       "      <th></th>\n",
       "      <th></th>\n",
       "      <th></th>\n",
       "      <th></th>\n",
       "      <th></th>\n",
       "      <th></th>\n",
       "      <th></th>\n",
       "      <th></th>\n",
       "      <th></th>\n",
       "      <th></th>\n",
       "      <th></th>\n",
       "    </tr>\n",
       "  </thead>\n",
       "  <tbody>\n",
       "    <tr>\n",
       "      <th>0</th>\n",
       "      <td>1.0</td>\n",
       "      <td>1.0</td>\n",
       "      <td>1.0</td>\n",
       "      <td>4.0</td>\n",
       "      <td>1.0</td>\n",
       "      <td>NaN</td>\n",
       "      <td>1.0</td>\n",
       "      <td>17.0</td>\n",
       "      <td>55.0</td>\n",
       "      <td>NaN</td>\n",
       "      <td>NaN</td>\n",
       "      <td>435.0</td>\n",
       "      <td>26.0</td>\n",
       "      <td>NaN</td>\n",
       "      <td>6.0</td>\n",
       "      <td>NaN</td>\n",
       "      <td>NaN</td>\n",
       "    </tr>\n",
       "    <tr>\n",
       "      <th>1</th>\n",
       "      <td>NaN</td>\n",
       "      <td>1.0</td>\n",
       "      <td>NaN</td>\n",
       "      <td>3.0</td>\n",
       "      <td>NaN</td>\n",
       "      <td>1.0</td>\n",
       "      <td>1.0</td>\n",
       "      <td>23.0</td>\n",
       "      <td>127.0</td>\n",
       "      <td>2.0</td>\n",
       "      <td>1.0</td>\n",
       "      <td>81.0</td>\n",
       "      <td>99.0</td>\n",
       "      <td>1.0</td>\n",
       "      <td>NaN</td>\n",
       "      <td>1.0</td>\n",
       "      <td>1.0</td>\n",
       "    </tr>\n",
       "  </tbody>\n",
       "</table>\n",
       "</div>"
      ],
      "text/plain": [
       "name_title  Capt  Col  Don   Dr  Jonkheer  Lady  Major  Master   Miss  Mlle  \\\n",
       "Survived                                                                      \n",
       "0            1.0  1.0  1.0  4.0       1.0   NaN    1.0    17.0   55.0   NaN   \n",
       "1            NaN  1.0  NaN  3.0       NaN   1.0    1.0    23.0  127.0   2.0   \n",
       "\n",
       "name_title  Mme     Mr   Mrs   Ms  Rev  Sir  the Countess  \n",
       "Survived                                                   \n",
       "0           NaN  435.0  26.0  NaN  6.0  NaN           NaN  \n",
       "1           1.0   81.0  99.0  1.0  NaN  1.0           1.0  "
      ]
     },
     "execution_count": 26,
     "metadata": {},
     "output_type": "execute_result"
    }
   ],
   "source": [
    "pd.pivot_table(train,index='Survived',columns='name_title', values = 'Ticket', aggfunc='count')"
   ]
  },
  {
   "cell_type": "markdown",
   "metadata": {
    "papermill": {
     "duration": 0.047523,
     "end_time": "2020-10-22T10:31:10.053200",
     "exception": false,
     "start_time": "2020-10-22T10:31:10.005677",
     "status": "completed"
    },
    "tags": []
   },
   "source": [
    "Now lets also apply our Feature Engineering changes to test data."
   ]
  },
  {
   "cell_type": "code",
   "execution_count": 27,
   "metadata": {
    "execution": {
     "iopub.execute_input": "2020-10-22T10:31:10.175230Z",
     "iopub.status.busy": "2020-10-22T10:31:10.162549Z",
     "iopub.status.idle": "2020-10-22T10:31:10.179715Z",
     "shell.execute_reply": "2020-10-22T10:31:10.179266Z"
    },
    "papermill": {
     "duration": 0.07736,
     "end_time": "2020-10-22T10:31:10.179799",
     "exception": false,
     "start_time": "2020-10-22T10:31:10.102439",
     "status": "completed"
    },
    "tags": []
   },
   "outputs": [
    {
     "data": {
      "text/plain": [
       "n    327\n",
       "C     35\n",
       "B     18\n",
       "D     13\n",
       "E      9\n",
       "F      8\n",
       "A      7\n",
       "G      1\n",
       "Name: cabin_adv, dtype: int64"
      ]
     },
     "execution_count": 27,
     "metadata": {},
     "output_type": "execute_result"
    }
   ],
   "source": [
    "test['Fam'] = test['SibSp'] + test['Parch']\n",
    "test['cabin_adv'] = test.Cabin.apply(lambda x: str(x)[0])\n",
    "test['numeric_ticket'] = test.Ticket.apply(lambda x: 1 if x.isnumeric() else 0)\n",
    "test['ticket_letters'] = test.Ticket.apply(lambda x: ''.join(x.split(' ')[:-1]).replace('.','').replace('/','').lower() if len(x.split(' ')[:-1]) >0 else 0)\n",
    "test.Name.head(50)\n",
    "test['name_title'] = test.Name.apply(lambda x: x.split(',')[1].split('.')[0].strip())\n",
    "# test.head()\n",
    "test['cabin_adv'].value_counts()"
   ]
  },
  {
   "cell_type": "markdown",
   "metadata": {
    "papermill": {
     "duration": 0.048472,
     "end_time": "2020-10-22T10:31:10.276903",
     "exception": false,
     "start_time": "2020-10-22T10:31:10.228431",
     "status": "completed"
    },
    "tags": []
   },
   "source": [
    "Lets handle **Null** values in our **train** data."
   ]
  },
  {
   "cell_type": "code",
   "execution_count": 28,
   "metadata": {
    "execution": {
     "iopub.execute_input": "2020-10-22T10:31:10.390606Z",
     "iopub.status.busy": "2020-10-22T10:31:10.389862Z",
     "iopub.status.idle": "2020-10-22T10:31:10.401441Z",
     "shell.execute_reply": "2020-10-22T10:31:10.400851Z"
    },
    "papermill": {
     "duration": 0.075151,
     "end_time": "2020-10-22T10:31:10.401535",
     "exception": false,
     "start_time": "2020-10-22T10:31:10.326384",
     "status": "completed"
    },
    "tags": []
   },
   "outputs": [
    {
     "data": {
      "text/html": [
       "<div>\n",
       "<style scoped>\n",
       "    .dataframe tbody tr th:only-of-type {\n",
       "        vertical-align: middle;\n",
       "    }\n",
       "\n",
       "    .dataframe tbody tr th {\n",
       "        vertical-align: top;\n",
       "    }\n",
       "\n",
       "    .dataframe thead th {\n",
       "        text-align: right;\n",
       "    }\n",
       "</style>\n",
       "<table border=\"1\" class=\"dataframe\">\n",
       "  <thead>\n",
       "    <tr style=\"text-align: right;\">\n",
       "      <th></th>\n",
       "      <th>Survived</th>\n",
       "      <th>Pclass</th>\n",
       "      <th>Sex</th>\n",
       "      <th>Age</th>\n",
       "      <th>SibSp</th>\n",
       "      <th>Parch</th>\n",
       "      <th>Ticket</th>\n",
       "      <th>Fare</th>\n",
       "      <th>Embarked</th>\n",
       "      <th>Fam</th>\n",
       "      <th>cabin_adv</th>\n",
       "      <th>numeric_ticket</th>\n",
       "      <th>ticket_letters</th>\n",
       "      <th>name_title</th>\n",
       "    </tr>\n",
       "  </thead>\n",
       "  <tbody>\n",
       "    <tr>\n",
       "      <th>0</th>\n",
       "      <td>0</td>\n",
       "      <td>3</td>\n",
       "      <td>male</td>\n",
       "      <td>22.0</td>\n",
       "      <td>1</td>\n",
       "      <td>0</td>\n",
       "      <td>A/5 21171</td>\n",
       "      <td>7.2500</td>\n",
       "      <td>S</td>\n",
       "      <td>1</td>\n",
       "      <td>n</td>\n",
       "      <td>0</td>\n",
       "      <td>a5</td>\n",
       "      <td>Mr</td>\n",
       "    </tr>\n",
       "    <tr>\n",
       "      <th>1</th>\n",
       "      <td>1</td>\n",
       "      <td>1</td>\n",
       "      <td>female</td>\n",
       "      <td>38.0</td>\n",
       "      <td>1</td>\n",
       "      <td>0</td>\n",
       "      <td>PC 17599</td>\n",
       "      <td>71.2833</td>\n",
       "      <td>C</td>\n",
       "      <td>1</td>\n",
       "      <td>C</td>\n",
       "      <td>0</td>\n",
       "      <td>pc</td>\n",
       "      <td>Mrs</td>\n",
       "    </tr>\n",
       "    <tr>\n",
       "      <th>2</th>\n",
       "      <td>1</td>\n",
       "      <td>3</td>\n",
       "      <td>female</td>\n",
       "      <td>26.0</td>\n",
       "      <td>0</td>\n",
       "      <td>0</td>\n",
       "      <td>STON/O2. 3101282</td>\n",
       "      <td>7.9250</td>\n",
       "      <td>S</td>\n",
       "      <td>0</td>\n",
       "      <td>n</td>\n",
       "      <td>0</td>\n",
       "      <td>stono2</td>\n",
       "      <td>Miss</td>\n",
       "    </tr>\n",
       "    <tr>\n",
       "      <th>3</th>\n",
       "      <td>1</td>\n",
       "      <td>1</td>\n",
       "      <td>female</td>\n",
       "      <td>35.0</td>\n",
       "      <td>1</td>\n",
       "      <td>0</td>\n",
       "      <td>113803</td>\n",
       "      <td>53.1000</td>\n",
       "      <td>S</td>\n",
       "      <td>1</td>\n",
       "      <td>C</td>\n",
       "      <td>1</td>\n",
       "      <td>0</td>\n",
       "      <td>Mrs</td>\n",
       "    </tr>\n",
       "    <tr>\n",
       "      <th>4</th>\n",
       "      <td>0</td>\n",
       "      <td>3</td>\n",
       "      <td>male</td>\n",
       "      <td>35.0</td>\n",
       "      <td>0</td>\n",
       "      <td>0</td>\n",
       "      <td>373450</td>\n",
       "      <td>8.0500</td>\n",
       "      <td>S</td>\n",
       "      <td>0</td>\n",
       "      <td>n</td>\n",
       "      <td>1</td>\n",
       "      <td>0</td>\n",
       "      <td>Mr</td>\n",
       "    </tr>\n",
       "  </tbody>\n",
       "</table>\n",
       "</div>"
      ],
      "text/plain": [
       "   Survived  Pclass     Sex   Age  SibSp  Parch            Ticket     Fare  \\\n",
       "0         0       3    male  22.0      1      0         A/5 21171   7.2500   \n",
       "1         1       1  female  38.0      1      0          PC 17599  71.2833   \n",
       "2         1       3  female  26.0      0      0  STON/O2. 3101282   7.9250   \n",
       "3         1       1  female  35.0      1      0            113803  53.1000   \n",
       "4         0       3    male  35.0      0      0            373450   8.0500   \n",
       "\n",
       "  Embarked  Fam cabin_adv  numeric_ticket ticket_letters name_title  \n",
       "0        S    1         n               0             a5         Mr  \n",
       "1        C    1         C               0             pc        Mrs  \n",
       "2        S    0         n               0         stono2       Miss  \n",
       "3        S    1         C               1              0        Mrs  \n",
       "4        S    0         n               1              0         Mr  "
      ]
     },
     "execution_count": 28,
     "metadata": {},
     "output_type": "execute_result"
    }
   ],
   "source": [
    "#impute nulls for continuous data \n",
    "train.Age = train.Age.fillna(train.Age.median())\n",
    "train.Fare = train.Fare.fillna(train.Fare.median())\n",
    "#drop null 'embarked' rows. Only 2 instances of this in training and 0 in test \n",
    "train.dropna(subset=['Embarked'],inplace = True)\n",
    "train.drop(columns=['Name', 'PassengerId', 'Cabin'], inplace = True)\n",
    "train.head()"
   ]
  },
  {
   "cell_type": "markdown",
   "metadata": {
    "papermill": {
     "duration": 0.048834,
     "end_time": "2020-10-22T10:31:10.534671",
     "exception": false,
     "start_time": "2020-10-22T10:31:10.485837",
     "status": "completed"
    },
    "tags": []
   },
   "source": [
    "Lets also handle **Null** values in our **test** data."
   ]
  },
  {
   "cell_type": "code",
   "execution_count": 29,
   "metadata": {
    "execution": {
     "iopub.execute_input": "2020-10-22T10:31:10.648470Z",
     "iopub.status.busy": "2020-10-22T10:31:10.647684Z",
     "iopub.status.idle": "2020-10-22T10:31:10.658315Z",
     "shell.execute_reply": "2020-10-22T10:31:10.658719Z"
    },
    "papermill": {
     "duration": 0.075486,
     "end_time": "2020-10-22T10:31:10.658839",
     "exception": false,
     "start_time": "2020-10-22T10:31:10.583353",
     "status": "completed"
    },
    "tags": []
   },
   "outputs": [
    {
     "data": {
      "text/html": [
       "<div>\n",
       "<style scoped>\n",
       "    .dataframe tbody tr th:only-of-type {\n",
       "        vertical-align: middle;\n",
       "    }\n",
       "\n",
       "    .dataframe tbody tr th {\n",
       "        vertical-align: top;\n",
       "    }\n",
       "\n",
       "    .dataframe thead th {\n",
       "        text-align: right;\n",
       "    }\n",
       "</style>\n",
       "<table border=\"1\" class=\"dataframe\">\n",
       "  <thead>\n",
       "    <tr style=\"text-align: right;\">\n",
       "      <th></th>\n",
       "      <th>Pclass</th>\n",
       "      <th>Sex</th>\n",
       "      <th>Age</th>\n",
       "      <th>SibSp</th>\n",
       "      <th>Parch</th>\n",
       "      <th>Ticket</th>\n",
       "      <th>Fare</th>\n",
       "      <th>Embarked</th>\n",
       "      <th>Fam</th>\n",
       "      <th>cabin_adv</th>\n",
       "      <th>numeric_ticket</th>\n",
       "      <th>ticket_letters</th>\n",
       "      <th>name_title</th>\n",
       "    </tr>\n",
       "  </thead>\n",
       "  <tbody>\n",
       "    <tr>\n",
       "      <th>0</th>\n",
       "      <td>3</td>\n",
       "      <td>male</td>\n",
       "      <td>34.5</td>\n",
       "      <td>0</td>\n",
       "      <td>0</td>\n",
       "      <td>330911</td>\n",
       "      <td>7.8292</td>\n",
       "      <td>Q</td>\n",
       "      <td>0</td>\n",
       "      <td>n</td>\n",
       "      <td>1</td>\n",
       "      <td>0</td>\n",
       "      <td>Mr</td>\n",
       "    </tr>\n",
       "    <tr>\n",
       "      <th>1</th>\n",
       "      <td>3</td>\n",
       "      <td>female</td>\n",
       "      <td>47.0</td>\n",
       "      <td>1</td>\n",
       "      <td>0</td>\n",
       "      <td>363272</td>\n",
       "      <td>7.0000</td>\n",
       "      <td>S</td>\n",
       "      <td>1</td>\n",
       "      <td>n</td>\n",
       "      <td>1</td>\n",
       "      <td>0</td>\n",
       "      <td>Mrs</td>\n",
       "    </tr>\n",
       "    <tr>\n",
       "      <th>2</th>\n",
       "      <td>2</td>\n",
       "      <td>male</td>\n",
       "      <td>62.0</td>\n",
       "      <td>0</td>\n",
       "      <td>0</td>\n",
       "      <td>240276</td>\n",
       "      <td>9.6875</td>\n",
       "      <td>Q</td>\n",
       "      <td>0</td>\n",
       "      <td>n</td>\n",
       "      <td>1</td>\n",
       "      <td>0</td>\n",
       "      <td>Mr</td>\n",
       "    </tr>\n",
       "    <tr>\n",
       "      <th>3</th>\n",
       "      <td>3</td>\n",
       "      <td>male</td>\n",
       "      <td>27.0</td>\n",
       "      <td>0</td>\n",
       "      <td>0</td>\n",
       "      <td>315154</td>\n",
       "      <td>8.6625</td>\n",
       "      <td>S</td>\n",
       "      <td>0</td>\n",
       "      <td>n</td>\n",
       "      <td>1</td>\n",
       "      <td>0</td>\n",
       "      <td>Mr</td>\n",
       "    </tr>\n",
       "    <tr>\n",
       "      <th>4</th>\n",
       "      <td>3</td>\n",
       "      <td>female</td>\n",
       "      <td>22.0</td>\n",
       "      <td>1</td>\n",
       "      <td>1</td>\n",
       "      <td>3101298</td>\n",
       "      <td>12.2875</td>\n",
       "      <td>S</td>\n",
       "      <td>2</td>\n",
       "      <td>n</td>\n",
       "      <td>1</td>\n",
       "      <td>0</td>\n",
       "      <td>Mrs</td>\n",
       "    </tr>\n",
       "  </tbody>\n",
       "</table>\n",
       "</div>"
      ],
      "text/plain": [
       "   Pclass     Sex   Age  SibSp  Parch   Ticket     Fare Embarked  Fam  \\\n",
       "0       3    male  34.5      0      0   330911   7.8292        Q    0   \n",
       "1       3  female  47.0      1      0   363272   7.0000        S    1   \n",
       "2       2    male  62.0      0      0   240276   9.6875        Q    0   \n",
       "3       3    male  27.0      0      0   315154   8.6625        S    0   \n",
       "4       3  female  22.0      1      1  3101298  12.2875        S    2   \n",
       "\n",
       "  cabin_adv  numeric_ticket ticket_letters name_title  \n",
       "0         n               1              0         Mr  \n",
       "1         n               1              0        Mrs  \n",
       "2         n               1              0         Mr  \n",
       "3         n               1              0         Mr  \n",
       "4         n               1              0        Mrs  "
      ]
     },
     "execution_count": 29,
     "metadata": {},
     "output_type": "execute_result"
    }
   ],
   "source": [
    "#impute nulls for continuous data \n",
    "test.Age = test.Age.fillna(train.Age.median())\n",
    "test.Fare = test.Fare.fillna(train.Fare.median())\n",
    "\n",
    "#drop null 'embarked' rows. Only 2 instances of this in training and 0 in test \n",
    "test.dropna(subset=['Embarked'],inplace = True)\n",
    "passid = test['PassengerId'].copy()\n",
    "test.drop(columns=['Name', 'PassengerId', 'Cabin'], inplace = True)\n",
    "test.head()"
   ]
  },
  {
   "cell_type": "markdown",
   "metadata": {
    "papermill": {
     "duration": 0.049049,
     "end_time": "2020-10-22T10:31:10.757445",
     "exception": false,
     "start_time": "2020-10-22T10:31:10.708396",
     "status": "completed"
    },
    "tags": []
   },
   "source": [
    "Lets get our data **One Hot Encoded**.\n",
    "We treated to training and test set separately until now, but its just simpler to get the one hot encodings if the datasets are concatenated."
   ]
  },
  {
   "cell_type": "code",
   "execution_count": 30,
   "metadata": {
    "execution": {
     "iopub.execute_input": "2020-10-22T10:31:10.865094Z",
     "iopub.status.busy": "2020-10-22T10:31:10.864401Z",
     "iopub.status.idle": "2020-10-22T10:31:10.900169Z",
     "shell.execute_reply": "2020-10-22T10:31:10.899658Z"
    },
    "papermill": {
     "duration": 0.09292,
     "end_time": "2020-10-22T10:31:10.900262",
     "exception": false,
     "start_time": "2020-10-22T10:31:10.807342",
     "status": "completed"
    },
    "tags": []
   },
   "outputs": [
    {
     "data": {
      "text/html": [
       "<div>\n",
       "<style scoped>\n",
       "    .dataframe tbody tr th:only-of-type {\n",
       "        vertical-align: middle;\n",
       "    }\n",
       "\n",
       "    .dataframe tbody tr th {\n",
       "        vertical-align: top;\n",
       "    }\n",
       "\n",
       "    .dataframe thead th {\n",
       "        text-align: right;\n",
       "    }\n",
       "</style>\n",
       "<table border=\"1\" class=\"dataframe\">\n",
       "  <thead>\n",
       "    <tr style=\"text-align: right;\">\n",
       "      <th></th>\n",
       "      <th>Pclass</th>\n",
       "      <th>Age</th>\n",
       "      <th>SibSp</th>\n",
       "      <th>Parch</th>\n",
       "      <th>Fare</th>\n",
       "      <th>Fam</th>\n",
       "      <th>numeric_ticket</th>\n",
       "      <th>ind</th>\n",
       "      <th>Sex_female</th>\n",
       "      <th>Sex_male</th>\n",
       "      <th>...</th>\n",
       "      <th>name_title_Master</th>\n",
       "      <th>name_title_Miss</th>\n",
       "      <th>name_title_Mlle</th>\n",
       "      <th>name_title_Mme</th>\n",
       "      <th>name_title_Mr</th>\n",
       "      <th>name_title_Mrs</th>\n",
       "      <th>name_title_Ms</th>\n",
       "      <th>name_title_Rev</th>\n",
       "      <th>name_title_Sir</th>\n",
       "      <th>name_title_the Countess</th>\n",
       "    </tr>\n",
       "  </thead>\n",
       "  <tbody>\n",
       "    <tr>\n",
       "      <th>0</th>\n",
       "      <td>3</td>\n",
       "      <td>22.0</td>\n",
       "      <td>1</td>\n",
       "      <td>0</td>\n",
       "      <td>7.2500</td>\n",
       "      <td>1</td>\n",
       "      <td>0</td>\n",
       "      <td>1</td>\n",
       "      <td>0</td>\n",
       "      <td>1</td>\n",
       "      <td>...</td>\n",
       "      <td>0</td>\n",
       "      <td>0</td>\n",
       "      <td>0</td>\n",
       "      <td>0</td>\n",
       "      <td>1</td>\n",
       "      <td>0</td>\n",
       "      <td>0</td>\n",
       "      <td>0</td>\n",
       "      <td>0</td>\n",
       "      <td>0</td>\n",
       "    </tr>\n",
       "    <tr>\n",
       "      <th>1</th>\n",
       "      <td>1</td>\n",
       "      <td>38.0</td>\n",
       "      <td>1</td>\n",
       "      <td>0</td>\n",
       "      <td>71.2833</td>\n",
       "      <td>1</td>\n",
       "      <td>0</td>\n",
       "      <td>1</td>\n",
       "      <td>1</td>\n",
       "      <td>0</td>\n",
       "      <td>...</td>\n",
       "      <td>0</td>\n",
       "      <td>0</td>\n",
       "      <td>0</td>\n",
       "      <td>0</td>\n",
       "      <td>0</td>\n",
       "      <td>1</td>\n",
       "      <td>0</td>\n",
       "      <td>0</td>\n",
       "      <td>0</td>\n",
       "      <td>0</td>\n",
       "    </tr>\n",
       "    <tr>\n",
       "      <th>2</th>\n",
       "      <td>3</td>\n",
       "      <td>26.0</td>\n",
       "      <td>0</td>\n",
       "      <td>0</td>\n",
       "      <td>7.9250</td>\n",
       "      <td>0</td>\n",
       "      <td>0</td>\n",
       "      <td>1</td>\n",
       "      <td>1</td>\n",
       "      <td>0</td>\n",
       "      <td>...</td>\n",
       "      <td>0</td>\n",
       "      <td>1</td>\n",
       "      <td>0</td>\n",
       "      <td>0</td>\n",
       "      <td>0</td>\n",
       "      <td>0</td>\n",
       "      <td>0</td>\n",
       "      <td>0</td>\n",
       "      <td>0</td>\n",
       "      <td>0</td>\n",
       "    </tr>\n",
       "    <tr>\n",
       "      <th>3</th>\n",
       "      <td>1</td>\n",
       "      <td>35.0</td>\n",
       "      <td>1</td>\n",
       "      <td>0</td>\n",
       "      <td>53.1000</td>\n",
       "      <td>1</td>\n",
       "      <td>1</td>\n",
       "      <td>1</td>\n",
       "      <td>1</td>\n",
       "      <td>0</td>\n",
       "      <td>...</td>\n",
       "      <td>0</td>\n",
       "      <td>0</td>\n",
       "      <td>0</td>\n",
       "      <td>0</td>\n",
       "      <td>0</td>\n",
       "      <td>1</td>\n",
       "      <td>0</td>\n",
       "      <td>0</td>\n",
       "      <td>0</td>\n",
       "      <td>0</td>\n",
       "    </tr>\n",
       "    <tr>\n",
       "      <th>4</th>\n",
       "      <td>3</td>\n",
       "      <td>35.0</td>\n",
       "      <td>0</td>\n",
       "      <td>0</td>\n",
       "      <td>8.0500</td>\n",
       "      <td>0</td>\n",
       "      <td>1</td>\n",
       "      <td>1</td>\n",
       "      <td>0</td>\n",
       "      <td>1</td>\n",
       "      <td>...</td>\n",
       "      <td>0</td>\n",
       "      <td>0</td>\n",
       "      <td>0</td>\n",
       "      <td>0</td>\n",
       "      <td>1</td>\n",
       "      <td>0</td>\n",
       "      <td>0</td>\n",
       "      <td>0</td>\n",
       "      <td>0</td>\n",
       "      <td>0</td>\n",
       "    </tr>\n",
       "  </tbody>\n",
       "</table>\n",
       "<p>5 rows × 1001 columns</p>\n",
       "</div>"
      ],
      "text/plain": [
       "   Pclass   Age  SibSp  Parch     Fare  Fam  numeric_ticket  ind  Sex_female  \\\n",
       "0       3  22.0      1      0   7.2500    1               0    1           0   \n",
       "1       1  38.0      1      0  71.2833    1               0    1           1   \n",
       "2       3  26.0      0      0   7.9250    0               0    1           1   \n",
       "3       1  35.0      1      0  53.1000    1               1    1           1   \n",
       "4       3  35.0      0      0   8.0500    0               1    1           0   \n",
       "\n",
       "   Sex_male  ...  name_title_Master  name_title_Miss  name_title_Mlle  \\\n",
       "0         1  ...                  0                0                0   \n",
       "1         0  ...                  0                0                0   \n",
       "2         0  ...                  0                1                0   \n",
       "3         0  ...                  0                0                0   \n",
       "4         1  ...                  0                0                0   \n",
       "\n",
       "   name_title_Mme  name_title_Mr  name_title_Mrs  name_title_Ms  \\\n",
       "0               0              1               0              0   \n",
       "1               0              0               1              0   \n",
       "2               0              0               0              0   \n",
       "3               0              0               1              0   \n",
       "4               0              1               0              0   \n",
       "\n",
       "   name_title_Rev  name_title_Sir  name_title_the Countess  \n",
       "0               0               0                        0  \n",
       "1               0               0                        0  \n",
       "2               0               0                        0  \n",
       "3               0               0                        0  \n",
       "4               0               0                        0  \n",
       "\n",
       "[5 rows x 1001 columns]"
      ]
     },
     "execution_count": 30,
     "metadata": {},
     "output_type": "execute_result"
    }
   ],
   "source": [
    "df = pd.concat([train.assign(ind=1), test.assign(ind=0)])\n",
    "df_hot = pd.get_dummies(df[['Pclass', 'Sex', 'Age', 'SibSp', 'Parch', 'Ticket', 'Fare', 'Embarked', 'Fam', 'cabin_adv', 'numeric_ticket', 'ticket_letters', 'name_title', 'ind']])\n",
    "#notice that I left out our target column.\n",
    "df_hot.head()"
   ]
  },
  {
   "cell_type": "code",
   "execution_count": 31,
   "metadata": {
    "execution": {
     "iopub.execute_input": "2020-10-22T10:31:11.009386Z",
     "iopub.status.busy": "2020-10-22T10:31:11.008583Z",
     "iopub.status.idle": "2020-10-22T10:31:11.017499Z",
     "shell.execute_reply": "2020-10-22T10:31:11.017032Z"
    },
    "papermill": {
     "duration": 0.064262,
     "end_time": "2020-10-22T10:31:11.017667",
     "exception": false,
     "start_time": "2020-10-22T10:31:10.953405",
     "status": "completed"
    },
    "tags": []
   },
   "outputs": [],
   "source": [
    "test_hot, train_hot = df_hot[df_hot[\"ind\"].eq(0)], df_hot[df_hot[\"ind\"].eq(1)]\n"
   ]
  },
  {
   "cell_type": "code",
   "execution_count": 32,
   "metadata": {
    "execution": {
     "iopub.execute_input": "2020-10-22T10:31:11.123568Z",
     "iopub.status.busy": "2020-10-22T10:31:11.123022Z",
     "iopub.status.idle": "2020-10-22T10:31:11.210398Z",
     "shell.execute_reply": "2020-10-22T10:31:11.209889Z"
    },
    "papermill": {
     "duration": 0.142359,
     "end_time": "2020-10-22T10:31:11.210488",
     "exception": false,
     "start_time": "2020-10-22T10:31:11.068129",
     "status": "completed"
    },
    "tags": []
   },
   "outputs": [
    {
     "name": "stderr",
     "output_type": "stream",
     "text": [
      "/opt/conda/lib/python3.7/site-packages/ipykernel_launcher.py:4: SettingWithCopyWarning: \n",
      "A value is trying to be set on a copy of a slice from a DataFrame.\n",
      "Try using .loc[row_indexer,col_indexer] = value instead\n",
      "\n",
      "See the caveats in the documentation: https://pandas.pydata.org/pandas-docs/stable/user_guide/indexing.html#returning-a-view-versus-a-copy\n",
      "  after removing the cwd from sys.path.\n",
      "/opt/conda/lib/python3.7/site-packages/pandas/core/indexing.py:1736: SettingWithCopyWarning: \n",
      "A value is trying to be set on a copy of a slice from a DataFrame.\n",
      "Try using .loc[row_indexer,col_indexer] = value instead\n",
      "\n",
      "See the caveats in the documentation: https://pandas.pydata.org/pandas-docs/stable/user_guide/indexing.html#returning-a-view-versus-a-copy\n",
      "  isetter(loc, value[:, i].tolist())\n"
     ]
    },
    {
     "data": {
      "text/html": [
       "<div>\n",
       "<style scoped>\n",
       "    .dataframe tbody tr th:only-of-type {\n",
       "        vertical-align: middle;\n",
       "    }\n",
       "\n",
       "    .dataframe tbody tr th {\n",
       "        vertical-align: top;\n",
       "    }\n",
       "\n",
       "    .dataframe thead th {\n",
       "        text-align: right;\n",
       "    }\n",
       "</style>\n",
       "<table border=\"1\" class=\"dataframe\">\n",
       "  <thead>\n",
       "    <tr style=\"text-align: right;\">\n",
       "      <th></th>\n",
       "      <th>Pclass</th>\n",
       "      <th>Age</th>\n",
       "      <th>SibSp</th>\n",
       "      <th>Parch</th>\n",
       "      <th>Fare</th>\n",
       "      <th>Fam</th>\n",
       "      <th>numeric_ticket</th>\n",
       "      <th>ind</th>\n",
       "      <th>Sex_female</th>\n",
       "      <th>Sex_male</th>\n",
       "      <th>...</th>\n",
       "      <th>name_title_Master</th>\n",
       "      <th>name_title_Miss</th>\n",
       "      <th>name_title_Mlle</th>\n",
       "      <th>name_title_Mme</th>\n",
       "      <th>name_title_Mr</th>\n",
       "      <th>name_title_Mrs</th>\n",
       "      <th>name_title_Ms</th>\n",
       "      <th>name_title_Rev</th>\n",
       "      <th>name_title_Sir</th>\n",
       "      <th>name_title_the Countess</th>\n",
       "    </tr>\n",
       "  </thead>\n",
       "  <tbody>\n",
       "    <tr>\n",
       "      <th>0</th>\n",
       "      <td>3</td>\n",
       "      <td>-0.562459</td>\n",
       "      <td>0.430627</td>\n",
       "      <td>-0.474653</td>\n",
       "      <td>-0.499883</td>\n",
       "      <td>0.057199</td>\n",
       "      <td>0</td>\n",
       "      <td>1</td>\n",
       "      <td>0</td>\n",
       "      <td>1</td>\n",
       "      <td>...</td>\n",
       "      <td>0</td>\n",
       "      <td>0</td>\n",
       "      <td>0</td>\n",
       "      <td>0</td>\n",
       "      <td>1</td>\n",
       "      <td>0</td>\n",
       "      <td>0</td>\n",
       "      <td>0</td>\n",
       "      <td>0</td>\n",
       "      <td>0</td>\n",
       "    </tr>\n",
       "    <tr>\n",
       "      <th>1</th>\n",
       "      <td>1</td>\n",
       "      <td>0.670753</td>\n",
       "      <td>0.430627</td>\n",
       "      <td>-0.474653</td>\n",
       "      <td>0.788582</td>\n",
       "      <td>0.057199</td>\n",
       "      <td>0</td>\n",
       "      <td>1</td>\n",
       "      <td>1</td>\n",
       "      <td>0</td>\n",
       "      <td>...</td>\n",
       "      <td>0</td>\n",
       "      <td>0</td>\n",
       "      <td>0</td>\n",
       "      <td>0</td>\n",
       "      <td>0</td>\n",
       "      <td>1</td>\n",
       "      <td>0</td>\n",
       "      <td>0</td>\n",
       "      <td>0</td>\n",
       "      <td>0</td>\n",
       "    </tr>\n",
       "    <tr>\n",
       "      <th>2</th>\n",
       "      <td>3</td>\n",
       "      <td>-0.254156</td>\n",
       "      <td>-0.475527</td>\n",
       "      <td>-0.474653</td>\n",
       "      <td>-0.486300</td>\n",
       "      <td>-0.562221</td>\n",
       "      <td>0</td>\n",
       "      <td>1</td>\n",
       "      <td>1</td>\n",
       "      <td>0</td>\n",
       "      <td>...</td>\n",
       "      <td>0</td>\n",
       "      <td>1</td>\n",
       "      <td>0</td>\n",
       "      <td>0</td>\n",
       "      <td>0</td>\n",
       "      <td>0</td>\n",
       "      <td>0</td>\n",
       "      <td>0</td>\n",
       "      <td>0</td>\n",
       "      <td>0</td>\n",
       "    </tr>\n",
       "    <tr>\n",
       "      <th>3</th>\n",
       "      <td>1</td>\n",
       "      <td>0.439525</td>\n",
       "      <td>0.430627</td>\n",
       "      <td>-0.474653</td>\n",
       "      <td>0.422701</td>\n",
       "      <td>0.057199</td>\n",
       "      <td>1</td>\n",
       "      <td>1</td>\n",
       "      <td>1</td>\n",
       "      <td>0</td>\n",
       "      <td>...</td>\n",
       "      <td>0</td>\n",
       "      <td>0</td>\n",
       "      <td>0</td>\n",
       "      <td>0</td>\n",
       "      <td>0</td>\n",
       "      <td>1</td>\n",
       "      <td>0</td>\n",
       "      <td>0</td>\n",
       "      <td>0</td>\n",
       "      <td>0</td>\n",
       "    </tr>\n",
       "    <tr>\n",
       "      <th>4</th>\n",
       "      <td>3</td>\n",
       "      <td>0.439525</td>\n",
       "      <td>-0.475527</td>\n",
       "      <td>-0.474653</td>\n",
       "      <td>-0.483785</td>\n",
       "      <td>-0.562221</td>\n",
       "      <td>1</td>\n",
       "      <td>1</td>\n",
       "      <td>0</td>\n",
       "      <td>1</td>\n",
       "      <td>...</td>\n",
       "      <td>0</td>\n",
       "      <td>0</td>\n",
       "      <td>0</td>\n",
       "      <td>0</td>\n",
       "      <td>1</td>\n",
       "      <td>0</td>\n",
       "      <td>0</td>\n",
       "      <td>0</td>\n",
       "      <td>0</td>\n",
       "      <td>0</td>\n",
       "    </tr>\n",
       "  </tbody>\n",
       "</table>\n",
       "<p>5 rows × 1001 columns</p>\n",
       "</div>"
      ],
      "text/plain": [
       "   Pclass       Age     SibSp     Parch      Fare       Fam  numeric_ticket  \\\n",
       "0       3 -0.562459  0.430627 -0.474653 -0.499883  0.057199               0   \n",
       "1       1  0.670753  0.430627 -0.474653  0.788582  0.057199               0   \n",
       "2       3 -0.254156 -0.475527 -0.474653 -0.486300 -0.562221               0   \n",
       "3       1  0.439525  0.430627 -0.474653  0.422701  0.057199               1   \n",
       "4       3  0.439525 -0.475527 -0.474653 -0.483785 -0.562221               1   \n",
       "\n",
       "   ind  Sex_female  Sex_male  ...  name_title_Master  name_title_Miss  \\\n",
       "0    1           0         1  ...                  0                0   \n",
       "1    1           1         0  ...                  0                0   \n",
       "2    1           1         0  ...                  0                1   \n",
       "3    1           1         0  ...                  0                0   \n",
       "4    1           0         1  ...                  0                0   \n",
       "\n",
       "   name_title_Mlle  name_title_Mme  name_title_Mr  name_title_Mrs  \\\n",
       "0                0               0              1               0   \n",
       "1                0               0              0               1   \n",
       "2                0               0              0               0   \n",
       "3                0               0              0               1   \n",
       "4                0               0              1               0   \n",
       "\n",
       "   name_title_Ms  name_title_Rev  name_title_Sir  name_title_the Countess  \n",
       "0              0               0               0                        0  \n",
       "1              0               0               0                        0  \n",
       "2              0               0               0                        0  \n",
       "3              0               0               0                        0  \n",
       "4              0               0               0                        0  \n",
       "\n",
       "[5 rows x 1001 columns]"
      ]
     },
     "execution_count": 32,
     "metadata": {},
     "output_type": "execute_result"
    }
   ],
   "source": [
    "# Scale data \n",
    "from sklearn.preprocessing import StandardScaler\n",
    "scale = StandardScaler()\n",
    "train_hot[['Age','SibSp','Parch','Fare', 'Fam']]= scale.fit_transform(train_hot[['Age','SibSp','Parch','Fare', 'Fam']])\n",
    "train_hot.head()"
   ]
  },
  {
   "cell_type": "code",
   "execution_count": 33,
   "metadata": {
    "execution": {
     "iopub.execute_input": "2020-10-22T10:31:11.327701Z",
     "iopub.status.busy": "2020-10-22T10:31:11.321520Z",
     "iopub.status.idle": "2020-10-22T10:31:11.351982Z",
     "shell.execute_reply": "2020-10-22T10:31:11.351445Z"
    },
    "papermill": {
     "duration": 0.09007,
     "end_time": "2020-10-22T10:31:11.352069",
     "exception": false,
     "start_time": "2020-10-22T10:31:11.261999",
     "status": "completed"
    },
    "tags": []
   },
   "outputs": [
    {
     "name": "stderr",
     "output_type": "stream",
     "text": [
      "/opt/conda/lib/python3.7/site-packages/ipykernel_launcher.py:2: SettingWithCopyWarning: \n",
      "A value is trying to be set on a copy of a slice from a DataFrame.\n",
      "Try using .loc[row_indexer,col_indexer] = value instead\n",
      "\n",
      "See the caveats in the documentation: https://pandas.pydata.org/pandas-docs/stable/user_guide/indexing.html#returning-a-view-versus-a-copy\n",
      "  \n",
      "/opt/conda/lib/python3.7/site-packages/pandas/core/indexing.py:1736: SettingWithCopyWarning: \n",
      "A value is trying to be set on a copy of a slice from a DataFrame.\n",
      "Try using .loc[row_indexer,col_indexer] = value instead\n",
      "\n",
      "See the caveats in the documentation: https://pandas.pydata.org/pandas-docs/stable/user_guide/indexing.html#returning-a-view-versus-a-copy\n",
      "  isetter(loc, value[:, i].tolist())\n"
     ]
    },
    {
     "data": {
      "text/html": [
       "<div>\n",
       "<style scoped>\n",
       "    .dataframe tbody tr th:only-of-type {\n",
       "        vertical-align: middle;\n",
       "    }\n",
       "\n",
       "    .dataframe tbody tr th {\n",
       "        vertical-align: top;\n",
       "    }\n",
       "\n",
       "    .dataframe thead th {\n",
       "        text-align: right;\n",
       "    }\n",
       "</style>\n",
       "<table border=\"1\" class=\"dataframe\">\n",
       "  <thead>\n",
       "    <tr style=\"text-align: right;\">\n",
       "      <th></th>\n",
       "      <th>Pclass</th>\n",
       "      <th>Age</th>\n",
       "      <th>SibSp</th>\n",
       "      <th>Parch</th>\n",
       "      <th>Fare</th>\n",
       "      <th>Fam</th>\n",
       "      <th>numeric_ticket</th>\n",
       "      <th>ind</th>\n",
       "      <th>Sex_female</th>\n",
       "      <th>Sex_male</th>\n",
       "      <th>...</th>\n",
       "      <th>name_title_Master</th>\n",
       "      <th>name_title_Miss</th>\n",
       "      <th>name_title_Mlle</th>\n",
       "      <th>name_title_Mme</th>\n",
       "      <th>name_title_Mr</th>\n",
       "      <th>name_title_Mrs</th>\n",
       "      <th>name_title_Ms</th>\n",
       "      <th>name_title_Rev</th>\n",
       "      <th>name_title_Sir</th>\n",
       "      <th>name_title_the Countess</th>\n",
       "    </tr>\n",
       "  </thead>\n",
       "  <tbody>\n",
       "    <tr>\n",
       "      <th>0</th>\n",
       "      <td>3</td>\n",
       "      <td>0.371062</td>\n",
       "      <td>-0.499470</td>\n",
       "      <td>-0.400248</td>\n",
       "      <td>-0.497413</td>\n",
       "      <td>-0.553443</td>\n",
       "      <td>1</td>\n",
       "      <td>0</td>\n",
       "      <td>0</td>\n",
       "      <td>1</td>\n",
       "      <td>...</td>\n",
       "      <td>0</td>\n",
       "      <td>0</td>\n",
       "      <td>0</td>\n",
       "      <td>0</td>\n",
       "      <td>1</td>\n",
       "      <td>0</td>\n",
       "      <td>0</td>\n",
       "      <td>0</td>\n",
       "      <td>0</td>\n",
       "      <td>0</td>\n",
       "    </tr>\n",
       "    <tr>\n",
       "      <th>1</th>\n",
       "      <td>3</td>\n",
       "      <td>1.358985</td>\n",
       "      <td>0.616992</td>\n",
       "      <td>-0.400248</td>\n",
       "      <td>-0.512278</td>\n",
       "      <td>0.105643</td>\n",
       "      <td>1</td>\n",
       "      <td>0</td>\n",
       "      <td>1</td>\n",
       "      <td>0</td>\n",
       "      <td>...</td>\n",
       "      <td>0</td>\n",
       "      <td>0</td>\n",
       "      <td>0</td>\n",
       "      <td>0</td>\n",
       "      <td>0</td>\n",
       "      <td>1</td>\n",
       "      <td>0</td>\n",
       "      <td>0</td>\n",
       "      <td>0</td>\n",
       "      <td>0</td>\n",
       "    </tr>\n",
       "    <tr>\n",
       "      <th>2</th>\n",
       "      <td>2</td>\n",
       "      <td>2.544493</td>\n",
       "      <td>-0.499470</td>\n",
       "      <td>-0.400248</td>\n",
       "      <td>-0.464100</td>\n",
       "      <td>-0.553443</td>\n",
       "      <td>1</td>\n",
       "      <td>0</td>\n",
       "      <td>0</td>\n",
       "      <td>1</td>\n",
       "      <td>...</td>\n",
       "      <td>0</td>\n",
       "      <td>0</td>\n",
       "      <td>0</td>\n",
       "      <td>0</td>\n",
       "      <td>1</td>\n",
       "      <td>0</td>\n",
       "      <td>0</td>\n",
       "      <td>0</td>\n",
       "      <td>0</td>\n",
       "      <td>0</td>\n",
       "    </tr>\n",
       "    <tr>\n",
       "      <th>3</th>\n",
       "      <td>3</td>\n",
       "      <td>-0.221692</td>\n",
       "      <td>-0.499470</td>\n",
       "      <td>-0.400248</td>\n",
       "      <td>-0.482475</td>\n",
       "      <td>-0.553443</td>\n",
       "      <td>1</td>\n",
       "      <td>0</td>\n",
       "      <td>0</td>\n",
       "      <td>1</td>\n",
       "      <td>...</td>\n",
       "      <td>0</td>\n",
       "      <td>0</td>\n",
       "      <td>0</td>\n",
       "      <td>0</td>\n",
       "      <td>1</td>\n",
       "      <td>0</td>\n",
       "      <td>0</td>\n",
       "      <td>0</td>\n",
       "      <td>0</td>\n",
       "      <td>0</td>\n",
       "    </tr>\n",
       "    <tr>\n",
       "      <th>4</th>\n",
       "      <td>3</td>\n",
       "      <td>-0.616861</td>\n",
       "      <td>0.616992</td>\n",
       "      <td>0.619896</td>\n",
       "      <td>-0.417492</td>\n",
       "      <td>0.764728</td>\n",
       "      <td>1</td>\n",
       "      <td>0</td>\n",
       "      <td>1</td>\n",
       "      <td>0</td>\n",
       "      <td>...</td>\n",
       "      <td>0</td>\n",
       "      <td>0</td>\n",
       "      <td>0</td>\n",
       "      <td>0</td>\n",
       "      <td>0</td>\n",
       "      <td>1</td>\n",
       "      <td>0</td>\n",
       "      <td>0</td>\n",
       "      <td>0</td>\n",
       "      <td>0</td>\n",
       "    </tr>\n",
       "  </tbody>\n",
       "</table>\n",
       "<p>5 rows × 1001 columns</p>\n",
       "</div>"
      ],
      "text/plain": [
       "   Pclass       Age     SibSp     Parch      Fare       Fam  numeric_ticket  \\\n",
       "0       3  0.371062 -0.499470 -0.400248 -0.497413 -0.553443               1   \n",
       "1       3  1.358985  0.616992 -0.400248 -0.512278  0.105643               1   \n",
       "2       2  2.544493 -0.499470 -0.400248 -0.464100 -0.553443               1   \n",
       "3       3 -0.221692 -0.499470 -0.400248 -0.482475 -0.553443               1   \n",
       "4       3 -0.616861  0.616992  0.619896 -0.417492  0.764728               1   \n",
       "\n",
       "   ind  Sex_female  Sex_male  ...  name_title_Master  name_title_Miss  \\\n",
       "0    0           0         1  ...                  0                0   \n",
       "1    0           1         0  ...                  0                0   \n",
       "2    0           0         1  ...                  0                0   \n",
       "3    0           0         1  ...                  0                0   \n",
       "4    0           1         0  ...                  0                0   \n",
       "\n",
       "   name_title_Mlle  name_title_Mme  name_title_Mr  name_title_Mrs  \\\n",
       "0                0               0              1               0   \n",
       "1                0               0              0               1   \n",
       "2                0               0              1               0   \n",
       "3                0               0              1               0   \n",
       "4                0               0              0               1   \n",
       "\n",
       "   name_title_Ms  name_title_Rev  name_title_Sir  name_title_the Countess  \n",
       "0              0               0               0                        0  \n",
       "1              0               0               0                        0  \n",
       "2              0               0               0                        0  \n",
       "3              0               0               0                        0  \n",
       "4              0               0               0                        0  \n",
       "\n",
       "[5 rows x 1001 columns]"
      ]
     },
     "execution_count": 33,
     "metadata": {},
     "output_type": "execute_result"
    }
   ],
   "source": [
    "scale = StandardScaler()\n",
    "test_hot[['Age','SibSp','Parch','Fare', 'Fam']]= scale.fit_transform(test_hot[['Age','SibSp','Parch','Fare', 'Fam']])\n",
    "test_hot.head()"
   ]
  },
  {
   "cell_type": "code",
   "execution_count": 34,
   "metadata": {
    "execution": {
     "iopub.execute_input": "2020-10-22T10:31:11.463932Z",
     "iopub.status.busy": "2020-10-22T10:31:11.463437Z",
     "iopub.status.idle": "2020-10-22T10:31:11.468043Z",
     "shell.execute_reply": "2020-10-22T10:31:11.467589Z"
    },
    "papermill": {
     "duration": 0.063244,
     "end_time": "2020-10-22T10:31:11.468135",
     "exception": false,
     "start_time": "2020-10-22T10:31:11.404891",
     "status": "completed"
    },
    "tags": []
   },
   "outputs": [
    {
     "data": {
      "text/plain": [
       "0    0\n",
       "1    1\n",
       "2    1\n",
       "3    1\n",
       "4    0\n",
       "Name: Survived, dtype: int64"
      ]
     },
     "execution_count": 34,
     "metadata": {},
     "output_type": "execute_result"
    }
   ],
   "source": [
    "Y_train = train['Survived']\n",
    "Y_train.head()"
   ]
  },
  {
   "cell_type": "code",
   "execution_count": 35,
   "metadata": {
    "execution": {
     "iopub.execute_input": "2020-10-22T10:31:11.590772Z",
     "iopub.status.busy": "2020-10-22T10:31:11.581020Z",
     "iopub.status.idle": "2020-10-22T10:31:11.607547Z",
     "shell.execute_reply": "2020-10-22T10:31:11.607025Z"
    },
    "papermill": {
     "duration": 0.08598,
     "end_time": "2020-10-22T10:31:11.607678",
     "exception": false,
     "start_time": "2020-10-22T10:31:11.521698",
     "status": "completed"
    },
    "tags": []
   },
   "outputs": [
    {
     "name": "stdout",
     "output_type": "stream",
     "text": [
      "(888, 1001)\n",
      "(418, 1001)\n",
      "(888,)\n"
     ]
    },
    {
     "data": {
      "text/html": [
       "<div>\n",
       "<style scoped>\n",
       "    .dataframe tbody tr th:only-of-type {\n",
       "        vertical-align: middle;\n",
       "    }\n",
       "\n",
       "    .dataframe tbody tr th {\n",
       "        vertical-align: top;\n",
       "    }\n",
       "\n",
       "    .dataframe thead th {\n",
       "        text-align: right;\n",
       "    }\n",
       "</style>\n",
       "<table border=\"1\" class=\"dataframe\">\n",
       "  <thead>\n",
       "    <tr style=\"text-align: right;\">\n",
       "      <th></th>\n",
       "      <th>Pclass</th>\n",
       "      <th>Age</th>\n",
       "      <th>SibSp</th>\n",
       "      <th>Parch</th>\n",
       "      <th>Fare</th>\n",
       "      <th>Fam</th>\n",
       "      <th>numeric_ticket</th>\n",
       "      <th>ind</th>\n",
       "      <th>Sex_female</th>\n",
       "      <th>Sex_male</th>\n",
       "      <th>...</th>\n",
       "      <th>name_title_Master</th>\n",
       "      <th>name_title_Miss</th>\n",
       "      <th>name_title_Mlle</th>\n",
       "      <th>name_title_Mme</th>\n",
       "      <th>name_title_Mr</th>\n",
       "      <th>name_title_Mrs</th>\n",
       "      <th>name_title_Ms</th>\n",
       "      <th>name_title_Rev</th>\n",
       "      <th>name_title_Sir</th>\n",
       "      <th>name_title_the Countess</th>\n",
       "    </tr>\n",
       "  </thead>\n",
       "  <tbody>\n",
       "    <tr>\n",
       "      <th>0</th>\n",
       "      <td>3</td>\n",
       "      <td>-0.562459</td>\n",
       "      <td>0.430627</td>\n",
       "      <td>-0.474653</td>\n",
       "      <td>-0.499883</td>\n",
       "      <td>0.057199</td>\n",
       "      <td>0</td>\n",
       "      <td>1</td>\n",
       "      <td>0</td>\n",
       "      <td>1</td>\n",
       "      <td>...</td>\n",
       "      <td>0</td>\n",
       "      <td>0</td>\n",
       "      <td>0</td>\n",
       "      <td>0</td>\n",
       "      <td>1</td>\n",
       "      <td>0</td>\n",
       "      <td>0</td>\n",
       "      <td>0</td>\n",
       "      <td>0</td>\n",
       "      <td>0</td>\n",
       "    </tr>\n",
       "    <tr>\n",
       "      <th>1</th>\n",
       "      <td>1</td>\n",
       "      <td>0.670753</td>\n",
       "      <td>0.430627</td>\n",
       "      <td>-0.474653</td>\n",
       "      <td>0.788582</td>\n",
       "      <td>0.057199</td>\n",
       "      <td>0</td>\n",
       "      <td>1</td>\n",
       "      <td>1</td>\n",
       "      <td>0</td>\n",
       "      <td>...</td>\n",
       "      <td>0</td>\n",
       "      <td>0</td>\n",
       "      <td>0</td>\n",
       "      <td>0</td>\n",
       "      <td>0</td>\n",
       "      <td>1</td>\n",
       "      <td>0</td>\n",
       "      <td>0</td>\n",
       "      <td>0</td>\n",
       "      <td>0</td>\n",
       "    </tr>\n",
       "    <tr>\n",
       "      <th>2</th>\n",
       "      <td>3</td>\n",
       "      <td>-0.254156</td>\n",
       "      <td>-0.475527</td>\n",
       "      <td>-0.474653</td>\n",
       "      <td>-0.486300</td>\n",
       "      <td>-0.562221</td>\n",
       "      <td>0</td>\n",
       "      <td>1</td>\n",
       "      <td>1</td>\n",
       "      <td>0</td>\n",
       "      <td>...</td>\n",
       "      <td>0</td>\n",
       "      <td>1</td>\n",
       "      <td>0</td>\n",
       "      <td>0</td>\n",
       "      <td>0</td>\n",
       "      <td>0</td>\n",
       "      <td>0</td>\n",
       "      <td>0</td>\n",
       "      <td>0</td>\n",
       "      <td>0</td>\n",
       "    </tr>\n",
       "    <tr>\n",
       "      <th>3</th>\n",
       "      <td>1</td>\n",
       "      <td>0.439525</td>\n",
       "      <td>0.430627</td>\n",
       "      <td>-0.474653</td>\n",
       "      <td>0.422701</td>\n",
       "      <td>0.057199</td>\n",
       "      <td>1</td>\n",
       "      <td>1</td>\n",
       "      <td>1</td>\n",
       "      <td>0</td>\n",
       "      <td>...</td>\n",
       "      <td>0</td>\n",
       "      <td>0</td>\n",
       "      <td>0</td>\n",
       "      <td>0</td>\n",
       "      <td>0</td>\n",
       "      <td>1</td>\n",
       "      <td>0</td>\n",
       "      <td>0</td>\n",
       "      <td>0</td>\n",
       "      <td>0</td>\n",
       "    </tr>\n",
       "    <tr>\n",
       "      <th>4</th>\n",
       "      <td>3</td>\n",
       "      <td>0.439525</td>\n",
       "      <td>-0.475527</td>\n",
       "      <td>-0.474653</td>\n",
       "      <td>-0.483785</td>\n",
       "      <td>-0.562221</td>\n",
       "      <td>1</td>\n",
       "      <td>1</td>\n",
       "      <td>0</td>\n",
       "      <td>1</td>\n",
       "      <td>...</td>\n",
       "      <td>0</td>\n",
       "      <td>0</td>\n",
       "      <td>0</td>\n",
       "      <td>0</td>\n",
       "      <td>1</td>\n",
       "      <td>0</td>\n",
       "      <td>0</td>\n",
       "      <td>0</td>\n",
       "      <td>0</td>\n",
       "      <td>0</td>\n",
       "    </tr>\n",
       "  </tbody>\n",
       "</table>\n",
       "<p>5 rows × 1001 columns</p>\n",
       "</div>"
      ],
      "text/plain": [
       "   Pclass       Age     SibSp     Parch      Fare       Fam  numeric_ticket  \\\n",
       "0       3 -0.562459  0.430627 -0.474653 -0.499883  0.057199               0   \n",
       "1       1  0.670753  0.430627 -0.474653  0.788582  0.057199               0   \n",
       "2       3 -0.254156 -0.475527 -0.474653 -0.486300 -0.562221               0   \n",
       "3       1  0.439525  0.430627 -0.474653  0.422701  0.057199               1   \n",
       "4       3  0.439525 -0.475527 -0.474653 -0.483785 -0.562221               1   \n",
       "\n",
       "   ind  Sex_female  Sex_male  ...  name_title_Master  name_title_Miss  \\\n",
       "0    1           0         1  ...                  0                0   \n",
       "1    1           1         0  ...                  0                0   \n",
       "2    1           1         0  ...                  0                1   \n",
       "3    1           1         0  ...                  0                0   \n",
       "4    1           0         1  ...                  0                0   \n",
       "\n",
       "   name_title_Mlle  name_title_Mme  name_title_Mr  name_title_Mrs  \\\n",
       "0                0               0              1               0   \n",
       "1                0               0              0               1   \n",
       "2                0               0              0               0   \n",
       "3                0               0              0               1   \n",
       "4                0               0              1               0   \n",
       "\n",
       "   name_title_Ms  name_title_Rev  name_title_Sir  name_title_the Countess  \n",
       "0              0               0               0                        0  \n",
       "1              0               0               0                        0  \n",
       "2              0               0               0                        0  \n",
       "3              0               0               0                        0  \n",
       "4              0               0               0                        0  \n",
       "\n",
       "[5 rows x 1001 columns]"
      ]
     },
     "execution_count": 35,
     "metadata": {},
     "output_type": "execute_result"
    }
   ],
   "source": [
    "print(train_hot.shape)\n",
    "print(test_hot.shape)\n",
    "print(Y_train.shape)\n",
    "train_hot.head()"
   ]
  },
  {
   "cell_type": "code",
   "execution_count": 36,
   "metadata": {
    "execution": {
     "iopub.execute_input": "2020-10-22T10:31:11.724729Z",
     "iopub.status.busy": "2020-10-22T10:31:11.718561Z",
     "iopub.status.idle": "2020-10-22T10:31:11.738497Z",
     "shell.execute_reply": "2020-10-22T10:31:11.737986Z"
    },
    "papermill": {
     "duration": 0.077859,
     "end_time": "2020-10-22T10:31:11.738597",
     "exception": false,
     "start_time": "2020-10-22T10:31:11.660738",
     "status": "completed"
    },
    "tags": []
   },
   "outputs": [
    {
     "data": {
      "text/html": [
       "<div>\n",
       "<style scoped>\n",
       "    .dataframe tbody tr th:only-of-type {\n",
       "        vertical-align: middle;\n",
       "    }\n",
       "\n",
       "    .dataframe tbody tr th {\n",
       "        vertical-align: top;\n",
       "    }\n",
       "\n",
       "    .dataframe thead th {\n",
       "        text-align: right;\n",
       "    }\n",
       "</style>\n",
       "<table border=\"1\" class=\"dataframe\">\n",
       "  <thead>\n",
       "    <tr style=\"text-align: right;\">\n",
       "      <th></th>\n",
       "      <th>Pclass</th>\n",
       "      <th>Age</th>\n",
       "      <th>SibSp</th>\n",
       "      <th>Parch</th>\n",
       "      <th>Fare</th>\n",
       "      <th>Fam</th>\n",
       "      <th>numeric_ticket</th>\n",
       "      <th>ind</th>\n",
       "      <th>Sex_female</th>\n",
       "      <th>Sex_male</th>\n",
       "      <th>...</th>\n",
       "      <th>name_title_Master</th>\n",
       "      <th>name_title_Miss</th>\n",
       "      <th>name_title_Mlle</th>\n",
       "      <th>name_title_Mme</th>\n",
       "      <th>name_title_Mr</th>\n",
       "      <th>name_title_Mrs</th>\n",
       "      <th>name_title_Ms</th>\n",
       "      <th>name_title_Rev</th>\n",
       "      <th>name_title_Sir</th>\n",
       "      <th>name_title_the Countess</th>\n",
       "    </tr>\n",
       "  </thead>\n",
       "  <tbody>\n",
       "    <tr>\n",
       "      <th>0</th>\n",
       "      <td>3</td>\n",
       "      <td>0.371062</td>\n",
       "      <td>-0.499470</td>\n",
       "      <td>-0.400248</td>\n",
       "      <td>-0.497413</td>\n",
       "      <td>-0.553443</td>\n",
       "      <td>1</td>\n",
       "      <td>0</td>\n",
       "      <td>0</td>\n",
       "      <td>1</td>\n",
       "      <td>...</td>\n",
       "      <td>0</td>\n",
       "      <td>0</td>\n",
       "      <td>0</td>\n",
       "      <td>0</td>\n",
       "      <td>1</td>\n",
       "      <td>0</td>\n",
       "      <td>0</td>\n",
       "      <td>0</td>\n",
       "      <td>0</td>\n",
       "      <td>0</td>\n",
       "    </tr>\n",
       "    <tr>\n",
       "      <th>1</th>\n",
       "      <td>3</td>\n",
       "      <td>1.358985</td>\n",
       "      <td>0.616992</td>\n",
       "      <td>-0.400248</td>\n",
       "      <td>-0.512278</td>\n",
       "      <td>0.105643</td>\n",
       "      <td>1</td>\n",
       "      <td>0</td>\n",
       "      <td>1</td>\n",
       "      <td>0</td>\n",
       "      <td>...</td>\n",
       "      <td>0</td>\n",
       "      <td>0</td>\n",
       "      <td>0</td>\n",
       "      <td>0</td>\n",
       "      <td>0</td>\n",
       "      <td>1</td>\n",
       "      <td>0</td>\n",
       "      <td>0</td>\n",
       "      <td>0</td>\n",
       "      <td>0</td>\n",
       "    </tr>\n",
       "    <tr>\n",
       "      <th>2</th>\n",
       "      <td>2</td>\n",
       "      <td>2.544493</td>\n",
       "      <td>-0.499470</td>\n",
       "      <td>-0.400248</td>\n",
       "      <td>-0.464100</td>\n",
       "      <td>-0.553443</td>\n",
       "      <td>1</td>\n",
       "      <td>0</td>\n",
       "      <td>0</td>\n",
       "      <td>1</td>\n",
       "      <td>...</td>\n",
       "      <td>0</td>\n",
       "      <td>0</td>\n",
       "      <td>0</td>\n",
       "      <td>0</td>\n",
       "      <td>1</td>\n",
       "      <td>0</td>\n",
       "      <td>0</td>\n",
       "      <td>0</td>\n",
       "      <td>0</td>\n",
       "      <td>0</td>\n",
       "    </tr>\n",
       "    <tr>\n",
       "      <th>3</th>\n",
       "      <td>3</td>\n",
       "      <td>-0.221692</td>\n",
       "      <td>-0.499470</td>\n",
       "      <td>-0.400248</td>\n",
       "      <td>-0.482475</td>\n",
       "      <td>-0.553443</td>\n",
       "      <td>1</td>\n",
       "      <td>0</td>\n",
       "      <td>0</td>\n",
       "      <td>1</td>\n",
       "      <td>...</td>\n",
       "      <td>0</td>\n",
       "      <td>0</td>\n",
       "      <td>0</td>\n",
       "      <td>0</td>\n",
       "      <td>1</td>\n",
       "      <td>0</td>\n",
       "      <td>0</td>\n",
       "      <td>0</td>\n",
       "      <td>0</td>\n",
       "      <td>0</td>\n",
       "    </tr>\n",
       "    <tr>\n",
       "      <th>4</th>\n",
       "      <td>3</td>\n",
       "      <td>-0.616861</td>\n",
       "      <td>0.616992</td>\n",
       "      <td>0.619896</td>\n",
       "      <td>-0.417492</td>\n",
       "      <td>0.764728</td>\n",
       "      <td>1</td>\n",
       "      <td>0</td>\n",
       "      <td>1</td>\n",
       "      <td>0</td>\n",
       "      <td>...</td>\n",
       "      <td>0</td>\n",
       "      <td>0</td>\n",
       "      <td>0</td>\n",
       "      <td>0</td>\n",
       "      <td>0</td>\n",
       "      <td>1</td>\n",
       "      <td>0</td>\n",
       "      <td>0</td>\n",
       "      <td>0</td>\n",
       "      <td>0</td>\n",
       "    </tr>\n",
       "  </tbody>\n",
       "</table>\n",
       "<p>5 rows × 1001 columns</p>\n",
       "</div>"
      ],
      "text/plain": [
       "   Pclass       Age     SibSp     Parch      Fare       Fam  numeric_ticket  \\\n",
       "0       3  0.371062 -0.499470 -0.400248 -0.497413 -0.553443               1   \n",
       "1       3  1.358985  0.616992 -0.400248 -0.512278  0.105643               1   \n",
       "2       2  2.544493 -0.499470 -0.400248 -0.464100 -0.553443               1   \n",
       "3       3 -0.221692 -0.499470 -0.400248 -0.482475 -0.553443               1   \n",
       "4       3 -0.616861  0.616992  0.619896 -0.417492  0.764728               1   \n",
       "\n",
       "   ind  Sex_female  Sex_male  ...  name_title_Master  name_title_Miss  \\\n",
       "0    0           0         1  ...                  0                0   \n",
       "1    0           1         0  ...                  0                0   \n",
       "2    0           0         1  ...                  0                0   \n",
       "3    0           0         1  ...                  0                0   \n",
       "4    0           1         0  ...                  0                0   \n",
       "\n",
       "   name_title_Mlle  name_title_Mme  name_title_Mr  name_title_Mrs  \\\n",
       "0                0               0              1               0   \n",
       "1                0               0              0               1   \n",
       "2                0               0              1               0   \n",
       "3                0               0              1               0   \n",
       "4                0               0              0               1   \n",
       "\n",
       "   name_title_Ms  name_title_Rev  name_title_Sir  name_title_the Countess  \n",
       "0              0               0               0                        0  \n",
       "1              0               0               0                        0  \n",
       "2              0               0               0                        0  \n",
       "3              0               0               0                        0  \n",
       "4              0               0               0                        0  \n",
       "\n",
       "[5 rows x 1001 columns]"
      ]
     },
     "execution_count": 36,
     "metadata": {},
     "output_type": "execute_result"
    }
   ],
   "source": [
    "test_hot.head()"
   ]
  },
  {
   "cell_type": "markdown",
   "metadata": {
    "papermill": {
     "duration": 0.080253,
     "end_time": "2020-10-22T10:31:11.899649",
     "exception": false,
     "start_time": "2020-10-22T10:31:11.819396",
     "status": "completed"
    },
    "tags": []
   },
   "source": [
    "# Model\n",
    "\n",
    "Seems like we are all set on the data.\n",
    "Lets try a few models to see how they perform on our data\n"
   ]
  },
  {
   "cell_type": "code",
   "execution_count": 37,
   "metadata": {
    "execution": {
     "iopub.execute_input": "2020-10-22T10:31:12.066502Z",
     "iopub.status.busy": "2020-10-22T10:31:12.065918Z",
     "iopub.status.idle": "2020-10-22T10:31:12.348458Z",
     "shell.execute_reply": "2020-10-22T10:31:12.347812Z"
    },
    "papermill": {
     "duration": 0.367182,
     "end_time": "2020-10-22T10:31:12.348565",
     "exception": false,
     "start_time": "2020-10-22T10:31:11.981383",
     "status": "completed"
    },
    "tags": []
   },
   "outputs": [],
   "source": [
    "from sklearn.model_selection import cross_val_score\n",
    "from sklearn.linear_model import LogisticRegression\n",
    "from sklearn.neighbors import KNeighborsClassifier\n",
    "from sklearn.ensemble import RandomForestClassifier\n",
    "from sklearn.svm import SVC"
   ]
  },
  {
   "cell_type": "code",
   "execution_count": 38,
   "metadata": {
    "execution": {
     "iopub.execute_input": "2020-10-22T10:31:12.528650Z",
     "iopub.status.busy": "2020-10-22T10:31:12.528026Z",
     "iopub.status.idle": "2020-10-22T10:31:18.633831Z",
     "shell.execute_reply": "2020-10-22T10:31:18.634923Z"
    },
    "papermill": {
     "duration": 6.201439,
     "end_time": "2020-10-22T10:31:18.635089",
     "exception": false,
     "start_time": "2020-10-22T10:31:12.433650",
     "status": "completed"
    },
    "tags": []
   },
   "outputs": [
    {
     "name": "stdout",
     "output_type": "stream",
     "text": [
      "[0.83146067 0.83707865 0.86516854 0.81920904 0.85875706]\n",
      "0.8423347933726909\n"
     ]
    }
   ],
   "source": [
    "from xgboost import XGBClassifier\n",
    "xgb = XGBClassifier(random_state =1, learning_rate = 0.5, min_child_weight = 0.03)\n",
    "cv = cross_val_score(xgb,train_hot,Y_train,cv=5)\n",
    "print(cv)\n",
    "print(cv.mean())"
   ]
  },
  {
   "cell_type": "code",
   "execution_count": 39,
   "metadata": {
    "execution": {
     "iopub.execute_input": "2020-10-22T10:31:18.829949Z",
     "iopub.status.busy": "2020-10-22T10:31:18.829312Z",
     "iopub.status.idle": "2020-10-22T10:31:19.647974Z",
     "shell.execute_reply": "2020-10-22T10:31:19.648344Z"
    },
    "papermill": {
     "duration": 0.918291,
     "end_time": "2020-10-22T10:31:19.648469",
     "exception": false,
     "start_time": "2020-10-22T10:31:18.730178",
     "status": "completed"
    },
    "tags": []
   },
   "outputs": [
    {
     "name": "stdout",
     "output_type": "stream",
     "text": [
      "[0.70786517 0.78651685 0.74157303 0.76271186 0.77966102]\n",
      "0.7556655875071414\n"
     ]
    }
   ],
   "source": [
    "rfc = RandomForestClassifier(n_estimators=100, max_depth=3, random_state=2)\n",
    "cv = cross_val_score(rfc,train_hot,Y_train,cv=5)\n",
    "print(cv)\n",
    "print(cv.mean())"
   ]
  },
  {
   "cell_type": "code",
   "execution_count": 40,
   "metadata": {
    "execution": {
     "iopub.execute_input": "2020-10-22T10:31:19.762967Z",
     "iopub.status.busy": "2020-10-22T10:31:19.762327Z",
     "iopub.status.idle": "2020-10-22T10:31:28.413749Z",
     "shell.execute_reply": "2020-10-22T10:31:28.414513Z"
    },
    "papermill": {
     "duration": 8.71179,
     "end_time": "2020-10-22T10:31:28.414710",
     "exception": false,
     "start_time": "2020-10-22T10:31:19.702920",
     "status": "completed"
    },
    "tags": []
   },
   "outputs": [
    {
     "name": "stdout",
     "output_type": "stream",
     "text": [
      "[0.84831461 0.8258427  0.82022472 0.8079096  0.8700565 ]\n",
      "0.834469624833365\n"
     ]
    }
   ],
   "source": [
    "svc = SVC(probability = True)\n",
    "cv = cross_val_score(svc,train_hot,Y_train,cv=5)\n",
    "print(cv)\n",
    "print(cv.mean())"
   ]
  },
  {
   "cell_type": "markdown",
   "metadata": {
    "papermill": {
     "duration": 0.081506,
     "end_time": "2020-10-22T10:31:28.579111",
     "exception": false,
     "start_time": "2020-10-22T10:31:28.497605",
     "status": "completed"
    },
    "tags": []
   },
   "source": [
    "# Ensemble\n",
    "Trying out and tuning different models, tuning on validation set and ensembling them. We will ensemble our model by **stacking**\n"
   ]
  },
  {
   "cell_type": "code",
   "execution_count": 41,
   "metadata": {
    "execution": {
     "iopub.execute_input": "2020-10-22T10:31:28.750121Z",
     "iopub.status.busy": "2020-10-22T10:31:28.749503Z",
     "iopub.status.idle": "2020-10-22T10:31:28.755202Z",
     "shell.execute_reply": "2020-10-22T10:31:28.754674Z"
    },
    "papermill": {
     "duration": 0.094103,
     "end_time": "2020-10-22T10:31:28.755296",
     "exception": false,
     "start_time": "2020-10-22T10:31:28.661193",
     "status": "completed"
    },
    "tags": []
   },
   "outputs": [],
   "source": [
    "from sklearn.model_selection import train_test_split\n",
    "X_train, X_valid, y_train, y_valid = train_test_split(\n",
    "    train_hot, Y_train, test_size=0.33, random_state=42)"
   ]
  },
  {
   "cell_type": "markdown",
   "metadata": {
    "papermill": {
     "duration": 0.054791,
     "end_time": "2020-10-22T10:31:28.865170",
     "exception": false,
     "start_time": "2020-10-22T10:31:28.810379",
     "status": "completed"
    },
    "tags": []
   },
   "source": [
    "Training Our **First-Level Base Models**."
   ]
  },
  {
   "cell_type": "code",
   "execution_count": 42,
   "metadata": {
    "execution": {
     "iopub.execute_input": "2020-10-22T10:31:28.988112Z",
     "iopub.status.busy": "2020-10-22T10:31:28.987490Z",
     "iopub.status.idle": "2020-10-22T10:31:30.193892Z",
     "shell.execute_reply": "2020-10-22T10:31:30.193369Z"
    },
    "papermill": {
     "duration": 1.273193,
     "end_time": "2020-10-22T10:31:30.194007",
     "exception": false,
     "start_time": "2020-10-22T10:31:28.920814",
     "status": "completed"
    },
    "tags": []
   },
   "outputs": [
    {
     "data": {
      "text/plain": [
       "SVC(probability=True)"
      ]
     },
     "execution_count": 42,
     "metadata": {},
     "output_type": "execute_result"
    }
   ],
   "source": [
    "svc = SVC(probability = True)\n",
    "svc.fit(X_train, y_train)"
   ]
  },
  {
   "cell_type": "code",
   "execution_count": 43,
   "metadata": {
    "execution": {
     "iopub.execute_input": "2020-10-22T10:31:30.377067Z",
     "iopub.status.busy": "2020-10-22T10:31:30.376581Z",
     "iopub.status.idle": "2020-10-22T10:31:31.204575Z",
     "shell.execute_reply": "2020-10-22T10:31:31.205048Z"
    },
    "papermill": {
     "duration": 0.92926,
     "end_time": "2020-10-22T10:31:31.205170",
     "exception": false,
     "start_time": "2020-10-22T10:31:30.275910",
     "status": "completed"
    },
    "tags": []
   },
   "outputs": [
    {
     "data": {
      "text/plain": [
       "XGBClassifier(base_score=0.5, booster='gbtree', colsample_bylevel=1,\n",
       "              colsample_bynode=1, colsample_bytree=1, gamma=0, gpu_id=-1,\n",
       "              importance_type='gain', interaction_constraints='',\n",
       "              learning_rate=0.5, max_delta_step=0, max_depth=6,\n",
       "              min_child_weight=0.03, missing=nan, monotone_constraints='()',\n",
       "              n_estimators=100, n_jobs=0, num_parallel_tree=1, random_state=1,\n",
       "              reg_alpha=0, reg_lambda=1, scale_pos_weight=1, subsample=1,\n",
       "              tree_method='exact', validate_parameters=1, verbosity=None)"
      ]
     },
     "execution_count": 43,
     "metadata": {},
     "output_type": "execute_result"
    }
   ],
   "source": [
    "xgb = XGBClassifier(random_state =1, learning_rate = 0.5, min_child_weight = 0.03)\n",
    "xgb.fit(X_train, y_train)"
   ]
  },
  {
   "cell_type": "code",
   "execution_count": 44,
   "metadata": {
    "execution": {
     "iopub.execute_input": "2020-10-22T10:31:31.354228Z",
     "iopub.status.busy": "2020-10-22T10:31:31.353694Z",
     "iopub.status.idle": "2020-10-22T10:32:28.784932Z",
     "shell.execute_reply": "2020-10-22T10:32:28.784354Z"
    },
    "papermill": {
     "duration": 57.509697,
     "end_time": "2020-10-22T10:32:28.785038",
     "exception": false,
     "start_time": "2020-10-22T10:31:31.275341",
     "status": "completed"
    },
    "tags": []
   },
   "outputs": [
    {
     "name": "stdout",
     "output_type": "stream",
     "text": [
      "Epoch 1/150\n",
      "60/60 [==============================] - 0s 6ms/step - loss: 0.4852 - accuracy: 0.7761\n",
      "Epoch 2/150\n",
      "60/60 [==============================] - 0s 5ms/step - loss: 0.3451 - accuracy: 0.8586\n",
      "Epoch 3/150\n",
      "60/60 [==============================] - 0s 5ms/step - loss: 0.2488 - accuracy: 0.8939\n",
      "Epoch 4/150\n",
      "60/60 [==============================] - 0s 5ms/step - loss: 0.1255 - accuracy: 0.9579\n",
      "Epoch 5/150\n",
      "60/60 [==============================] - 0s 6ms/step - loss: 0.0524 - accuracy: 0.9865\n",
      "Epoch 6/150\n",
      "60/60 [==============================] - 0s 5ms/step - loss: 0.0384 - accuracy: 0.9882\n",
      "Epoch 7/150\n",
      "60/60 [==============================] - 0s 5ms/step - loss: 0.0260 - accuracy: 0.9933\n",
      "Epoch 8/150\n",
      "60/60 [==============================] - 0s 5ms/step - loss: 0.0283 - accuracy: 0.9933\n",
      "Epoch 9/150\n",
      "60/60 [==============================] - 0s 5ms/step - loss: 0.0208 - accuracy: 0.9933\n",
      "Epoch 10/150\n",
      "60/60 [==============================] - 0s 5ms/step - loss: 0.0183 - accuracy: 0.9933\n",
      "Epoch 11/150\n",
      "60/60 [==============================] - 0s 5ms/step - loss: 0.0173 - accuracy: 0.9933\n",
      "Epoch 12/150\n",
      "60/60 [==============================] - 0s 5ms/step - loss: 0.0176 - accuracy: 0.9933\n",
      "Epoch 13/150\n",
      "60/60 [==============================] - 0s 5ms/step - loss: 0.0249 - accuracy: 0.9916\n",
      "Epoch 14/150\n",
      "60/60 [==============================] - 0s 5ms/step - loss: 0.0252 - accuracy: 0.9933\n",
      "Epoch 15/150\n",
      "60/60 [==============================] - 0s 5ms/step - loss: 0.0255 - accuracy: 0.9865\n",
      "Epoch 16/150\n",
      "60/60 [==============================] - 0s 5ms/step - loss: 0.0210 - accuracy: 0.9916\n",
      "Epoch 17/150\n",
      "60/60 [==============================] - 0s 7ms/step - loss: 0.0159 - accuracy: 0.9933\n",
      "Epoch 18/150\n",
      "60/60 [==============================] - 0s 6ms/step - loss: 0.0096 - accuracy: 0.9949\n",
      "Epoch 19/150\n",
      "60/60 [==============================] - 0s 6ms/step - loss: 0.0114 - accuracy: 0.9933\n",
      "Epoch 20/150\n",
      "60/60 [==============================] - 0s 5ms/step - loss: 0.0127 - accuracy: 0.9949\n",
      "Epoch 21/150\n",
      "60/60 [==============================] - 0s 6ms/step - loss: 0.0107 - accuracy: 0.9933\n",
      "Epoch 22/150\n",
      "60/60 [==============================] - 0s 5ms/step - loss: 0.0084 - accuracy: 0.9966\n",
      "Epoch 23/150\n",
      "60/60 [==============================] - 0s 5ms/step - loss: 0.0105 - accuracy: 0.9966\n",
      "Epoch 24/150\n",
      "60/60 [==============================] - 0s 5ms/step - loss: 0.0077 - accuracy: 0.9966\n",
      "Epoch 25/150\n",
      "60/60 [==============================] - 0s 5ms/step - loss: 0.0083 - accuracy: 0.9966\n",
      "Epoch 26/150\n",
      "60/60 [==============================] - 0s 6ms/step - loss: 0.0110 - accuracy: 0.9933\n",
      "Epoch 27/150\n",
      "60/60 [==============================] - 0s 6ms/step - loss: 0.0126 - accuracy: 0.9933\n",
      "Epoch 28/150\n",
      "60/60 [==============================] - 0s 6ms/step - loss: 0.0126 - accuracy: 0.9933\n",
      "Epoch 29/150\n",
      "60/60 [==============================] - 0s 6ms/step - loss: 0.0087 - accuracy: 0.9966\n",
      "Epoch 30/150\n",
      "60/60 [==============================] - 0s 5ms/step - loss: 0.0111 - accuracy: 0.9949\n",
      "Epoch 31/150\n",
      "60/60 [==============================] - 0s 5ms/step - loss: 0.0086 - accuracy: 0.9983\n",
      "Epoch 32/150\n",
      "60/60 [==============================] - 0s 6ms/step - loss: 0.0071 - accuracy: 0.9949\n",
      "Epoch 33/150\n",
      "60/60 [==============================] - 0s 5ms/step - loss: 0.0068 - accuracy: 0.9983\n",
      "Epoch 34/150\n",
      "60/60 [==============================] - 0s 5ms/step - loss: 0.0080 - accuracy: 0.9949\n",
      "Epoch 35/150\n",
      "60/60 [==============================] - 0s 5ms/step - loss: 0.0080 - accuracy: 0.9966\n",
      "Epoch 36/150\n",
      "60/60 [==============================] - 0s 5ms/step - loss: 0.0072 - accuracy: 0.9949\n",
      "Epoch 37/150\n",
      "60/60 [==============================] - 0s 6ms/step - loss: 0.0067 - accuracy: 0.9966\n",
      "Epoch 38/150\n",
      "60/60 [==============================] - 0s 5ms/step - loss: 0.0070 - accuracy: 0.9966\n",
      "Epoch 39/150\n",
      "60/60 [==============================] - 0s 5ms/step - loss: 0.0071 - accuracy: 0.9966\n",
      "Epoch 40/150\n",
      "60/60 [==============================] - 0s 5ms/step - loss: 0.0065 - accuracy: 0.9966\n",
      "Epoch 41/150\n",
      "60/60 [==============================] - 0s 5ms/step - loss: 0.0076 - accuracy: 0.9966\n",
      "Epoch 42/150\n",
      "60/60 [==============================] - 0s 5ms/step - loss: 0.0069 - accuracy: 0.9966\n",
      "Epoch 43/150\n",
      "60/60 [==============================] - 0s 5ms/step - loss: 0.0071 - accuracy: 0.9966\n",
      "Epoch 44/150\n",
      "60/60 [==============================] - 0s 5ms/step - loss: 0.0085 - accuracy: 0.9949\n",
      "Epoch 45/150\n",
      "60/60 [==============================] - 0s 5ms/step - loss: 0.0065 - accuracy: 0.9966\n",
      "Epoch 46/150\n",
      "60/60 [==============================] - 0s 6ms/step - loss: 0.0076 - accuracy: 0.9949\n",
      "Epoch 47/150\n",
      "60/60 [==============================] - 0s 5ms/step - loss: 0.0074 - accuracy: 0.9966\n",
      "Epoch 48/150\n",
      "60/60 [==============================] - 0s 5ms/step - loss: 0.0077 - accuracy: 0.9966\n",
      "Epoch 49/150\n",
      "60/60 [==============================] - 0s 5ms/step - loss: 0.0077 - accuracy: 0.9949\n",
      "Epoch 50/150\n",
      "60/60 [==============================] - 0s 5ms/step - loss: 0.0076 - accuracy: 0.9966\n",
      "Epoch 51/150\n",
      "60/60 [==============================] - 0s 5ms/step - loss: 0.0076 - accuracy: 0.9966\n",
      "Epoch 52/150\n",
      "60/60 [==============================] - 0s 5ms/step - loss: 0.0078 - accuracy: 0.9966\n",
      "Epoch 53/150\n",
      "60/60 [==============================] - 0s 5ms/step - loss: 0.0084 - accuracy: 0.9966\n",
      "Epoch 54/150\n",
      "60/60 [==============================] - 0s 5ms/step - loss: 0.0098 - accuracy: 0.9966\n",
      "Epoch 55/150\n",
      "60/60 [==============================] - 0s 5ms/step - loss: 0.0185 - accuracy: 0.9916\n",
      "Epoch 56/150\n",
      "60/60 [==============================] - 0s 6ms/step - loss: 0.0934 - accuracy: 0.9731\n",
      "Epoch 57/150\n",
      "60/60 [==============================] - 0s 5ms/step - loss: 0.1068 - accuracy: 0.9697\n",
      "Epoch 58/150\n",
      "60/60 [==============================] - 0s 6ms/step - loss: 0.1327 - accuracy: 0.9663\n",
      "Epoch 59/150\n",
      "60/60 [==============================] - 0s 5ms/step - loss: 0.0197 - accuracy: 0.9916\n",
      "Epoch 60/150\n",
      "60/60 [==============================] - 0s 5ms/step - loss: 0.0107 - accuracy: 0.9949\n",
      "Epoch 61/150\n",
      "60/60 [==============================] - 0s 5ms/step - loss: 0.0090 - accuracy: 0.9933\n",
      "Epoch 62/150\n",
      "60/60 [==============================] - 0s 5ms/step - loss: 0.0117 - accuracy: 0.9966\n",
      "Epoch 63/150\n",
      "60/60 [==============================] - 0s 5ms/step - loss: 0.0083 - accuracy: 0.9966\n",
      "Epoch 64/150\n",
      "60/60 [==============================] - 0s 5ms/step - loss: 0.0096 - accuracy: 0.9949\n",
      "Epoch 65/150\n",
      "60/60 [==============================] - 0s 5ms/step - loss: 0.0074 - accuracy: 0.9966\n",
      "Epoch 66/150\n",
      "60/60 [==============================] - 0s 5ms/step - loss: 0.0067 - accuracy: 0.9966\n",
      "Epoch 67/150\n",
      "60/60 [==============================] - 0s 5ms/step - loss: 0.0064 - accuracy: 0.9966\n",
      "Epoch 68/150\n",
      "60/60 [==============================] - 0s 6ms/step - loss: 0.0065 - accuracy: 0.9966\n",
      "Epoch 69/150\n",
      "60/60 [==============================] - 0s 6ms/step - loss: 0.0063 - accuracy: 0.9966\n",
      "Epoch 70/150\n",
      "60/60 [==============================] - 0s 6ms/step - loss: 0.0065 - accuracy: 0.9983\n",
      "Epoch 71/150\n",
      "60/60 [==============================] - 0s 5ms/step - loss: 0.0088 - accuracy: 0.9949\n",
      "Epoch 72/150\n",
      "60/60 [==============================] - 0s 5ms/step - loss: 0.0066 - accuracy: 0.9966\n",
      "Epoch 73/150\n",
      "60/60 [==============================] - 0s 5ms/step - loss: 0.0064 - accuracy: 0.9966\n",
      "Epoch 74/150\n",
      "60/60 [==============================] - 0s 5ms/step - loss: 0.0059 - accuracy: 0.9966\n",
      "Epoch 75/150\n",
      "60/60 [==============================] - 0s 5ms/step - loss: 0.0057 - accuracy: 0.9983\n",
      "Epoch 76/150\n",
      "60/60 [==============================] - 0s 5ms/step - loss: 0.0058 - accuracy: 0.9983\n",
      "Epoch 77/150\n",
      "60/60 [==============================] - 0s 5ms/step - loss: 0.0063 - accuracy: 0.9966\n",
      "Epoch 78/150\n",
      "60/60 [==============================] - 0s 5ms/step - loss: 0.0070 - accuracy: 0.9983\n",
      "Epoch 79/150\n",
      "60/60 [==============================] - 0s 5ms/step - loss: 0.0065 - accuracy: 0.9966\n",
      "Epoch 80/150\n",
      "60/60 [==============================] - 0s 5ms/step - loss: 0.0060 - accuracy: 0.9966\n",
      "Epoch 81/150\n",
      "60/60 [==============================] - 0s 5ms/step - loss: 0.0059 - accuracy: 0.9983\n",
      "Epoch 82/150\n",
      "60/60 [==============================] - 0s 5ms/step - loss: 0.0056 - accuracy: 0.9983\n",
      "Epoch 83/150\n",
      "60/60 [==============================] - 0s 5ms/step - loss: 0.0057 - accuracy: 0.9966\n",
      "Epoch 84/150\n",
      "60/60 [==============================] - 0s 5ms/step - loss: 0.0070 - accuracy: 0.9949\n",
      "Epoch 85/150\n",
      "60/60 [==============================] - 0s 5ms/step - loss: 0.0065 - accuracy: 0.9966\n",
      "Epoch 86/150\n",
      "60/60 [==============================] - 0s 6ms/step - loss: 0.0067 - accuracy: 0.9966\n",
      "Epoch 87/150\n",
      "60/60 [==============================] - 0s 5ms/step - loss: 0.0070 - accuracy: 0.9966\n",
      "Epoch 88/150\n",
      "60/60 [==============================] - 0s 5ms/step - loss: 0.0062 - accuracy: 0.9966\n",
      "Epoch 89/150\n",
      "60/60 [==============================] - 0s 5ms/step - loss: 0.0066 - accuracy: 0.9966\n",
      "Epoch 90/150\n",
      "60/60 [==============================] - 0s 6ms/step - loss: 0.0062 - accuracy: 0.9983\n",
      "Epoch 91/150\n",
      "60/60 [==============================] - 0s 5ms/step - loss: 0.0064 - accuracy: 0.9983\n",
      "Epoch 92/150\n",
      "60/60 [==============================] - 0s 6ms/step - loss: 0.0067 - accuracy: 0.9949\n",
      "Epoch 93/150\n",
      "60/60 [==============================] - 0s 5ms/step - loss: 0.0062 - accuracy: 0.9966\n",
      "Epoch 94/150\n",
      "60/60 [==============================] - 0s 5ms/step - loss: 0.0070 - accuracy: 0.9966\n",
      "Epoch 95/150\n",
      "60/60 [==============================] - 0s 5ms/step - loss: 0.0071 - accuracy: 0.9966\n",
      "Epoch 96/150\n",
      "60/60 [==============================] - 0s 6ms/step - loss: 0.0066 - accuracy: 0.9983\n",
      "Epoch 97/150\n",
      "60/60 [==============================] - 0s 5ms/step - loss: 0.0077 - accuracy: 0.9966\n",
      "Epoch 98/150\n",
      "60/60 [==============================] - 0s 5ms/step - loss: 0.0088 - accuracy: 0.9966\n",
      "Epoch 99/150\n",
      "60/60 [==============================] - 0s 5ms/step - loss: 0.0072 - accuracy: 0.9966\n",
      "Epoch 100/150\n",
      "60/60 [==============================] - 0s 5ms/step - loss: 0.0069 - accuracy: 0.9966\n",
      "Epoch 101/150\n",
      "60/60 [==============================] - 0s 5ms/step - loss: 0.0062 - accuracy: 0.9983\n",
      "Epoch 102/150\n",
      "60/60 [==============================] - 0s 5ms/step - loss: 0.0059 - accuracy: 0.9966\n",
      "Epoch 103/150\n",
      "60/60 [==============================] - 0s 5ms/step - loss: 0.0059 - accuracy: 0.9966\n",
      "Epoch 104/150\n",
      "60/60 [==============================] - 0s 5ms/step - loss: 0.0065 - accuracy: 0.9983\n",
      "Epoch 105/150\n",
      "60/60 [==============================] - 0s 5ms/step - loss: 0.0061 - accuracy: 0.9983\n",
      "Epoch 106/150\n",
      "60/60 [==============================] - 0s 5ms/step - loss: 0.0058 - accuracy: 0.9983\n",
      "Epoch 107/150\n",
      "60/60 [==============================] - 0s 5ms/step - loss: 0.0056 - accuracy: 0.9966\n",
      "Epoch 108/150\n",
      "60/60 [==============================] - 0s 5ms/step - loss: 0.0058 - accuracy: 0.9983\n",
      "Epoch 109/150\n",
      "60/60 [==============================] - 0s 5ms/step - loss: 0.0059 - accuracy: 0.9966\n",
      "Epoch 110/150\n",
      "60/60 [==============================] - 0s 6ms/step - loss: 0.0065 - accuracy: 0.9966\n",
      "Epoch 111/150\n",
      "60/60 [==============================] - 0s 6ms/step - loss: 0.0063 - accuracy: 0.9983\n",
      "Epoch 112/150\n",
      "60/60 [==============================] - 0s 5ms/step - loss: 0.0059 - accuracy: 0.9966\n",
      "Epoch 113/150\n",
      "60/60 [==============================] - 0s 5ms/step - loss: 0.0066 - accuracy: 0.9966\n",
      "Epoch 114/150\n",
      "60/60 [==============================] - 0s 5ms/step - loss: 0.0051 - accuracy: 0.9983\n",
      "Epoch 115/150\n",
      "60/60 [==============================] - 0s 5ms/step - loss: 0.0060 - accuracy: 0.9966\n",
      "Epoch 116/150\n",
      "60/60 [==============================] - 0s 5ms/step - loss: 0.0065 - accuracy: 0.9966\n",
      "Epoch 117/150\n",
      "60/60 [==============================] - 0s 6ms/step - loss: 0.0058 - accuracy: 0.9966\n",
      "Epoch 118/150\n",
      "60/60 [==============================] - 0s 5ms/step - loss: 0.0058 - accuracy: 0.9983\n",
      "Epoch 119/150\n",
      "60/60 [==============================] - 0s 5ms/step - loss: 0.0059 - accuracy: 0.9966\n",
      "Epoch 120/150\n",
      "60/60 [==============================] - 0s 5ms/step - loss: 0.0062 - accuracy: 0.9966\n",
      "Epoch 121/150\n",
      "60/60 [==============================] - 0s 5ms/step - loss: 0.0057 - accuracy: 0.9983\n",
      "Epoch 122/150\n",
      "60/60 [==============================] - 0s 5ms/step - loss: 0.0059 - accuracy: 0.9983\n",
      "Epoch 123/150\n",
      "60/60 [==============================] - 0s 6ms/step - loss: 0.0056 - accuracy: 0.9983\n",
      "Epoch 124/150\n",
      "60/60 [==============================] - 0s 5ms/step - loss: 0.0052 - accuracy: 0.9983\n",
      "Epoch 125/150\n",
      "60/60 [==============================] - 0s 5ms/step - loss: 0.0053 - accuracy: 0.9966\n",
      "Epoch 126/150\n",
      "60/60 [==============================] - 0s 5ms/step - loss: 0.0059 - accuracy: 0.9966\n",
      "Epoch 127/150\n",
      "60/60 [==============================] - 0s 5ms/step - loss: 0.0050 - accuracy: 0.9983\n",
      "Epoch 128/150\n",
      "60/60 [==============================] - 0s 5ms/step - loss: 0.0056 - accuracy: 0.9983\n",
      "Epoch 129/150\n",
      "60/60 [==============================] - 0s 5ms/step - loss: 0.0067 - accuracy: 0.9966\n",
      "Epoch 130/150\n",
      "60/60 [==============================] - 0s 5ms/step - loss: 0.0049 - accuracy: 0.9983\n",
      "Epoch 131/150\n",
      "60/60 [==============================] - 0s 5ms/step - loss: 0.0050 - accuracy: 0.9983\n",
      "Epoch 132/150\n",
      "60/60 [==============================] - 0s 5ms/step - loss: 0.0051 - accuracy: 0.9983\n",
      "Epoch 133/150\n",
      "60/60 [==============================] - 0s 5ms/step - loss: 0.0063 - accuracy: 0.9966\n",
      "Epoch 134/150\n",
      "60/60 [==============================] - 0s 5ms/step - loss: 0.0063 - accuracy: 0.9966\n",
      "Epoch 135/150\n",
      "60/60 [==============================] - 0s 5ms/step - loss: 0.0073 - accuracy: 0.9966\n",
      "Epoch 136/150\n",
      "60/60 [==============================] - 0s 5ms/step - loss: 0.0053 - accuracy: 0.9966\n",
      "Epoch 137/150\n",
      "60/60 [==============================] - 0s 5ms/step - loss: 0.0058 - accuracy: 0.9983\n",
      "Epoch 138/150\n",
      "60/60 [==============================] - 0s 5ms/step - loss: 0.0056 - accuracy: 0.9983\n",
      "Epoch 139/150\n",
      "60/60 [==============================] - 0s 5ms/step - loss: 0.0052 - accuracy: 0.9983\n",
      "Epoch 140/150\n",
      "60/60 [==============================] - 0s 5ms/step - loss: 0.0047 - accuracy: 0.9983\n",
      "Epoch 141/150\n",
      "60/60 [==============================] - 0s 5ms/step - loss: 0.0056 - accuracy: 0.9983\n",
      "Epoch 142/150\n",
      "60/60 [==============================] - 0s 5ms/step - loss: 0.0053 - accuracy: 0.9983\n",
      "Epoch 143/150\n",
      "60/60 [==============================] - 0s 5ms/step - loss: 0.0050 - accuracy: 0.9983\n",
      "Epoch 144/150\n",
      "60/60 [==============================] - 0s 5ms/step - loss: 0.0047 - accuracy: 0.9983\n",
      "Epoch 145/150\n",
      "60/60 [==============================] - 0s 5ms/step - loss: 0.0051 - accuracy: 0.9983\n",
      "Epoch 146/150\n",
      "60/60 [==============================] - 0s 5ms/step - loss: 0.0049 - accuracy: 0.9983\n",
      "Epoch 147/150\n",
      "60/60 [==============================] - 0s 5ms/step - loss: 0.0048 - accuracy: 0.9983\n",
      "Epoch 148/150\n",
      "60/60 [==============================] - 0s 6ms/step - loss: 0.0066 - accuracy: 0.9966\n",
      "Epoch 149/150\n",
      "60/60 [==============================] - 0s 6ms/step - loss: 0.0072 - accuracy: 0.9966\n",
      "Epoch 150/150\n",
      "60/60 [==============================] - 0s 6ms/step - loss: 0.0081 - accuracy: 0.9966\n",
      "19/19 [==============================] - 0s 4ms/step - loss: 0.0080 - accuracy: 0.9966\n",
      "Accuracy: 99.66\n"
     ]
    }
   ],
   "source": [
    "from keras.models import Sequential\n",
    "from keras.layers import Dense\n",
    "dl1 = Sequential()\n",
    "dl1.add(Dense(1002, activation='relu'))\n",
    "dl1.add(Dense(512, activation='relu'))\n",
    "dl1.add(Dense(1, activation='sigmoid'))\n",
    "# compile the keras model\n",
    "dl1.compile(loss='binary_crossentropy', optimizer='adam', metrics=['accuracy'])\n",
    "# fit the keras model on the dataset\n",
    "dl1.fit(X_train, y_train, epochs=150, batch_size=10)\n",
    "# evaluate the keras model\n",
    "_, accuracy = dl1.evaluate(X_train, y_train)\n",
    "print('Accuracy: %.2f' % (accuracy*100))"
   ]
  },
  {
   "cell_type": "code",
   "execution_count": 45,
   "metadata": {
    "execution": {
     "iopub.execute_input": "2020-10-22T10:32:29.851711Z",
     "iopub.status.busy": "2020-10-22T10:32:29.850350Z",
     "iopub.status.idle": "2020-10-22T10:33:27.768796Z",
     "shell.execute_reply": "2020-10-22T10:33:27.769149Z"
    },
    "papermill": {
     "duration": 58.461095,
     "end_time": "2020-10-22T10:33:27.769269",
     "exception": false,
     "start_time": "2020-10-22T10:32:29.308174",
     "status": "completed"
    },
    "tags": []
   },
   "outputs": [
    {
     "name": "stdout",
     "output_type": "stream",
     "text": [
      "Epoch 1/150\n",
      "60/60 [==============================] - 0s 7ms/step - loss: 0.5262 - accuracy: 0.7475\n",
      "Epoch 2/150\n",
      "60/60 [==============================] - 0s 7ms/step - loss: 0.3816 - accuracy: 0.8502\n",
      "Epoch 3/150\n",
      "60/60 [==============================] - 0s 7ms/step - loss: 0.2693 - accuracy: 0.8956\n",
      "Epoch 4/150\n",
      "60/60 [==============================] - 0s 7ms/step - loss: 0.1428 - accuracy: 0.9529\n",
      "Epoch 5/150\n",
      "60/60 [==============================] - 0s 7ms/step - loss: 0.0681 - accuracy: 0.9798\n",
      "Epoch 6/150\n",
      "60/60 [==============================] - 0s 7ms/step - loss: 0.0416 - accuracy: 0.9848\n",
      "Epoch 7/150\n",
      "60/60 [==============================] - 0s 7ms/step - loss: 0.0427 - accuracy: 0.9848\n",
      "Epoch 8/150\n",
      "60/60 [==============================] - 0s 7ms/step - loss: 0.0265 - accuracy: 0.9933\n",
      "Epoch 9/150\n",
      "60/60 [==============================] - 0s 7ms/step - loss: 0.0194 - accuracy: 0.9949\n",
      "Epoch 10/150\n",
      "60/60 [==============================] - 0s 7ms/step - loss: 0.0222 - accuracy: 0.9916\n",
      "Epoch 11/150\n",
      "60/60 [==============================] - 0s 6ms/step - loss: 0.0139 - accuracy: 0.9933\n",
      "Epoch 12/150\n",
      "60/60 [==============================] - 0s 6ms/step - loss: 0.0110 - accuracy: 0.9966\n",
      "Epoch 13/150\n",
      "60/60 [==============================] - 0s 6ms/step - loss: 0.0125 - accuracy: 0.9949\n",
      "Epoch 14/150\n",
      "60/60 [==============================] - 0s 6ms/step - loss: 0.0088 - accuracy: 0.9966\n",
      "Epoch 15/150\n",
      "60/60 [==============================] - 0s 6ms/step - loss: 0.0461 - accuracy: 0.9848\n",
      "Epoch 16/150\n",
      "60/60 [==============================] - 0s 6ms/step - loss: 0.0762 - accuracy: 0.9747\n",
      "Epoch 17/150\n",
      "60/60 [==============================] - 0s 6ms/step - loss: 0.0150 - accuracy: 0.9933\n",
      "Epoch 18/150\n",
      "60/60 [==============================] - 0s 6ms/step - loss: 0.0169 - accuracy: 0.9899\n",
      "Epoch 19/150\n",
      "60/60 [==============================] - 0s 6ms/step - loss: 0.0184 - accuracy: 0.9916\n",
      "Epoch 20/150\n",
      "60/60 [==============================] - 0s 6ms/step - loss: 0.0118 - accuracy: 0.9933\n",
      "Epoch 21/150\n",
      "60/60 [==============================] - 0s 6ms/step - loss: 0.0101 - accuracy: 0.9933\n",
      "Epoch 22/150\n",
      "60/60 [==============================] - 0s 6ms/step - loss: 0.0093 - accuracy: 0.9933\n",
      "Epoch 23/150\n",
      "60/60 [==============================] - 0s 6ms/step - loss: 0.0092 - accuracy: 0.9949\n",
      "Epoch 24/150\n",
      "60/60 [==============================] - 0s 6ms/step - loss: 0.0089 - accuracy: 0.9966\n",
      "Epoch 25/150\n",
      "60/60 [==============================] - 0s 6ms/step - loss: 0.0072 - accuracy: 0.9949\n",
      "Epoch 26/150\n",
      "60/60 [==============================] - 0s 6ms/step - loss: 0.0118 - accuracy: 0.9966\n",
      "Epoch 27/150\n",
      "60/60 [==============================] - 0s 6ms/step - loss: 0.0162 - accuracy: 0.9949\n",
      "Epoch 28/150\n",
      "60/60 [==============================] - 0s 7ms/step - loss: 0.0097 - accuracy: 0.9949\n",
      "Epoch 29/150\n",
      "60/60 [==============================] - 0s 6ms/step - loss: 0.0104 - accuracy: 0.9949\n",
      "Epoch 30/150\n",
      "60/60 [==============================] - 0s 6ms/step - loss: 0.0087 - accuracy: 0.9949\n",
      "Epoch 31/150\n",
      "60/60 [==============================] - 0s 6ms/step - loss: 0.0075 - accuracy: 0.9966\n",
      "Epoch 32/150\n",
      "60/60 [==============================] - 0s 6ms/step - loss: 0.0073 - accuracy: 0.9966\n",
      "Epoch 33/150\n",
      "60/60 [==============================] - 0s 6ms/step - loss: 0.0081 - accuracy: 0.9966\n",
      "Epoch 34/150\n",
      "60/60 [==============================] - 0s 6ms/step - loss: 0.0080 - accuracy: 0.9949\n",
      "Epoch 35/150\n",
      "60/60 [==============================] - 0s 7ms/step - loss: 0.0076 - accuracy: 0.9966\n",
      "Epoch 36/150\n",
      "60/60 [==============================] - 0s 6ms/step - loss: 0.0074 - accuracy: 0.9966\n",
      "Epoch 37/150\n",
      "60/60 [==============================] - 0s 6ms/step - loss: 0.0069 - accuracy: 0.9966\n",
      "Epoch 38/150\n",
      "60/60 [==============================] - 0s 6ms/step - loss: 0.0079 - accuracy: 0.9966\n",
      "Epoch 39/150\n",
      "60/60 [==============================] - 0s 6ms/step - loss: 0.0098 - accuracy: 0.9949\n",
      "Epoch 40/150\n",
      "60/60 [==============================] - 0s 6ms/step - loss: 0.0084 - accuracy: 0.9966\n",
      "Epoch 41/150\n",
      "60/60 [==============================] - 0s 6ms/step - loss: 0.0075 - accuracy: 0.9966\n",
      "Epoch 42/150\n",
      "60/60 [==============================] - 0s 7ms/step - loss: 0.0087 - accuracy: 0.9966\n",
      "Epoch 43/150\n",
      "60/60 [==============================] - 0s 7ms/step - loss: 0.0071 - accuracy: 0.9966\n",
      "Epoch 44/150\n",
      "60/60 [==============================] - 0s 6ms/step - loss: 0.0069 - accuracy: 0.9966\n",
      "Epoch 45/150\n",
      "60/60 [==============================] - 0s 7ms/step - loss: 0.0073 - accuracy: 0.9966\n",
      "Epoch 46/150\n",
      "60/60 [==============================] - 0s 6ms/step - loss: 0.0070 - accuracy: 0.9966\n",
      "Epoch 47/150\n",
      "60/60 [==============================] - 0s 6ms/step - loss: 0.0067 - accuracy: 0.9966\n",
      "Epoch 48/150\n",
      "60/60 [==============================] - 0s 6ms/step - loss: 0.0067 - accuracy: 0.9966\n",
      "Epoch 49/150\n",
      "60/60 [==============================] - 0s 6ms/step - loss: 0.0066 - accuracy: 0.9966\n",
      "Epoch 50/150\n",
      "60/60 [==============================] - 0s 6ms/step - loss: 0.0062 - accuracy: 0.9966\n",
      "Epoch 51/150\n",
      "60/60 [==============================] - 0s 6ms/step - loss: 0.0064 - accuracy: 0.9966\n",
      "Epoch 52/150\n",
      "60/60 [==============================] - 0s 6ms/step - loss: 0.0068 - accuracy: 0.9966\n",
      "Epoch 53/150\n",
      "60/60 [==============================] - 0s 6ms/step - loss: 0.0063 - accuracy: 0.9966\n",
      "Epoch 54/150\n",
      "60/60 [==============================] - 0s 6ms/step - loss: 0.0069 - accuracy: 0.9966\n",
      "Epoch 55/150\n",
      "60/60 [==============================] - 0s 6ms/step - loss: 0.0063 - accuracy: 0.9966\n",
      "Epoch 56/150\n",
      "60/60 [==============================] - 0s 6ms/step - loss: 0.0083 - accuracy: 0.9966\n",
      "Epoch 57/150\n",
      "60/60 [==============================] - 0s 6ms/step - loss: 0.0064 - accuracy: 0.9949\n",
      "Epoch 58/150\n",
      "60/60 [==============================] - 0s 7ms/step - loss: 0.0067 - accuracy: 0.9949\n",
      "Epoch 59/150\n",
      "60/60 [==============================] - 0s 6ms/step - loss: 0.0069 - accuracy: 0.9966\n",
      "Epoch 60/150\n",
      "60/60 [==============================] - 0s 6ms/step - loss: 0.0065 - accuracy: 0.9966\n",
      "Epoch 61/150\n",
      "60/60 [==============================] - 0s 6ms/step - loss: 0.0067 - accuracy: 0.9983\n",
      "Epoch 62/150\n",
      "60/60 [==============================] - 0s 6ms/step - loss: 0.0063 - accuracy: 0.9966\n",
      "Epoch 63/150\n",
      "60/60 [==============================] - 0s 6ms/step - loss: 0.0062 - accuracy: 0.9966\n",
      "Epoch 64/150\n",
      "60/60 [==============================] - 0s 6ms/step - loss: 0.0063 - accuracy: 0.9966\n",
      "Epoch 65/150\n",
      "60/60 [==============================] - 0s 6ms/step - loss: 0.0066 - accuracy: 0.9966\n",
      "Epoch 66/150\n",
      "60/60 [==============================] - 0s 6ms/step - loss: 0.0063 - accuracy: 0.9966\n",
      "Epoch 67/150\n",
      "60/60 [==============================] - 0s 6ms/step - loss: 0.0061 - accuracy: 0.9983\n",
      "Epoch 68/150\n",
      "60/60 [==============================] - 0s 6ms/step - loss: 0.0065 - accuracy: 0.9966\n",
      "Epoch 69/150\n",
      "60/60 [==============================] - 0s 6ms/step - loss: 0.0063 - accuracy: 0.9966\n",
      "Epoch 70/150\n",
      "60/60 [==============================] - 0s 6ms/step - loss: 0.0062 - accuracy: 0.9983\n",
      "Epoch 71/150\n",
      "60/60 [==============================] - 0s 6ms/step - loss: 0.0060 - accuracy: 0.9966\n",
      "Epoch 72/150\n",
      "60/60 [==============================] - 0s 6ms/step - loss: 0.0094 - accuracy: 0.9983\n",
      "Epoch 73/150\n",
      "60/60 [==============================] - 0s 6ms/step - loss: 0.0105 - accuracy: 0.9916\n",
      "Epoch 74/150\n",
      "60/60 [==============================] - 0s 6ms/step - loss: 0.1991 - accuracy: 0.9579\n",
      "Epoch 75/150\n",
      "60/60 [==============================] - 0s 6ms/step - loss: 0.0379 - accuracy: 0.9865\n",
      "Epoch 76/150\n",
      "60/60 [==============================] - 0s 6ms/step - loss: 0.0120 - accuracy: 0.9966\n",
      "Epoch 77/150\n",
      "60/60 [==============================] - 0s 6ms/step - loss: 0.0147 - accuracy: 0.9933\n",
      "Epoch 78/150\n",
      "60/60 [==============================] - 0s 6ms/step - loss: 0.0079 - accuracy: 0.9966\n",
      "Epoch 79/150\n",
      "60/60 [==============================] - 0s 6ms/step - loss: 0.0073 - accuracy: 0.9966\n",
      "Epoch 80/150\n",
      "60/60 [==============================] - 0s 6ms/step - loss: 0.0072 - accuracy: 0.9966\n",
      "Epoch 81/150\n",
      "60/60 [==============================] - 0s 6ms/step - loss: 0.0068 - accuracy: 0.9966\n",
      "Epoch 82/150\n",
      "60/60 [==============================] - 0s 6ms/step - loss: 0.0066 - accuracy: 0.9983\n",
      "Epoch 83/150\n",
      "60/60 [==============================] - 0s 6ms/step - loss: 0.0063 - accuracy: 0.9966\n",
      "Epoch 84/150\n",
      "60/60 [==============================] - 0s 6ms/step - loss: 0.0063 - accuracy: 0.9983\n",
      "Epoch 85/150\n",
      "60/60 [==============================] - 0s 6ms/step - loss: 0.0057 - accuracy: 0.9983\n",
      "Epoch 86/150\n",
      "60/60 [==============================] - 0s 6ms/step - loss: 0.0057 - accuracy: 0.9983\n",
      "Epoch 87/150\n",
      "60/60 [==============================] - 0s 6ms/step - loss: 0.0062 - accuracy: 0.9966\n",
      "Epoch 88/150\n",
      "60/60 [==============================] - 0s 6ms/step - loss: 0.0068 - accuracy: 0.9966\n",
      "Epoch 89/150\n",
      "60/60 [==============================] - 0s 6ms/step - loss: 0.0062 - accuracy: 0.9966\n",
      "Epoch 90/150\n",
      "60/60 [==============================] - 0s 6ms/step - loss: 0.0058 - accuracy: 0.9983\n",
      "Epoch 91/150\n",
      "60/60 [==============================] - 0s 6ms/step - loss: 0.0054 - accuracy: 0.9983\n",
      "Epoch 92/150\n",
      "60/60 [==============================] - 0s 6ms/step - loss: 0.0058 - accuracy: 0.9983\n",
      "Epoch 93/150\n",
      "60/60 [==============================] - 0s 6ms/step - loss: 0.0059 - accuracy: 0.9966\n",
      "Epoch 94/150\n",
      "60/60 [==============================] - 0s 6ms/step - loss: 0.0059 - accuracy: 0.9966\n",
      "Epoch 95/150\n",
      "60/60 [==============================] - 0s 6ms/step - loss: 0.0053 - accuracy: 0.9983\n",
      "Epoch 96/150\n",
      "60/60 [==============================] - 0s 6ms/step - loss: 0.0057 - accuracy: 0.9983\n",
      "Epoch 97/150\n",
      "60/60 [==============================] - 0s 6ms/step - loss: 0.0061 - accuracy: 0.9983\n",
      "Epoch 98/150\n",
      "60/60 [==============================] - 0s 6ms/step - loss: 0.0068 - accuracy: 0.9966\n",
      "Epoch 99/150\n",
      "60/60 [==============================] - 0s 6ms/step - loss: 0.0062 - accuracy: 0.9966\n",
      "Epoch 100/150\n",
      "60/60 [==============================] - 0s 6ms/step - loss: 0.0055 - accuracy: 0.9983\n",
      "Epoch 101/150\n",
      "60/60 [==============================] - 0s 6ms/step - loss: 0.0050 - accuracy: 0.9983\n",
      "Epoch 102/150\n",
      "60/60 [==============================] - 0s 6ms/step - loss: 0.0050 - accuracy: 0.9983\n",
      "Epoch 103/150\n",
      "60/60 [==============================] - 0s 6ms/step - loss: 0.0055 - accuracy: 0.9983\n",
      "Epoch 104/150\n",
      "60/60 [==============================] - 0s 6ms/step - loss: 0.0052 - accuracy: 0.9983\n",
      "Epoch 105/150\n",
      "60/60 [==============================] - 0s 6ms/step - loss: 0.0054 - accuracy: 0.9983\n",
      "Epoch 106/150\n",
      "60/60 [==============================] - 0s 6ms/step - loss: 0.0072 - accuracy: 0.9966\n",
      "Epoch 107/150\n",
      "60/60 [==============================] - 0s 6ms/step - loss: 0.0047 - accuracy: 0.9983\n",
      "Epoch 108/150\n",
      "60/60 [==============================] - 0s 6ms/step - loss: 0.0048 - accuracy: 0.9983\n",
      "Epoch 109/150\n",
      "60/60 [==============================] - 0s 6ms/step - loss: 0.0079 - accuracy: 0.9966\n",
      "Epoch 110/150\n",
      "60/60 [==============================] - 0s 6ms/step - loss: 0.0049 - accuracy: 0.9983\n",
      "Epoch 111/150\n",
      "60/60 [==============================] - 0s 6ms/step - loss: 0.0051 - accuracy: 0.9983\n",
      "Epoch 112/150\n",
      "60/60 [==============================] - 0s 6ms/step - loss: 0.0046 - accuracy: 0.9983\n",
      "Epoch 113/150\n",
      "60/60 [==============================] - 0s 6ms/step - loss: 0.0044 - accuracy: 0.9983\n",
      "Epoch 114/150\n",
      "60/60 [==============================] - 0s 6ms/step - loss: 0.0049 - accuracy: 0.9983\n",
      "Epoch 115/150\n",
      "60/60 [==============================] - 0s 6ms/step - loss: 0.0046 - accuracy: 0.9983\n",
      "Epoch 116/150\n",
      "60/60 [==============================] - 0s 6ms/step - loss: 0.0041 - accuracy: 0.9983\n",
      "Epoch 117/150\n",
      "60/60 [==============================] - 0s 6ms/step - loss: 0.0058 - accuracy: 0.9983\n",
      "Epoch 118/150\n",
      "60/60 [==============================] - 0s 6ms/step - loss: 0.0046 - accuracy: 0.9983\n",
      "Epoch 119/150\n",
      "60/60 [==============================] - 0s 6ms/step - loss: 0.0236 - accuracy: 0.9916\n",
      "Epoch 120/150\n",
      "60/60 [==============================] - 0s 6ms/step - loss: 0.1187 - accuracy: 0.9630\n",
      "Epoch 121/150\n",
      "60/60 [==============================] - 0s 6ms/step - loss: 0.0327 - accuracy: 0.9882\n",
      "Epoch 122/150\n",
      "60/60 [==============================] - 0s 6ms/step - loss: 0.0227 - accuracy: 0.9899\n",
      "Epoch 123/150\n",
      "60/60 [==============================] - 0s 6ms/step - loss: 0.0350 - accuracy: 0.9899\n",
      "Epoch 124/150\n",
      "60/60 [==============================] - 0s 7ms/step - loss: 0.0090 - accuracy: 0.9983\n",
      "Epoch 125/150\n",
      "60/60 [==============================] - 0s 7ms/step - loss: 0.0070 - accuracy: 0.9966\n",
      "Epoch 126/150\n",
      "60/60 [==============================] - 0s 6ms/step - loss: 0.0058 - accuracy: 0.9983\n",
      "Epoch 127/150\n",
      "60/60 [==============================] - 0s 6ms/step - loss: 0.0051 - accuracy: 0.9983\n",
      "Epoch 128/150\n",
      "60/60 [==============================] - 0s 6ms/step - loss: 0.0057 - accuracy: 0.9983\n",
      "Epoch 129/150\n",
      "60/60 [==============================] - 0s 6ms/step - loss: 0.0047 - accuracy: 0.9983\n",
      "Epoch 130/150\n",
      "60/60 [==============================] - 0s 6ms/step - loss: 0.0047 - accuracy: 0.9983\n",
      "Epoch 131/150\n",
      "60/60 [==============================] - 0s 6ms/step - loss: 0.0047 - accuracy: 0.9983\n",
      "Epoch 132/150\n",
      "60/60 [==============================] - 0s 6ms/step - loss: 0.0062 - accuracy: 0.9983\n",
      "Epoch 133/150\n",
      "60/60 [==============================] - 0s 6ms/step - loss: 0.0052 - accuracy: 0.9983\n",
      "Epoch 134/150\n",
      "60/60 [==============================] - 0s 6ms/step - loss: 0.0043 - accuracy: 0.9983\n",
      "Epoch 135/150\n",
      "60/60 [==============================] - 0s 6ms/step - loss: 0.0046 - accuracy: 0.9983\n",
      "Epoch 136/150\n",
      "60/60 [==============================] - 0s 6ms/step - loss: 0.0042 - accuracy: 0.9983\n",
      "Epoch 137/150\n",
      "60/60 [==============================] - 0s 6ms/step - loss: 0.0043 - accuracy: 0.9983\n",
      "Epoch 138/150\n",
      "60/60 [==============================] - 0s 6ms/step - loss: 0.0041 - accuracy: 0.9983\n",
      "Epoch 139/150\n",
      "60/60 [==============================] - 0s 6ms/step - loss: 0.0046 - accuracy: 0.9983\n",
      "Epoch 140/150\n",
      "60/60 [==============================] - 0s 6ms/step - loss: 0.0044 - accuracy: 0.9983\n",
      "Epoch 141/150\n",
      "60/60 [==============================] - 0s 6ms/step - loss: 0.0050 - accuracy: 0.9983\n",
      "Epoch 142/150\n",
      "60/60 [==============================] - 0s 6ms/step - loss: 0.0100 - accuracy: 0.9966\n",
      "Epoch 143/150\n",
      "60/60 [==============================] - 0s 6ms/step - loss: 0.0090 - accuracy: 0.9966\n",
      "Epoch 144/150\n",
      "60/60 [==============================] - 0s 7ms/step - loss: 0.0069 - accuracy: 0.9966\n",
      "Epoch 145/150\n",
      "60/60 [==============================] - 0s 6ms/step - loss: 0.0061 - accuracy: 0.9966\n",
      "Epoch 146/150\n",
      "60/60 [==============================] - 0s 6ms/step - loss: 0.0054 - accuracy: 0.9983\n",
      "Epoch 147/150\n",
      "60/60 [==============================] - 0s 6ms/step - loss: 0.0047 - accuracy: 0.9983\n",
      "Epoch 148/150\n",
      "60/60 [==============================] - 0s 6ms/step - loss: 0.0047 - accuracy: 0.9983\n",
      "Epoch 149/150\n",
      "60/60 [==============================] - 0s 6ms/step - loss: 0.0043 - accuracy: 0.9983\n",
      "Epoch 150/150\n",
      "60/60 [==============================] - 0s 6ms/step - loss: 0.0042 - accuracy: 0.9983\n",
      "19/19 [==============================] - 0s 4ms/step - loss: 0.0039 - accuracy: 0.9983\n",
      "Accuracy: 99.83\n"
     ]
    }
   ],
   "source": [
    "dl2 = Sequential()\n",
    "dl2.add(Dense(1002, activation='relu'))\n",
    "dl2.add(Dense(512, activation='relu'))\n",
    "dl2.add(Dense(256, activation='relu'))\n",
    "# dl2.add(Dense(128, activation='relu'))\n",
    "dl2.add(Dense(1, activation='sigmoid'))\n",
    "# compile the keras model\n",
    "dl2.compile(loss='binary_crossentropy', optimizer='adam', metrics=['accuracy'])\n",
    "# fit the keras model on the dataset\n",
    "dl2.fit(X_train, y_train, epochs=150, batch_size=10)\n",
    "# evaluate the keras model\n",
    "_, accuracy = dl2.evaluate(X_train, y_train)\n",
    "print('Accuracy: %.2f' % (accuracy*100))"
   ]
  },
  {
   "cell_type": "code",
   "execution_count": 46,
   "metadata": {
    "execution": {
     "iopub.execute_input": "2020-10-22T10:33:29.106205Z",
     "iopub.status.busy": "2020-10-22T10:33:29.105746Z",
     "iopub.status.idle": "2020-10-22T10:33:29.141336Z",
     "shell.execute_reply": "2020-10-22T10:33:29.140851Z"
    },
    "papermill": {
     "duration": 0.713915,
     "end_time": "2020-10-22T10:33:29.141420",
     "exception": false,
     "start_time": "2020-10-22T10:33:28.427505",
     "status": "completed"
    },
    "tags": []
   },
   "outputs": [
    {
     "data": {
      "text/plain": [
       "KNeighborsClassifier(n_neighbors=7)"
      ]
     },
     "execution_count": 46,
     "metadata": {},
     "output_type": "execute_result"
    }
   ],
   "source": [
    "knn = KNeighborsClassifier(algorithm= 'auto', n_neighbors = 7,weights= 'uniform')\n",
    "knn.fit(X_train, y_train)"
   ]
  },
  {
   "cell_type": "code",
   "execution_count": 47,
   "metadata": {
    "execution": {
     "iopub.execute_input": "2020-10-22T10:33:30.478462Z",
     "iopub.status.busy": "2020-10-22T10:33:30.477684Z",
     "iopub.status.idle": "2020-10-22T10:33:30.495990Z",
     "shell.execute_reply": "2020-10-22T10:33:30.495508Z"
    },
    "papermill": {
     "duration": 0.692845,
     "end_time": "2020-10-22T10:33:30.496070",
     "exception": false,
     "start_time": "2020-10-22T10:33:29.803225",
     "status": "completed"
    },
    "tags": []
   },
   "outputs": [
    {
     "data": {
      "text/plain": [
       "LogisticRegression(max_iter=2000, solver='liblinear')"
      ]
     },
     "execution_count": 47,
     "metadata": {},
     "output_type": "execute_result"
    }
   ],
   "source": [
    "lr = LogisticRegression(max_iter = 2000,\n",
    "              solver = 'liblinear')\n",
    "lr.fit(X_train, y_train)"
   ]
  },
  {
   "cell_type": "code",
   "execution_count": 48,
   "metadata": {
    "execution": {
     "iopub.execute_input": "2020-10-22T10:33:31.850881Z",
     "iopub.status.busy": "2020-10-22T10:33:31.849946Z",
     "iopub.status.idle": "2020-10-22T10:33:32.114306Z",
     "shell.execute_reply": "2020-10-22T10:33:32.113798Z"
    },
    "papermill": {
     "duration": 0.96646,
     "end_time": "2020-10-22T10:33:32.114395",
     "exception": false,
     "start_time": "2020-10-22T10:33:31.147935",
     "status": "completed"
    },
    "tags": []
   },
   "outputs": [
    {
     "data": {
      "text/plain": [
       "RandomForestClassifier(random_state=1)"
      ]
     },
     "execution_count": 48,
     "metadata": {},
     "output_type": "execute_result"
    }
   ],
   "source": [
    "rf = RandomForestClassifier(random_state = 1)\n",
    "rf.fit(X_train, y_train)"
   ]
  },
  {
   "cell_type": "markdown",
   "metadata": {
    "papermill": {
     "duration": 0.656884,
     "end_time": "2020-10-22T10:33:33.429981",
     "exception": false,
     "start_time": "2020-10-22T10:33:32.773097",
     "status": "completed"
    },
    "tags": []
   },
   "source": [
    "Predicting on Validation Set."
   ]
  },
  {
   "cell_type": "code",
   "execution_count": 49,
   "metadata": {
    "execution": {
     "iopub.execute_input": "2020-10-22T10:33:34.754633Z",
     "iopub.status.busy": "2020-10-22T10:33:34.754091Z",
     "iopub.status.idle": "2020-10-22T10:33:35.438638Z",
     "shell.execute_reply": "2020-10-22T10:33:35.438125Z"
    },
    "papermill": {
     "duration": 1.349187,
     "end_time": "2020-10-22T10:33:35.438728",
     "exception": false,
     "start_time": "2020-10-22T10:33:34.089541",
     "status": "completed"
    },
    "tags": []
   },
   "outputs": [],
   "source": [
    "#Valid preds\n",
    "valid_preds1 = svc.predict(X_valid)\n",
    "valid_preds2 = xgb.predict(X_valid)\n",
    "valid_preds_ur3 = dl1.predict(X_valid)\n",
    "valid_preds3 = [round(x[0]) for x in valid_preds_ur3]\n",
    "valid_preds_ur4 = dl2.predict(X_valid)\n",
    "valid_preds4 = [round(x[0]) for x in valid_preds_ur4]\n",
    "valid_preds5 = knn.predict(X_valid)\n",
    "valid_preds6 = lr.predict(X_valid)\n",
    "valid_preds7 = rf.predict(X_valid)"
   ]
  },
  {
   "cell_type": "code",
   "execution_count": 50,
   "metadata": {
    "execution": {
     "iopub.execute_input": "2020-10-22T10:33:36.785487Z",
     "iopub.status.busy": "2020-10-22T10:33:36.784847Z",
     "iopub.status.idle": "2020-10-22T10:33:36.789092Z",
     "shell.execute_reply": "2020-10-22T10:33:36.788719Z"
    },
    "papermill": {
     "duration": 0.693271,
     "end_time": "2020-10-22T10:33:36.789177",
     "exception": false,
     "start_time": "2020-10-22T10:33:36.095906",
     "status": "completed"
    },
    "tags": []
   },
   "outputs": [
    {
     "data": {
      "text/plain": [
       "array([0, 0, 1, 1, 0, 0, 0, 0, 0, 0, 0, 1, 1, 0, 0, 0, 0, 0, 0, 0, 0, 1,\n",
       "       0, 0, 0, 0, 0, 1, 0, 0, 0, 1, 0, 0, 0, 0, 0, 0, 1, 0, 0, 1, 0, 1,\n",
       "       1, 0, 1, 0, 0, 1, 1, 1, 1, 0, 0, 0, 0, 0, 0, 0, 0, 0, 1, 0, 0, 0,\n",
       "       1, 0, 0, 1, 0, 1, 1, 1, 0, 1, 0, 1, 1, 0, 1, 0, 0, 0, 0, 0, 0, 0,\n",
       "       1, 0, 0, 0, 0, 1, 1, 1, 0, 0, 0, 0, 0, 0, 1, 0, 1, 1, 1, 1, 1, 1,\n",
       "       0, 1, 0, 0, 0, 0, 0, 0, 1, 0, 1, 0, 1, 1, 1, 0, 0, 1, 1, 0, 1, 1,\n",
       "       0, 0, 1, 1, 0, 1, 1, 0, 1, 1, 0, 0, 1, 0, 0, 1, 0, 0, 1, 1, 0, 1,\n",
       "       1, 0, 0, 0, 1, 0, 0, 1, 1, 0, 0, 1, 1, 0, 0, 1, 1, 0, 1, 0, 0, 0,\n",
       "       0, 1, 1, 1, 1, 0, 0, 0, 0, 0, 0, 0, 0, 0, 0, 0, 1, 0, 0, 1, 1, 1,\n",
       "       0, 0, 0, 1, 1, 0, 1, 0, 0, 1, 1, 0, 1, 0, 1, 1, 0, 0, 1, 1, 1, 1,\n",
       "       0, 0, 1, 1, 0, 0, 0, 1, 1, 1, 1, 0, 0, 0, 1, 1, 0, 1, 0, 0, 0, 1,\n",
       "       1, 0, 0, 0, 1, 0, 0, 0, 0, 0, 0, 0, 0, 0, 0, 1, 0, 0, 0, 0, 0, 0,\n",
       "       0, 1, 1, 0, 1, 0, 0, 1, 0, 1, 0, 1, 0, 0, 0, 0, 1, 1, 0, 1, 1, 1,\n",
       "       0, 1, 0, 0, 0, 0, 1, 0])"
      ]
     },
     "execution_count": 50,
     "metadata": {},
     "output_type": "execute_result"
    }
   ],
   "source": [
    "valid_preds6"
   ]
  },
  {
   "cell_type": "code",
   "execution_count": 51,
   "metadata": {
    "execution": {
     "iopub.execute_input": "2020-10-22T10:33:38.109546Z",
     "iopub.status.busy": "2020-10-22T10:33:38.109091Z",
     "iopub.status.idle": "2020-10-22T10:33:38.114099Z",
     "shell.execute_reply": "2020-10-22T10:33:38.113416Z"
    },
    "papermill": {
     "duration": 0.670807,
     "end_time": "2020-10-22T10:33:38.114189",
     "exception": false,
     "start_time": "2020-10-22T10:33:37.443382",
     "status": "completed"
    },
    "tags": []
   },
   "outputs": [
    {
     "data": {
      "text/plain": [
       "array([0, 0, 1, 1, 0, 0, 0, 0, 0, 0, 0, 1, 0, 0, 0, 1, 0, 0, 0, 0, 0, 1,\n",
       "       0, 0, 0, 0, 0, 1, 0, 0, 0, 1, 0, 0, 0, 0, 1, 0, 1, 0, 0, 1, 0, 1,\n",
       "       1, 0, 1, 0, 0, 1, 0, 1, 0, 0, 0, 0, 0, 0, 0, 0, 0, 0, 1, 0, 0, 0,\n",
       "       1, 1, 0, 0, 0, 1, 1, 0, 0, 1, 0, 1, 1, 0, 0, 0, 0, 0, 0, 0, 0, 1,\n",
       "       0, 0, 1, 0, 0, 1, 1, 1, 0, 0, 0, 0, 0, 0, 1, 0, 1, 1, 0, 1, 0, 1,\n",
       "       0, 0, 0, 0, 0, 0, 0, 0, 1, 0, 1, 0, 1, 1, 1, 0, 0, 1, 1, 0, 1, 1,\n",
       "       0, 1, 0, 1, 0, 1, 1, 0, 1, 1, 0, 0, 1, 0, 0, 1, 0, 0, 0, 1, 0, 1,\n",
       "       1, 0, 0, 0, 1, 0, 0, 1, 1, 0, 0, 1, 1, 0, 0, 1, 1, 1, 1, 0, 0, 0,\n",
       "       1, 1, 1, 1, 1, 0, 0, 0, 0, 0, 0, 0, 0, 0, 0, 0, 1, 0, 0, 1, 1, 1,\n",
       "       0, 0, 0, 1, 1, 0, 1, 0, 0, 1, 1, 0, 1, 1, 1, 1, 0, 0, 1, 1, 1, 0,\n",
       "       0, 0, 1, 1, 0, 0, 0, 1, 0, 1, 0, 0, 0, 0, 1, 1, 0, 1, 0, 0, 0, 1,\n",
       "       1, 0, 0, 0, 1, 0, 0, 0, 0, 1, 0, 0, 0, 0, 0, 1, 0, 0, 0, 0, 0, 0,\n",
       "       0, 1, 1, 0, 0, 0, 0, 1, 0, 1, 0, 1, 0, 0, 0, 0, 0, 1, 0, 1, 1, 1,\n",
       "       0, 1, 0, 0, 0, 0, 0, 0])"
      ]
     },
     "execution_count": 51,
     "metadata": {},
     "output_type": "execute_result"
    }
   ],
   "source": [
    "valid_preds7"
   ]
  },
  {
   "cell_type": "markdown",
   "metadata": {
    "papermill": {
     "duration": 0.688757,
     "end_time": "2020-10-22T10:33:39.460256",
     "exception": false,
     "start_time": "2020-10-22T10:33:38.771499",
     "status": "completed"
    },
    "tags": []
   },
   "source": [
    "Validation scores of our models."
   ]
  },
  {
   "cell_type": "code",
   "execution_count": 52,
   "metadata": {
    "execution": {
     "iopub.execute_input": "2020-10-22T10:33:40.785811Z",
     "iopub.status.busy": "2020-10-22T10:33:40.785283Z",
     "iopub.status.idle": "2020-10-22T10:33:40.797136Z",
     "shell.execute_reply": "2020-10-22T10:33:40.796675Z"
    },
    "papermill": {
     "duration": 0.683184,
     "end_time": "2020-10-22T10:33:40.797244",
     "exception": false,
     "start_time": "2020-10-22T10:33:40.114060",
     "status": "completed"
    },
    "tags": []
   },
   "outputs": [
    {
     "name": "stdout",
     "output_type": "stream",
     "text": [
      "SVC: 0.8163265306122449\n",
      "XGB: 0.8129251700680272\n",
      "DL1: 0.6360544217687075\n",
      "DL2: 0.8027210884353742\n",
      "KNN: 0.7891156462585034\n",
      "LR: 0.7891156462585034\n",
      "RF: 0.7891156462585034\n"
     ]
    }
   ],
   "source": [
    "from sklearn.metrics import accuracy_score\n",
    "print(\"SVC:\", accuracy_score(y_valid, valid_preds1))\n",
    "print(\"XGB:\", accuracy_score(y_valid, valid_preds2))\n",
    "print(\"DL1:\", accuracy_score(y_valid, valid_preds3))\n",
    "print(\"DL2:\", accuracy_score(y_valid, valid_preds4))\n",
    "print(\"KNN:\", accuracy_score(y_valid, valid_preds5))\n",
    "print(\"LR:\", accuracy_score(y_valid, valid_preds5))\n",
    "print(\"RF:\", accuracy_score(y_valid, valid_preds5))"
   ]
  },
  {
   "cell_type": "raw",
   "metadata": {
    "papermill": {
     "duration": 0.655676,
     "end_time": "2020-10-22T10:33:42.118872",
     "exception": false,
     "start_time": "2020-10-22T10:33:41.463196",
     "status": "completed"
    },
    "tags": []
   },
   "source": [
    "Prediciting on test set."
   ]
  },
  {
   "cell_type": "code",
   "execution_count": 53,
   "metadata": {
    "execution": {
     "iopub.execute_input": "2020-10-22T10:33:43.445859Z",
     "iopub.status.busy": "2020-10-22T10:33:43.445133Z",
     "iopub.status.idle": "2020-10-22T10:33:44.275160Z",
     "shell.execute_reply": "2020-10-22T10:33:44.274473Z"
    },
    "papermill": {
     "duration": 1.503179,
     "end_time": "2020-10-22T10:33:44.275271",
     "exception": false,
     "start_time": "2020-10-22T10:33:42.772092",
     "status": "completed"
    },
    "tags": []
   },
   "outputs": [],
   "source": [
    "#Test preds\n",
    "test_preds1 = svc.predict(test_hot)\n",
    "test_preds2 = xgb.predict(test_hot)\n",
    "test_preds_ur3 = dl1.predict(test_hot)\n",
    "test_preds3 = [round(x[0]) for x in test_preds_ur3]\n",
    "test_preds_ur4 = dl2.predict(test_hot)\n",
    "test_preds4 = [round(x[0]) for x in test_preds_ur4]\n",
    "test_preds5 = knn.predict(test_hot)\n",
    "test_preds6 = lr.predict(test_hot)\n",
    "test_preds7 = rf.predict(test_hot)"
   ]
  },
  {
   "cell_type": "code",
   "execution_count": 54,
   "metadata": {
    "execution": {
     "iopub.execute_input": "2020-10-22T10:33:46.289340Z",
     "iopub.status.busy": "2020-10-22T10:33:46.288654Z",
     "iopub.status.idle": "2020-10-22T10:33:46.294800Z",
     "shell.execute_reply": "2020-10-22T10:33:46.294115Z"
    },
    "papermill": {
     "duration": 1.012248,
     "end_time": "2020-10-22T10:33:46.294892",
     "exception": false,
     "start_time": "2020-10-22T10:33:45.282644",
     "status": "completed"
    },
    "tags": []
   },
   "outputs": [
    {
     "data": {
      "text/plain": [
       "array([0, 0, 0, 0, 0, 0, 1, 0, 1, 0, 0, 0, 1, 0, 1, 1, 0, 0, 0, 1, 0, 1,\n",
       "       1, 0, 1, 0, 1, 0, 0, 0, 0, 0, 0, 0, 0, 0, 0, 0, 0, 0, 0, 0, 0, 1,\n",
       "       1, 0, 0, 0, 1, 1, 0, 0, 0, 0, 0, 0, 0, 0, 0, 1, 0, 0, 0, 1, 1, 1,\n",
       "       1, 0, 0, 1, 1, 0, 0, 0, 1, 0, 0, 1, 0, 1, 0, 0, 0, 0, 0, 0, 1, 0,\n",
       "       1, 1, 1, 0, 1, 0, 0, 0, 1, 0, 0, 0, 1, 0, 0, 0, 1, 0, 0, 0, 0, 0,\n",
       "       0, 1, 1, 1, 1, 0, 0, 1, 0, 1, 1, 0, 1, 0, 0, 0, 0, 0, 0, 0, 0, 0,\n",
       "       0, 0, 0, 0, 0, 0, 0, 0, 0, 1, 0, 0, 0, 0, 0, 0, 0, 0, 1, 0, 0, 0,\n",
       "       0, 0, 1, 0, 0, 1, 1, 0, 1, 0, 0, 0, 0, 0, 1, 0, 0, 0, 0, 0, 0, 1,\n",
       "       1, 0, 1, 1, 0, 0, 1, 0, 1, 0, 1, 0, 0, 0, 0, 0, 0, 0, 1, 0, 1, 1,\n",
       "       0, 1, 1, 0, 0, 1, 0, 0, 0, 0, 1, 0, 0, 0, 0, 0, 0, 0, 1, 0, 1, 0,\n",
       "       1, 0, 1, 0, 1, 1, 0, 1, 0, 0, 0, 1, 0, 0, 0, 0, 0, 0, 0, 1, 1, 1,\n",
       "       0, 0, 0, 0, 1, 0, 1, 1, 1, 0, 0, 0, 0, 0, 0, 0, 1, 0, 0, 0, 1, 0,\n",
       "       0, 0, 0, 0, 0, 0, 0, 0, 1, 0, 0, 1, 0, 0, 0, 0, 0, 0, 1, 0, 0, 0,\n",
       "       0, 0, 0, 0, 0, 1, 0, 0, 0, 0, 1, 0, 0, 0, 0, 0, 0, 0, 1, 1, 0, 1,\n",
       "       0, 0, 0, 0, 0, 0, 1, 1, 0, 0, 0, 0, 0, 0, 0, 0, 1, 0, 1, 0, 0, 0,\n",
       "       1, 0, 0, 1, 0, 0, 0, 0, 0, 0, 0, 0, 0, 1, 0, 1, 0, 1, 0, 1, 1, 0,\n",
       "       0, 0, 0, 0, 1, 0, 0, 0, 0, 1, 1, 0, 1, 0, 0, 0, 1, 0, 0, 1, 0, 0,\n",
       "       1, 1, 0, 0, 0, 0, 0, 0, 1, 1, 0, 1, 0, 0, 0, 0, 0, 1, 1, 0, 0, 1,\n",
       "       0, 1, 0, 0, 1, 0, 1, 0, 0, 0, 0, 0, 1, 0, 1, 1, 0, 0, 1, 0, 0, 0])"
      ]
     },
     "execution_count": 54,
     "metadata": {},
     "output_type": "execute_result"
    }
   ],
   "source": [
    "test_preds6"
   ]
  },
  {
   "cell_type": "code",
   "execution_count": 55,
   "metadata": {
    "execution": {
     "iopub.execute_input": "2020-10-22T10:33:47.637976Z",
     "iopub.status.busy": "2020-10-22T10:33:47.637275Z",
     "iopub.status.idle": "2020-10-22T10:33:47.642265Z",
     "shell.execute_reply": "2020-10-22T10:33:47.642671Z"
    },
    "papermill": {
     "duration": 0.683399,
     "end_time": "2020-10-22T10:33:47.642803",
     "exception": false,
     "start_time": "2020-10-22T10:33:46.959404",
     "status": "completed"
    },
    "tags": []
   },
   "outputs": [
    {
     "data": {
      "text/plain": [
       "array([0, 0, 0, 0, 1, 0, 1, 0, 1, 0, 0, 0, 1, 0, 1, 1, 0, 0, 0, 1, 0, 1,\n",
       "       1, 0, 1, 0, 1, 0, 0, 0, 0, 0, 1, 0, 0, 0, 0, 0, 0, 1, 0, 0, 0, 1,\n",
       "       1, 0, 0, 0, 1, 1, 0, 0, 1, 1, 0, 0, 0, 0, 0, 1, 0, 0, 0, 1, 1, 1,\n",
       "       1, 0, 0, 1, 1, 0, 0, 0, 1, 0, 0, 1, 0, 1, 1, 0, 0, 0, 0, 0, 1, 1,\n",
       "       1, 1, 1, 0, 1, 0, 0, 0, 1, 0, 0, 0, 1, 0, 0, 0, 1, 0, 0, 0, 0, 0,\n",
       "       0, 1, 1, 1, 1, 0, 0, 1, 0, 1, 1, 0, 1, 0, 0, 1, 0, 1, 0, 0, 0, 1,\n",
       "       0, 0, 0, 0, 0, 0, 0, 0, 0, 1, 0, 0, 0, 0, 0, 0, 0, 0, 1, 0, 0, 1,\n",
       "       0, 0, 1, 0, 0, 1, 1, 1, 1, 0, 0, 1, 0, 0, 1, 0, 0, 0, 0, 0, 0, 1,\n",
       "       1, 0, 1, 1, 0, 0, 1, 0, 1, 0, 1, 0, 0, 0, 0, 0, 1, 0, 1, 0, 1, 1,\n",
       "       0, 1, 1, 1, 1, 1, 0, 0, 1, 0, 1, 0, 0, 0, 0, 1, 0, 0, 1, 0, 1, 0,\n",
       "       1, 0, 1, 0, 1, 1, 0, 1, 0, 0, 0, 1, 0, 0, 0, 0, 1, 0, 1, 1, 1, 1,\n",
       "       0, 0, 0, 0, 1, 0, 1, 1, 1, 0, 0, 0, 0, 0, 0, 0, 1, 0, 0, 0, 1, 1,\n",
       "       0, 0, 0, 0, 1, 0, 0, 0, 1, 1, 0, 1, 0, 0, 0, 0, 0, 1, 1, 1, 1, 0,\n",
       "       0, 0, 0, 0, 0, 1, 0, 1, 0, 0, 1, 0, 0, 0, 0, 0, 0, 0, 1, 1, 0, 1,\n",
       "       0, 1, 0, 0, 0, 1, 1, 1, 0, 0, 0, 0, 0, 0, 0, 0, 1, 0, 1, 0, 0, 0,\n",
       "       1, 0, 0, 1, 0, 0, 0, 0, 0, 1, 0, 0, 0, 1, 0, 0, 0, 1, 0, 1, 1, 0,\n",
       "       0, 0, 1, 0, 1, 0, 0, 1, 0, 1, 1, 0, 1, 0, 0, 1, 1, 0, 0, 1, 0, 0,\n",
       "       1, 1, 0, 0, 0, 0, 0, 0, 1, 1, 0, 1, 0, 0, 0, 0, 0, 1, 1, 0, 0, 1,\n",
       "       0, 1, 0, 0, 1, 0, 1, 0, 1, 0, 0, 0, 1, 1, 1, 1, 0, 0, 1, 0, 0, 1])"
      ]
     },
     "execution_count": 55,
     "metadata": {},
     "output_type": "execute_result"
    }
   ],
   "source": [
    "test_preds7"
   ]
  },
  {
   "cell_type": "markdown",
   "metadata": {
    "papermill": {
     "duration": 0.687186,
     "end_time": "2020-10-22T10:33:49.067990",
     "exception": false,
     "start_time": "2020-10-22T10:33:48.380804",
     "status": "completed"
    },
    "tags": []
   },
   "source": [
    "Stacking our Predictions to pass on to the meta model."
   ]
  },
  {
   "cell_type": "code",
   "execution_count": 56,
   "metadata": {
    "execution": {
     "iopub.execute_input": "2020-10-22T10:33:50.444769Z",
     "iopub.status.busy": "2020-10-22T10:33:50.444054Z",
     "iopub.status.idle": "2020-10-22T10:33:50.447089Z",
     "shell.execute_reply": "2020-10-22T10:33:50.446509Z"
    },
    "papermill": {
     "duration": 0.722432,
     "end_time": "2020-10-22T10:33:50.447175",
     "exception": false,
     "start_time": "2020-10-22T10:33:49.724743",
     "status": "completed"
    },
    "tags": []
   },
   "outputs": [],
   "source": [
    "stacked_predictions = np.column_stack([valid_preds1,valid_preds2,valid_preds3,valid_preds4, valid_preds5, valid_preds6, valid_preds7])\n",
    "stacked_test_predictions = np.column_stack([test_preds1,test_preds2,test_preds3,test_preds4, test_preds5, test_preds6, test_preds7])"
   ]
  },
  {
   "cell_type": "code",
   "execution_count": 57,
   "metadata": {
    "execution": {
     "iopub.execute_input": "2020-10-22T10:33:51.789099Z",
     "iopub.status.busy": "2020-10-22T10:33:51.788580Z",
     "iopub.status.idle": "2020-10-22T10:33:51.794592Z",
     "shell.execute_reply": "2020-10-22T10:33:51.794139Z"
    },
    "papermill": {
     "duration": 0.665853,
     "end_time": "2020-10-22T10:33:51.794716",
     "exception": false,
     "start_time": "2020-10-22T10:33:51.128863",
     "status": "completed"
    },
    "tags": []
   },
   "outputs": [
    {
     "data": {
      "text/plain": [
       "array([[0., 0., 1., ..., 0., 0., 0.],\n",
       "       [0., 0., 0., ..., 0., 0., 0.],\n",
       "       [1., 1., 1., ..., 1., 1., 1.],\n",
       "       ...,\n",
       "       [0., 1., 1., ..., 0., 0., 0.],\n",
       "       [1., 1., 1., ..., 0., 1., 0.],\n",
       "       [0., 1., 1., ..., 0., 0., 0.]])"
      ]
     },
     "execution_count": 57,
     "metadata": {},
     "output_type": "execute_result"
    }
   ],
   "source": [
    "stacked_predictions"
   ]
  },
  {
   "cell_type": "code",
   "execution_count": 58,
   "metadata": {
    "execution": {
     "iopub.execute_input": "2020-10-22T10:33:53.153848Z",
     "iopub.status.busy": "2020-10-22T10:33:53.153050Z",
     "iopub.status.idle": "2020-10-22T10:33:53.157976Z",
     "shell.execute_reply": "2020-10-22T10:33:53.157280Z"
    },
    "papermill": {
     "duration": 0.687347,
     "end_time": "2020-10-22T10:33:53.158095",
     "exception": false,
     "start_time": "2020-10-22T10:33:52.470748",
     "status": "completed"
    },
    "tags": []
   },
   "outputs": [
    {
     "data": {
      "text/plain": [
       "array([[0., 0., 0., ..., 0., 0., 0.],\n",
       "       [1., 0., 1., ..., 1., 0., 0.],\n",
       "       [0., 0., 0., ..., 0., 0., 0.],\n",
       "       ...,\n",
       "       [0., 0., 0., ..., 0., 0., 0.],\n",
       "       [0., 0., 1., ..., 1., 0., 0.],\n",
       "       [1., 1., 1., ..., 1., 0., 1.]])"
      ]
     },
     "execution_count": 58,
     "metadata": {},
     "output_type": "execute_result"
    }
   ],
   "source": [
    "stacked_test_predictions"
   ]
  },
  {
   "cell_type": "markdown",
   "metadata": {
    "papermill": {
     "duration": 0.997123,
     "end_time": "2020-10-22T10:33:55.169026",
     "exception": false,
     "start_time": "2020-10-22T10:33:54.171903",
     "status": "completed"
    },
    "tags": []
   },
   "source": [
    "Training our Level 2 meta model on the stacked predictions of our Level 1 models."
   ]
  },
  {
   "cell_type": "code",
   "execution_count": 59,
   "metadata": {
    "execution": {
     "iopub.execute_input": "2020-10-22T10:33:57.241570Z",
     "iopub.status.busy": "2020-10-22T10:33:57.233188Z",
     "iopub.status.idle": "2020-10-22T10:33:57.281303Z",
     "shell.execute_reply": "2020-10-22T10:33:57.280733Z"
    },
    "papermill": {
     "duration": 1.112278,
     "end_time": "2020-10-22T10:33:57.281426",
     "exception": false,
     "start_time": "2020-10-22T10:33:56.169148",
     "status": "completed"
    },
    "tags": []
   },
   "outputs": [
    {
     "data": {
      "text/plain": [
       "[0.0,\n",
       " 0.0,\n",
       " 0.0,\n",
       " 0.0,\n",
       " 1.0,\n",
       " 0.0,\n",
       " 1.0,\n",
       " 0.0,\n",
       " 1.0,\n",
       " 0.0,\n",
       " -0.0,\n",
       " 0.0,\n",
       " 1.0,\n",
       " 0.0,\n",
       " 1.0,\n",
       " 1.0,\n",
       " 0.0,\n",
       " 0.0,\n",
       " 0.0,\n",
       " 1.0,\n",
       " 0.0,\n",
       " 1.0,\n",
       " 1.0,\n",
       " 0.0,\n",
       " 1.0,\n",
       " 0.0,\n",
       " 1.0,\n",
       " 0.0,\n",
       " 0.0,\n",
       " 0.0,\n",
       " 0.0,\n",
       " 0.0,\n",
       " 1.0,\n",
       " -0.0,\n",
       " -0.0,\n",
       " 0.0,\n",
       " 1.0,\n",
       " 0.0,\n",
       " 0.0,\n",
       " 1.0,\n",
       " 0.0,\n",
       " 1.0,\n",
       " 0.0,\n",
       " 1.0,\n",
       " 1.0,\n",
       " 0.0,\n",
       " 0.0,\n",
       " 0.0,\n",
       " 1.0,\n",
       " 1.0,\n",
       " 0.0,\n",
       " 0.0,\n",
       " 1.0,\n",
       " 1.0,\n",
       " 0.0,\n",
       " 0.0,\n",
       " 0.0,\n",
       " 0.0,\n",
       " 0.0,\n",
       " 1.0,\n",
       " 0.0,\n",
       " 0.0,\n",
       " 0.0,\n",
       " 1.0,\n",
       " 1.0,\n",
       " 1.0,\n",
       " 1.0,\n",
       " 0.0,\n",
       " -0.0,\n",
       " 0.0,\n",
       " 1.0,\n",
       " 0.0,\n",
       " 0.0,\n",
       " 0.0,\n",
       " 1.0,\n",
       " 0.0,\n",
       " -0.0,\n",
       " 1.0,\n",
       " 0.0,\n",
       " 1.0,\n",
       " 0.0,\n",
       " -0.0,\n",
       " 0.0,\n",
       " -0.0,\n",
       " 0.0,\n",
       " 0.0,\n",
       " 1.0,\n",
       " 1.0,\n",
       " 1.0,\n",
       " 1.0,\n",
       " 0.0,\n",
       " 0.0,\n",
       " 1.0,\n",
       " -0.0,\n",
       " -0.0,\n",
       " 0.0,\n",
       " 1.0,\n",
       " 0.0,\n",
       " 0.0,\n",
       " 0.0,\n",
       " 1.0,\n",
       " 0.0,\n",
       " 0.0,\n",
       " 0.0,\n",
       " 1.0,\n",
       " 1.0,\n",
       " 0.0,\n",
       " 0.0,\n",
       " 0.0,\n",
       " 0.0,\n",
       " 0.0,\n",
       " 1.0,\n",
       " 1.0,\n",
       " 1.0,\n",
       " 1.0,\n",
       " 0.0,\n",
       " 0.0,\n",
       " 1.0,\n",
       " 0.0,\n",
       " 1.0,\n",
       " 1.0,\n",
       " 0.0,\n",
       " 1.0,\n",
       " 0.0,\n",
       " 0.0,\n",
       " 0.0,\n",
       " 0.0,\n",
       " 1.0,\n",
       " 0.0,\n",
       " 0.0,\n",
       " 0.0,\n",
       " 0.0,\n",
       " 0.0,\n",
       " 0.0,\n",
       " 0.0,\n",
       " 0.0,\n",
       " 0.0,\n",
       " 0.0,\n",
       " 0.0,\n",
       " 0.0,\n",
       " 0.0,\n",
       " 1.0,\n",
       " -0.0,\n",
       " 0.0,\n",
       " 0.0,\n",
       " 0.0,\n",
       " 0.0,\n",
       " 0.0,\n",
       " 0.0,\n",
       " 0.0,\n",
       " 1.0,\n",
       " 0.0,\n",
       " 0.0,\n",
       " 1.0,\n",
       " 0.0,\n",
       " 0.0,\n",
       " 1.0,\n",
       " 1.0,\n",
       " 0.0,\n",
       " 1.0,\n",
       " 1.0,\n",
       " 1.0,\n",
       " 1.0,\n",
       " 0.0,\n",
       " 0.0,\n",
       " 0.0,\n",
       " 0.0,\n",
       " 0.0,\n",
       " 1.0,\n",
       " 0.0,\n",
       " 0.0,\n",
       " 0.0,\n",
       " 0.0,\n",
       " 0.0,\n",
       " 0.0,\n",
       " 1.0,\n",
       " 1.0,\n",
       " 0.0,\n",
       " 1.0,\n",
       " 1.0,\n",
       " 0.0,\n",
       " 0.0,\n",
       " 1.0,\n",
       " 0.0,\n",
       " 1.0,\n",
       " 0.0,\n",
       " 1.0,\n",
       " 0.0,\n",
       " 0.0,\n",
       " 0.0,\n",
       " 0.0,\n",
       " 0.0,\n",
       " 1.0,\n",
       " 0.0,\n",
       " 1.0,\n",
       " 0.0,\n",
       " 1.0,\n",
       " 1.0,\n",
       " 0.0,\n",
       " 1.0,\n",
       " 1.0,\n",
       " 1.0,\n",
       " 0.0,\n",
       " 1.0,\n",
       " 0.0,\n",
       " 0.0,\n",
       " 1.0,\n",
       " 0.0,\n",
       " 1.0,\n",
       " 0.0,\n",
       " 0.0,\n",
       " 0.0,\n",
       " 0.0,\n",
       " 1.0,\n",
       " 0.0,\n",
       " 0.0,\n",
       " 1.0,\n",
       " 0.0,\n",
       " 1.0,\n",
       " -0.0,\n",
       " 1.0,\n",
       " 0.0,\n",
       " 1.0,\n",
       " 0.0,\n",
       " 1.0,\n",
       " 1.0,\n",
       " 0.0,\n",
       " 1.0,\n",
       " 0.0,\n",
       " 0.0,\n",
       " 0.0,\n",
       " 1.0,\n",
       " 0.0,\n",
       " 0.0,\n",
       " 0.0,\n",
       " 0.0,\n",
       " 0.0,\n",
       " 0.0,\n",
       " 1.0,\n",
       " 1.0,\n",
       " 1.0,\n",
       " 1.0,\n",
       " 0.0,\n",
       " -0.0,\n",
       " 0.0,\n",
       " 0.0,\n",
       " 1.0,\n",
       " 0.0,\n",
       " 1.0,\n",
       " 1.0,\n",
       " 1.0,\n",
       " 0.0,\n",
       " 0.0,\n",
       " 0.0,\n",
       " 0.0,\n",
       " 0.0,\n",
       " 0.0,\n",
       " -0.0,\n",
       " 1.0,\n",
       " 0.0,\n",
       " 0.0,\n",
       " 0.0,\n",
       " 1.0,\n",
       " 1.0,\n",
       " 0.0,\n",
       " -0.0,\n",
       " 0.0,\n",
       " 0.0,\n",
       " 1.0,\n",
       " 0.0,\n",
       " 0.0,\n",
       " 0.0,\n",
       " 1.0,\n",
       " 1.0,\n",
       " 0.0,\n",
       " 1.0,\n",
       " 0.0,\n",
       " 0.0,\n",
       " 0.0,\n",
       " 0.0,\n",
       " 0.0,\n",
       " 1.0,\n",
       " 1.0,\n",
       " 1.0,\n",
       " 0.0,\n",
       " 0.0,\n",
       " 0.0,\n",
       " 0.0,\n",
       " 0.0,\n",
       " 0.0,\n",
       " 0.0,\n",
       " 1.0,\n",
       " 0.0,\n",
       " 1.0,\n",
       " 0.0,\n",
       " 0.0,\n",
       " 1.0,\n",
       " 0.0,\n",
       " 0.0,\n",
       " 0.0,\n",
       " 0.0,\n",
       " 1.0,\n",
       " 0.0,\n",
       " 0.0,\n",
       " 1.0,\n",
       " 1.0,\n",
       " -0.0,\n",
       " 1.0,\n",
       " 0.0,\n",
       " 1.0,\n",
       " 0.0,\n",
       " 0.0,\n",
       " 0.0,\n",
       " 0.0,\n",
       " 1.0,\n",
       " 1.0,\n",
       " 0.0,\n",
       " 0.0,\n",
       " 0.0,\n",
       " 0.0,\n",
       " 0.0,\n",
       " 0.0,\n",
       " 0.0,\n",
       " 0.0,\n",
       " 1.0,\n",
       " 0.0,\n",
       " 1.0,\n",
       " 0.0,\n",
       " 0.0,\n",
       " 0.0,\n",
       " 1.0,\n",
       " 0.0,\n",
       " 0.0,\n",
       " 1.0,\n",
       " 0.0,\n",
       " 0.0,\n",
       " 0.0,\n",
       " 0.0,\n",
       " 0.0,\n",
       " 1.0,\n",
       " 0.0,\n",
       " 0.0,\n",
       " 0.0,\n",
       " 1.0,\n",
       " 0.0,\n",
       " 1.0,\n",
       " 0.0,\n",
       " 1.0,\n",
       " 0.0,\n",
       " 1.0,\n",
       " 1.0,\n",
       " 0.0,\n",
       " 0.0,\n",
       " 0.0,\n",
       " 1.0,\n",
       " 0.0,\n",
       " 1.0,\n",
       " -0.0,\n",
       " 0.0,\n",
       " 0.0,\n",
       " 0.0,\n",
       " 1.0,\n",
       " 1.0,\n",
       " 0.0,\n",
       " 1.0,\n",
       " 0.0,\n",
       " 0.0,\n",
       " 0.0,\n",
       " 1.0,\n",
       " 0.0,\n",
       " 0.0,\n",
       " 1.0,\n",
       " 0.0,\n",
       " 0.0,\n",
       " 1.0,\n",
       " 1.0,\n",
       " 0.0,\n",
       " 0.0,\n",
       " 0.0,\n",
       " 0.0,\n",
       " 0.0,\n",
       " 0.0,\n",
       " 1.0,\n",
       " 0.0,\n",
       " 0.0,\n",
       " 1.0,\n",
       " 0.0,\n",
       " 0.0,\n",
       " 0.0,\n",
       " 0.0,\n",
       " 0.0,\n",
       " 1.0,\n",
       " 1.0,\n",
       " 0.0,\n",
       " 0.0,\n",
       " 1.0,\n",
       " 0.0,\n",
       " 1.0,\n",
       " 0.0,\n",
       " 0.0,\n",
       " 1.0,\n",
       " 0.0,\n",
       " 1.0,\n",
       " 0.0,\n",
       " 0.0,\n",
       " 0.0,\n",
       " 0.0,\n",
       " -0.0,\n",
       " 1.0,\n",
       " 1.0,\n",
       " 1.0,\n",
       " 1.0,\n",
       " 1.0,\n",
       " 0.0,\n",
       " 1.0,\n",
       " 0.0,\n",
       " -0.0,\n",
       " 1.0]"
      ]
     },
     "execution_count": 59,
     "metadata": {},
     "output_type": "execute_result"
    }
   ],
   "source": [
    "from sklearn.linear_model import LinearRegression\n",
    "#Making our Final predictions of ensemble.\n",
    "meta_model = LinearRegression()\n",
    "meta_model.fit(stacked_predictions, y_valid)\n",
    "meta_predictions_ur = meta_model.predict(stacked_test_predictions)\n",
    "preds = [round(x) for x in meta_predictions_ur]\n",
    "preds"
   ]
  },
  {
   "cell_type": "code",
   "execution_count": 60,
   "metadata": {
    "execution": {
     "iopub.execute_input": "2020-10-22T10:33:58.648647Z",
     "iopub.status.busy": "2020-10-22T10:33:58.648081Z",
     "iopub.status.idle": "2020-10-22T10:33:58.652711Z",
     "shell.execute_reply": "2020-10-22T10:33:58.652192Z"
    },
    "papermill": {
     "duration": 0.702318,
     "end_time": "2020-10-22T10:33:58.652801",
     "exception": false,
     "start_time": "2020-10-22T10:33:57.950483",
     "status": "completed"
    },
    "tags": []
   },
   "outputs": [
    {
     "data": {
      "text/html": [
       "<div>\n",
       "<style scoped>\n",
       "    .dataframe tbody tr th:only-of-type {\n",
       "        vertical-align: middle;\n",
       "    }\n",
       "\n",
       "    .dataframe tbody tr th {\n",
       "        vertical-align: top;\n",
       "    }\n",
       "\n",
       "    .dataframe thead th {\n",
       "        text-align: right;\n",
       "    }\n",
       "</style>\n",
       "<table border=\"1\" class=\"dataframe\">\n",
       "  <thead>\n",
       "    <tr style=\"text-align: right;\">\n",
       "      <th></th>\n",
       "      <th>PassengerId</th>\n",
       "      <th>Survived</th>\n",
       "    </tr>\n",
       "  </thead>\n",
       "  <tbody>\n",
       "    <tr>\n",
       "      <th>0</th>\n",
       "      <td>892</td>\n",
       "      <td>0</td>\n",
       "    </tr>\n",
       "    <tr>\n",
       "      <th>1</th>\n",
       "      <td>893</td>\n",
       "      <td>1</td>\n",
       "    </tr>\n",
       "    <tr>\n",
       "      <th>2</th>\n",
       "      <td>894</td>\n",
       "      <td>0</td>\n",
       "    </tr>\n",
       "    <tr>\n",
       "      <th>3</th>\n",
       "      <td>895</td>\n",
       "      <td>0</td>\n",
       "    </tr>\n",
       "    <tr>\n",
       "      <th>4</th>\n",
       "      <td>896</td>\n",
       "      <td>1</td>\n",
       "    </tr>\n",
       "  </tbody>\n",
       "</table>\n",
       "</div>"
      ],
      "text/plain": [
       "   PassengerId  Survived\n",
       "0          892         0\n",
       "1          893         1\n",
       "2          894         0\n",
       "3          895         0\n",
       "4          896         1"
      ]
     },
     "execution_count": 60,
     "metadata": {},
     "output_type": "execute_result"
    }
   ],
   "source": [
    "#Checking out the sample submission\n",
    "gs.head()"
   ]
  },
  {
   "cell_type": "code",
   "execution_count": 61,
   "metadata": {
    "execution": {
     "iopub.execute_input": "2020-10-22T10:33:59.976585Z",
     "iopub.status.busy": "2020-10-22T10:33:59.975831Z",
     "iopub.status.idle": "2020-10-22T10:33:59.981559Z",
     "shell.execute_reply": "2020-10-22T10:33:59.981182Z"
    },
    "papermill": {
     "duration": 0.675663,
     "end_time": "2020-10-22T10:33:59.981679",
     "exception": false,
     "start_time": "2020-10-22T10:33:59.306016",
     "status": "completed"
    },
    "tags": []
   },
   "outputs": [
    {
     "name": "stdout",
     "output_type": "stream",
     "text": [
      "(418, 2)\n"
     ]
    },
    {
     "data": {
      "text/html": [
       "<div>\n",
       "<style scoped>\n",
       "    .dataframe tbody tr th:only-of-type {\n",
       "        vertical-align: middle;\n",
       "    }\n",
       "\n",
       "    .dataframe tbody tr th {\n",
       "        vertical-align: top;\n",
       "    }\n",
       "\n",
       "    .dataframe thead th {\n",
       "        text-align: right;\n",
       "    }\n",
       "</style>\n",
       "<table border=\"1\" class=\"dataframe\">\n",
       "  <thead>\n",
       "    <tr style=\"text-align: right;\">\n",
       "      <th></th>\n",
       "      <th>PassengerId</th>\n",
       "      <th>Survived</th>\n",
       "    </tr>\n",
       "  </thead>\n",
       "  <tbody>\n",
       "    <tr>\n",
       "      <th>0</th>\n",
       "      <td>892</td>\n",
       "      <td>0</td>\n",
       "    </tr>\n",
       "    <tr>\n",
       "      <th>1</th>\n",
       "      <td>893</td>\n",
       "      <td>0</td>\n",
       "    </tr>\n",
       "    <tr>\n",
       "      <th>2</th>\n",
       "      <td>894</td>\n",
       "      <td>0</td>\n",
       "    </tr>\n",
       "    <tr>\n",
       "      <th>3</th>\n",
       "      <td>895</td>\n",
       "      <td>0</td>\n",
       "    </tr>\n",
       "    <tr>\n",
       "      <th>4</th>\n",
       "      <td>896</td>\n",
       "      <td>1</td>\n",
       "    </tr>\n",
       "  </tbody>\n",
       "</table>\n",
       "</div>"
      ],
      "text/plain": [
       "   PassengerId  Survived\n",
       "0          892         0\n",
       "1          893         0\n",
       "2          894         0\n",
       "3          895         0\n",
       "4          896         1"
      ]
     },
     "execution_count": 61,
     "metadata": {},
     "output_type": "execute_result"
    }
   ],
   "source": [
    "df = pd.DataFrame({'PassengerId': passid,\n",
    "                  'Survived' : preds})\n",
    "df.Survived = df.Survived.astype(int)\n",
    "print(df.shape)\n",
    "df.head()"
   ]
  },
  {
   "cell_type": "code",
   "execution_count": 62,
   "metadata": {
    "execution": {
     "iopub.execute_input": "2020-10-22T10:34:01.314273Z",
     "iopub.status.busy": "2020-10-22T10:34:01.313572Z",
     "iopub.status.idle": "2020-10-22T10:34:01.317205Z",
     "shell.execute_reply": "2020-10-22T10:34:01.317690Z"
    },
    "papermill": {
     "duration": 0.672318,
     "end_time": "2020-10-22T10:34:01.317822",
     "exception": false,
     "start_time": "2020-10-22T10:34:00.645504",
     "status": "completed"
    },
    "tags": []
   },
   "outputs": [
    {
     "data": {
      "text/plain": [
       "146"
      ]
     },
     "execution_count": 62,
     "metadata": {},
     "output_type": "execute_result"
    }
   ],
   "source": [
    "df['Survived'].sum()"
   ]
  },
  {
   "cell_type": "code",
   "execution_count": 63,
   "metadata": {
    "execution": {
     "iopub.execute_input": "2020-10-22T10:34:02.659448Z",
     "iopub.status.busy": "2020-10-22T10:34:02.658959Z",
     "iopub.status.idle": "2020-10-22T10:34:02.831822Z",
     "shell.execute_reply": "2020-10-22T10:34:02.831286Z"
    },
    "papermill": {
     "duration": 0.849399,
     "end_time": "2020-10-22T10:34:02.831920",
     "exception": false,
     "start_time": "2020-10-22T10:34:01.982521",
     "status": "completed"
    },
    "tags": []
   },
   "outputs": [],
   "source": [
    "df.to_csv('submission_final.csv', index =False)"
   ]
  },
  {
   "cell_type": "code",
   "execution_count": null,
   "metadata": {
    "papermill": {
     "duration": 0.664679,
     "end_time": "2020-10-22T10:34:04.159929",
     "exception": false,
     "start_time": "2020-10-22T10:34:03.495250",
     "status": "completed"
    },
    "tags": []
   },
   "outputs": [],
   "source": []
  }
 ],
 "metadata": {
  "kernelspec": {
   "display_name": "Python 3",
   "language": "python",
   "name": "python3"
  },
  "language_info": {
   "codemirror_mode": {
    "name": "ipython",
    "version": 3
   },
   "file_extension": ".py",
   "mimetype": "text/x-python",
   "name": "python",
   "nbconvert_exporter": "python",
   "pygments_lexer": "ipython3",
   "version": "3.7.6"
  },
  "papermill": {
   "duration": 192.009233,
   "end_time": "2020-10-22T10:34:04.963869",
   "environment_variables": {},
   "exception": null,
   "input_path": "__notebook__.ipynb",
   "output_path": "__notebook__.ipynb",
   "parameters": {},
   "start_time": "2020-10-22T10:30:52.954636",
   "version": "2.1.0"
  }
 },
 "nbformat": 4,
 "nbformat_minor": 4
}
